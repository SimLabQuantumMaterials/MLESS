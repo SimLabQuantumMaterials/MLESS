{
 "cells": [
  {
   "cell_type": "code",
   "execution_count": 2,
   "id": "af24a59a-2f17-4c0a-8974-05cc053bd78f",
   "metadata": {},
   "outputs": [],
   "source": [
    "import read_data\n",
    "import featureSpan\n",
    "import Utils\n",
    "from sklearn.kernel_ridge import KernelRidge\n",
    "from sklearn.model_selection import train_test_split, cross_val_score, ShuffleSplit\n",
    "from sklearn.model_selection import GridSearchCV\n",
    "import numpy as np\n",
    "import matplotlib.pyplot as plt\n",
    "from sklearn.metrics import mean_absolute_error, mean_squared_error\n",
    "import scipy.optimize\n",
    "import scipy.stats as ss\n",
    "import pandas as pd\n",
    "import seaborn as sns\n",
    "\n",
    "import warnings\n",
    "warnings.filterwarnings('ignore')"
   ]
  },
  {
   "cell_type": "code",
   "execution_count": 3,
   "id": "4545c411-2fc8-4f28-a2b5-03f57630f950",
   "metadata": {},
   "outputs": [
    {
     "name": "stdout",
     "output_type": "stream",
     "text": [
      "(525, 4)\n"
     ]
    }
   ],
   "source": [
    "list1M = read_data.readData(\"data/DATA_HE_monazite.dat\")\n",
    "print(list1M.shape)"
   ]
  },
  {
   "cell_type": "code",
   "execution_count": 4,
   "id": "3060fa68-afba-4cca-bd52-203b61bdcf33",
   "metadata": {},
   "outputs": [
    {
     "name": "stdout",
     "output_type": "stream",
     "text": [
      "(15, 9)\n"
     ]
    }
   ],
   "source": [
    "list2M = read_data.readCSVData(\"data/Data_Ln.csv\", Volume=True)\n",
    "print(list2M.shape)"
   ]
  },
  {
   "cell_type": "code",
   "execution_count": 5,
   "id": "ad48d72a-db8a-4c72-b3db-920182f2679d",
   "metadata": {},
   "outputs": [
    {
     "name": "stdout",
     "output_type": "stream",
     "text": [
      "Shape of List1X is (525, 4)\n",
      "[[5.70000000e+01 5.80000000e+01 7.50000000e-01 2.31598225e-01]\n",
      " [5.70000000e+01 5.80000000e+01 6.25000000e-01 2.78958493e-01]\n",
      " [5.70000000e+01 5.80000000e+01 5.00000000e-01 2.97583757e-01]\n",
      " ...\n",
      " [7.00000000e+01 7.10000000e+01 5.00000000e-01 7.77590152e-02]\n",
      " [7.00000000e+01 7.10000000e+01 3.75000000e-01 7.09266168e-02]\n",
      " [7.00000000e+01 7.10000000e+01 2.50000000e-01 5.91211365e-02]]\n"
     ]
    }
   ],
   "source": [
    "list1X = read_data.readData(\"data/DATA_HE_xenotime.dat\")\n",
    "print(\"Shape of List1X is {}\".format(list1X.shape))\n",
    "print(list1X)"
   ]
  },
  {
   "cell_type": "code",
   "execution_count": 6,
   "id": "a4faec55-a14b-4cfe-9049-ebfc17d3c587",
   "metadata": {},
   "outputs": [
    {
     "name": "stdout",
     "output_type": "stream",
     "text": [
      "Shape of List2X is (15, 9)\n",
      "[[ 57.         138.90547     19.1773      91.7         11.\n",
      "    1.1         49.95        83.16086967   1.16      ]\n",
      " [ 58.         140.116       20.198       99.73        12.\n",
      "    1.12        36.758       81.11579575   1.143     ]\n",
      " [ 59.         140.90765     21.624      112.27        12.3\n",
      "    1.13        38.98        79.31176899   1.126     ]\n",
      " [ 60.         144.242       22.1        120.19        12.95\n",
      "    1.14        40.41        77.89975607   1.109     ]\n",
      " [ 61.         145.          22.3        127.26        13.6\n",
      "    1.13        41.1         76.63526873   1.093     ]\n",
      " [ 62.         150.36        23.4        137.16        14.25\n",
      "    1.17        41.4         75.42961529   1.079     ]\n",
      " [ 63.         151.964       24.92       143.83        14.9\n",
      "    1.2         42.7         74.36126731   1.066     ]\n",
      " [ 64.         157.25        20.63       149.42        15.9\n",
      "    1.2         44.          73.33463097   1.053     ]\n",
      " [ 65.         158.92535     21.91       156.33        16.2\n",
      "    1.1         39.79        72.43898327   1.04      ]\n",
      " [ 66.         162.5         22.8        163.          16.85\n",
      "    1.22        41.47        71.49567572   1.027     ]\n",
      " [ 67.         164.93032     22.84       169.12        17.5\n",
      "    1.23        42.5         70.75467386   1.015     ]\n",
      " [ 68.         167.259       22.74       177.09        18.15\n",
      "    1.24        42.7         69.85074728   1.004     ]\n",
      " [ 69.         168.93421     23.68       183.38        18.8\n",
      "    1.25        42.7         68.92826151   0.994     ]\n",
      " [ 70.         173.054       25.05       188.35        19.45\n",
      "    1.1         43.56        68.35674618   0.985     ]\n",
      " [ 71.         174.9668      20.9594     194.41        20.45\n",
      "    1.27        45.25        67.43658042   0.977     ]]\n"
     ]
    }
   ],
   "source": [
    "list2X = read_data.readCSVData(\"data/Data_Ln-xenozite.csv\", material = \"xenotime\", Volume=True)\n",
    "print(\"Shape of List2X is {}\".format(list2X.shape))\n",
    "print((list2X))"
   ]
  },
  {
   "cell_type": "code",
   "execution_count": 7,
   "id": "5409a2d1-c116-4e98-aa3f-89b28153b1ad",
   "metadata": {},
   "outputs": [
    {
     "name": "stdout",
     "output_type": "stream",
     "text": [
      "(525, 27)\n",
      "(525,)\n"
     ]
    }
   ],
   "source": [
    "listXM, listYM = featureSpan.computeMean(list1M, list2M)\n",
    "XM = np.asarray(listXM)\n",
    "YM = np.asarray(listYM)\n",
    "print(XM.shape)\n",
    "print(YM.shape)"
   ]
  },
  {
   "cell_type": "code",
   "execution_count": 8,
   "id": "5a360bd3-2f13-4b49-80f1-97cf3cdbeab6",
   "metadata": {},
   "outputs": [
    {
     "name": "stdout",
     "output_type": "stream",
     "text": [
      "(525, 27)\n",
      "(525,)\n"
     ]
    }
   ],
   "source": [
    "listXX, listYX = featureSpan.computeMean(list1X, list2X)\n",
    "XX = np.asarray(listXX)\n",
    "YX = np.asarray(listYX)\n",
    "print(XX.shape)\n",
    "print(YX.shape)"
   ]
  },
  {
   "cell_type": "code",
   "execution_count": 9,
   "id": "5d4df36a-9664-4b7f-8eca-640255f24036",
   "metadata": {},
   "outputs": [
    {
     "name": "stdout",
     "output_type": "stream",
     "text": [
      "(1050, 27)\n",
      "(1050,)\n"
     ]
    }
   ],
   "source": [
    "X = np.concatenate((XM, XX), axis=0)\n",
    "Y = np.concatenate((YM, YX), axis=0)\n",
    "print(X.shape)\n",
    "print(Y.shape)"
   ]
  },
  {
   "cell_type": "code",
   "execution_count": 10,
   "id": "8571b925-dc95-4c28-a4eb-826f081aea44",
   "metadata": {},
   "outputs": [
    {
     "name": "stdout",
     "output_type": "stream",
     "text": [
      "787 263 787 263\n"
     ]
    }
   ],
   "source": [
    "X_train, X_test, y_train, y_test = train_test_split(X, Y, test_size=0.25, random_state=24)\n",
    "print(len(X_train),len(X_test), len(y_train), len(y_test))"
   ]
  },
  {
   "cell_type": "code",
   "execution_count": 11,
   "id": "97d3a7b8-5588-4bd3-aa84-44bcb6bbc536",
   "metadata": {},
   "outputs": [],
   "source": [
    "cv = ShuffleSplit(n_splits=5, test_size=0.25, random_state=0)"
   ]
  },
  {
   "cell_type": "markdown",
   "id": "f3d20d20-c4be-430e-a334-848d5edbe0b9",
   "metadata": {},
   "source": [
    "### Polynomial Degree 3"
   ]
  },
  {
   "cell_type": "markdown",
   "id": "2f46cecc-9fda-403c-b5d9-52e656b21e49",
   "metadata": {},
   "source": [
    "#### My Optimized Hyperparameters"
   ]
  },
  {
   "cell_type": "code",
   "execution_count": 12,
   "id": "2b36e41f-36f2-460c-b471-69d20f334dce",
   "metadata": {},
   "outputs": [],
   "source": [
    "krp3 = GridSearchCV(\n",
    "    KernelRidge(kernel=\"polynomial\", gamma=0.1, degree=3),\n",
    "    param_grid={\"alpha\": np.logspace(-10, 10, 20), \"coef0\": np.logspace(-10, 10, 20), \"gamma\": np.logspace(-1.0, 1.0, 20)},\n",
    ")"
   ]
  },
  {
   "cell_type": "code",
   "execution_count": 13,
   "id": "0a83bd48-00dc-4642-8165-e261230f540b",
   "metadata": {},
   "outputs": [
    {
     "ename": "KeyboardInterrupt",
     "evalue": "",
     "output_type": "error",
     "traceback": [
      "\u001b[0;31m---------------------------------------------------------------------------\u001b[0m",
      "\u001b[0;31mLinAlgError\u001b[0m                               Traceback (most recent call last)",
      "\u001b[0;32m/usr/local/lib/python3.8/site-packages/sklearn/linear_model/_ridge.py\u001b[0m in \u001b[0;36m_solve_cholesky_kernel\u001b[0;34m(K, y, alpha, sample_weight, copy)\u001b[0m\n\u001b[1;32m    186\u001b[0m             \u001b[0;31m#       is raised\u001b[0m\u001b[0;34m\u001b[0m\u001b[0;34m\u001b[0m\u001b[0;34m\u001b[0m\u001b[0m\n\u001b[0;32m--> 187\u001b[0;31m             dual_coef = linalg.solve(K, y, sym_pos=True,\n\u001b[0m\u001b[1;32m    188\u001b[0m                                      overwrite_a=False)\n",
      "\u001b[0;32m/usr/local/lib/python3.8/site-packages/scipy/linalg/basic.py\u001b[0m in \u001b[0;36msolve\u001b[0;34m(a, b, sym_pos, lower, overwrite_a, overwrite_b, debug, check_finite, assume_a, transposed)\u001b[0m\n\u001b[1;32m    247\u001b[0m                            overwrite_b=overwrite_b)\n\u001b[0;32m--> 248\u001b[0;31m         \u001b[0m_solve_check\u001b[0m\u001b[0;34m(\u001b[0m\u001b[0mn\u001b[0m\u001b[0;34m,\u001b[0m \u001b[0minfo\u001b[0m\u001b[0;34m)\u001b[0m\u001b[0;34m\u001b[0m\u001b[0;34m\u001b[0m\u001b[0m\n\u001b[0m\u001b[1;32m    249\u001b[0m         \u001b[0mrcond\u001b[0m\u001b[0;34m,\u001b[0m \u001b[0minfo\u001b[0m \u001b[0;34m=\u001b[0m \u001b[0mpocon\u001b[0m\u001b[0;34m(\u001b[0m\u001b[0mlu\u001b[0m\u001b[0;34m,\u001b[0m \u001b[0manorm\u001b[0m\u001b[0;34m)\u001b[0m\u001b[0;34m\u001b[0m\u001b[0;34m\u001b[0m\u001b[0m\n",
      "\u001b[0;32m/usr/local/lib/python3.8/site-packages/scipy/linalg/basic.py\u001b[0m in \u001b[0;36m_solve_check\u001b[0;34m(n, info, lamch, rcond)\u001b[0m\n\u001b[1;32m     28\u001b[0m     \u001b[0;32melif\u001b[0m \u001b[0;36m0\u001b[0m \u001b[0;34m<\u001b[0m \u001b[0minfo\u001b[0m\u001b[0;34m:\u001b[0m\u001b[0;34m\u001b[0m\u001b[0;34m\u001b[0m\u001b[0m\n\u001b[0;32m---> 29\u001b[0;31m         \u001b[0;32mraise\u001b[0m \u001b[0mLinAlgError\u001b[0m\u001b[0;34m(\u001b[0m\u001b[0;34m'Matrix is singular.'\u001b[0m\u001b[0;34m)\u001b[0m\u001b[0;34m\u001b[0m\u001b[0;34m\u001b[0m\u001b[0m\n\u001b[0m\u001b[1;32m     30\u001b[0m \u001b[0;34m\u001b[0m\u001b[0m\n",
      "\u001b[0;31mLinAlgError\u001b[0m: Matrix is singular.",
      "\nDuring handling of the above exception, another exception occurred:\n",
      "\u001b[0;31mKeyboardInterrupt\u001b[0m                         Traceback (most recent call last)",
      "\u001b[0;32m<ipython-input-13-0907b00ed127>\u001b[0m in \u001b[0;36m<module>\u001b[0;34m\u001b[0m\n\u001b[0;32m----> 1\u001b[0;31m \u001b[0mkrp3\u001b[0m\u001b[0;34m.\u001b[0m\u001b[0mfit\u001b[0m\u001b[0;34m(\u001b[0m\u001b[0mX_train\u001b[0m\u001b[0;34m.\u001b[0m\u001b[0mcopy\u001b[0m\u001b[0;34m(\u001b[0m\u001b[0;34m)\u001b[0m\u001b[0;34m,\u001b[0m \u001b[0my_train\u001b[0m\u001b[0;34m.\u001b[0m\u001b[0mcopy\u001b[0m\u001b[0;34m(\u001b[0m\u001b[0;34m)\u001b[0m\u001b[0;34m)\u001b[0m\u001b[0;34m\u001b[0m\u001b[0;34m\u001b[0m\u001b[0m\n\u001b[0m",
      "\u001b[0;32m/usr/local/lib/python3.8/site-packages/sklearn/utils/validation.py\u001b[0m in \u001b[0;36minner_f\u001b[0;34m(*args, **kwargs)\u001b[0m\n\u001b[1;32m     61\u001b[0m             \u001b[0mextra_args\u001b[0m \u001b[0;34m=\u001b[0m \u001b[0mlen\u001b[0m\u001b[0;34m(\u001b[0m\u001b[0margs\u001b[0m\u001b[0;34m)\u001b[0m \u001b[0;34m-\u001b[0m \u001b[0mlen\u001b[0m\u001b[0;34m(\u001b[0m\u001b[0mall_args\u001b[0m\u001b[0;34m)\u001b[0m\u001b[0;34m\u001b[0m\u001b[0;34m\u001b[0m\u001b[0m\n\u001b[1;32m     62\u001b[0m             \u001b[0;32mif\u001b[0m \u001b[0mextra_args\u001b[0m \u001b[0;34m<=\u001b[0m \u001b[0;36m0\u001b[0m\u001b[0;34m:\u001b[0m\u001b[0;34m\u001b[0m\u001b[0;34m\u001b[0m\u001b[0m\n\u001b[0;32m---> 63\u001b[0;31m                 \u001b[0;32mreturn\u001b[0m \u001b[0mf\u001b[0m\u001b[0;34m(\u001b[0m\u001b[0;34m*\u001b[0m\u001b[0margs\u001b[0m\u001b[0;34m,\u001b[0m \u001b[0;34m**\u001b[0m\u001b[0mkwargs\u001b[0m\u001b[0;34m)\u001b[0m\u001b[0;34m\u001b[0m\u001b[0;34m\u001b[0m\u001b[0m\n\u001b[0m\u001b[1;32m     64\u001b[0m \u001b[0;34m\u001b[0m\u001b[0m\n\u001b[1;32m     65\u001b[0m             \u001b[0;31m# extra_args > 0\u001b[0m\u001b[0;34m\u001b[0m\u001b[0;34m\u001b[0m\u001b[0;34m\u001b[0m\u001b[0m\n",
      "\u001b[0;32m/usr/local/lib/python3.8/site-packages/sklearn/model_selection/_search.py\u001b[0m in \u001b[0;36mfit\u001b[0;34m(self, X, y, groups, **fit_params)\u001b[0m\n\u001b[1;32m    839\u001b[0m                 \u001b[0;32mreturn\u001b[0m \u001b[0mresults\u001b[0m\u001b[0;34m\u001b[0m\u001b[0;34m\u001b[0m\u001b[0m\n\u001b[1;32m    840\u001b[0m \u001b[0;34m\u001b[0m\u001b[0m\n\u001b[0;32m--> 841\u001b[0;31m             \u001b[0mself\u001b[0m\u001b[0;34m.\u001b[0m\u001b[0m_run_search\u001b[0m\u001b[0;34m(\u001b[0m\u001b[0mevaluate_candidates\u001b[0m\u001b[0;34m)\u001b[0m\u001b[0;34m\u001b[0m\u001b[0;34m\u001b[0m\u001b[0m\n\u001b[0m\u001b[1;32m    842\u001b[0m \u001b[0;34m\u001b[0m\u001b[0m\n\u001b[1;32m    843\u001b[0m             \u001b[0;31m# multimetric is determined here because in the case of a callable\u001b[0m\u001b[0;34m\u001b[0m\u001b[0;34m\u001b[0m\u001b[0;34m\u001b[0m\u001b[0m\n",
      "\u001b[0;32m/usr/local/lib/python3.8/site-packages/sklearn/model_selection/_search.py\u001b[0m in \u001b[0;36m_run_search\u001b[0;34m(self, evaluate_candidates)\u001b[0m\n\u001b[1;32m   1294\u001b[0m     \u001b[0;32mdef\u001b[0m \u001b[0m_run_search\u001b[0m\u001b[0;34m(\u001b[0m\u001b[0mself\u001b[0m\u001b[0;34m,\u001b[0m \u001b[0mevaluate_candidates\u001b[0m\u001b[0;34m)\u001b[0m\u001b[0;34m:\u001b[0m\u001b[0;34m\u001b[0m\u001b[0;34m\u001b[0m\u001b[0m\n\u001b[1;32m   1295\u001b[0m         \u001b[0;34m\"\"\"Search all candidates in param_grid\"\"\"\u001b[0m\u001b[0;34m\u001b[0m\u001b[0;34m\u001b[0m\u001b[0m\n\u001b[0;32m-> 1296\u001b[0;31m         \u001b[0mevaluate_candidates\u001b[0m\u001b[0;34m(\u001b[0m\u001b[0mParameterGrid\u001b[0m\u001b[0;34m(\u001b[0m\u001b[0mself\u001b[0m\u001b[0;34m.\u001b[0m\u001b[0mparam_grid\u001b[0m\u001b[0;34m)\u001b[0m\u001b[0;34m)\u001b[0m\u001b[0;34m\u001b[0m\u001b[0;34m\u001b[0m\u001b[0m\n\u001b[0m\u001b[1;32m   1297\u001b[0m \u001b[0;34m\u001b[0m\u001b[0m\n\u001b[1;32m   1298\u001b[0m \u001b[0;34m\u001b[0m\u001b[0m\n",
      "\u001b[0;32m/usr/local/lib/python3.8/site-packages/sklearn/model_selection/_search.py\u001b[0m in \u001b[0;36mevaluate_candidates\u001b[0;34m(candidate_params, cv, more_results)\u001b[0m\n\u001b[1;32m    793\u001b[0m                               n_splits, n_candidates, n_candidates * n_splits))\n\u001b[1;32m    794\u001b[0m \u001b[0;34m\u001b[0m\u001b[0m\n\u001b[0;32m--> 795\u001b[0;31m                 out = parallel(delayed(_fit_and_score)(clone(base_estimator),\n\u001b[0m\u001b[1;32m    796\u001b[0m                                                        \u001b[0mX\u001b[0m\u001b[0;34m,\u001b[0m \u001b[0my\u001b[0m\u001b[0;34m,\u001b[0m\u001b[0;34m\u001b[0m\u001b[0;34m\u001b[0m\u001b[0m\n\u001b[1;32m    797\u001b[0m                                                        \u001b[0mtrain\u001b[0m\u001b[0;34m=\u001b[0m\u001b[0mtrain\u001b[0m\u001b[0;34m,\u001b[0m \u001b[0mtest\u001b[0m\u001b[0;34m=\u001b[0m\u001b[0mtest\u001b[0m\u001b[0;34m,\u001b[0m\u001b[0;34m\u001b[0m\u001b[0;34m\u001b[0m\u001b[0m\n",
      "\u001b[0;32m/usr/local/lib/python3.8/site-packages/joblib/parallel.py\u001b[0m in \u001b[0;36m__call__\u001b[0;34m(self, iterable)\u001b[0m\n\u001b[1;32m   1042\u001b[0m                 \u001b[0mself\u001b[0m\u001b[0;34m.\u001b[0m\u001b[0m_iterating\u001b[0m \u001b[0;34m=\u001b[0m \u001b[0mself\u001b[0m\u001b[0;34m.\u001b[0m\u001b[0m_original_iterator\u001b[0m \u001b[0;32mis\u001b[0m \u001b[0;32mnot\u001b[0m \u001b[0;32mNone\u001b[0m\u001b[0;34m\u001b[0m\u001b[0;34m\u001b[0m\u001b[0m\n\u001b[1;32m   1043\u001b[0m \u001b[0;34m\u001b[0m\u001b[0m\n\u001b[0;32m-> 1044\u001b[0;31m             \u001b[0;32mwhile\u001b[0m \u001b[0mself\u001b[0m\u001b[0;34m.\u001b[0m\u001b[0mdispatch_one_batch\u001b[0m\u001b[0;34m(\u001b[0m\u001b[0miterator\u001b[0m\u001b[0;34m)\u001b[0m\u001b[0;34m:\u001b[0m\u001b[0;34m\u001b[0m\u001b[0;34m\u001b[0m\u001b[0m\n\u001b[0m\u001b[1;32m   1045\u001b[0m                 \u001b[0;32mpass\u001b[0m\u001b[0;34m\u001b[0m\u001b[0;34m\u001b[0m\u001b[0m\n\u001b[1;32m   1046\u001b[0m \u001b[0;34m\u001b[0m\u001b[0m\n",
      "\u001b[0;32m/usr/local/lib/python3.8/site-packages/joblib/parallel.py\u001b[0m in \u001b[0;36mdispatch_one_batch\u001b[0;34m(self, iterator)\u001b[0m\n\u001b[1;32m    857\u001b[0m                 \u001b[0;32mreturn\u001b[0m \u001b[0;32mFalse\u001b[0m\u001b[0;34m\u001b[0m\u001b[0;34m\u001b[0m\u001b[0m\n\u001b[1;32m    858\u001b[0m             \u001b[0;32melse\u001b[0m\u001b[0;34m:\u001b[0m\u001b[0;34m\u001b[0m\u001b[0;34m\u001b[0m\u001b[0m\n\u001b[0;32m--> 859\u001b[0;31m                 \u001b[0mself\u001b[0m\u001b[0;34m.\u001b[0m\u001b[0m_dispatch\u001b[0m\u001b[0;34m(\u001b[0m\u001b[0mtasks\u001b[0m\u001b[0;34m)\u001b[0m\u001b[0;34m\u001b[0m\u001b[0;34m\u001b[0m\u001b[0m\n\u001b[0m\u001b[1;32m    860\u001b[0m                 \u001b[0;32mreturn\u001b[0m \u001b[0;32mTrue\u001b[0m\u001b[0;34m\u001b[0m\u001b[0;34m\u001b[0m\u001b[0m\n\u001b[1;32m    861\u001b[0m \u001b[0;34m\u001b[0m\u001b[0m\n",
      "\u001b[0;32m/usr/local/lib/python3.8/site-packages/joblib/parallel.py\u001b[0m in \u001b[0;36m_dispatch\u001b[0;34m(self, batch)\u001b[0m\n\u001b[1;32m    775\u001b[0m         \u001b[0;32mwith\u001b[0m \u001b[0mself\u001b[0m\u001b[0;34m.\u001b[0m\u001b[0m_lock\u001b[0m\u001b[0;34m:\u001b[0m\u001b[0;34m\u001b[0m\u001b[0;34m\u001b[0m\u001b[0m\n\u001b[1;32m    776\u001b[0m             \u001b[0mjob_idx\u001b[0m \u001b[0;34m=\u001b[0m \u001b[0mlen\u001b[0m\u001b[0;34m(\u001b[0m\u001b[0mself\u001b[0m\u001b[0;34m.\u001b[0m\u001b[0m_jobs\u001b[0m\u001b[0;34m)\u001b[0m\u001b[0;34m\u001b[0m\u001b[0;34m\u001b[0m\u001b[0m\n\u001b[0;32m--> 777\u001b[0;31m             \u001b[0mjob\u001b[0m \u001b[0;34m=\u001b[0m \u001b[0mself\u001b[0m\u001b[0;34m.\u001b[0m\u001b[0m_backend\u001b[0m\u001b[0;34m.\u001b[0m\u001b[0mapply_async\u001b[0m\u001b[0;34m(\u001b[0m\u001b[0mbatch\u001b[0m\u001b[0;34m,\u001b[0m \u001b[0mcallback\u001b[0m\u001b[0;34m=\u001b[0m\u001b[0mcb\u001b[0m\u001b[0;34m)\u001b[0m\u001b[0;34m\u001b[0m\u001b[0;34m\u001b[0m\u001b[0m\n\u001b[0m\u001b[1;32m    778\u001b[0m             \u001b[0;31m# A job can complete so quickly than its callback is\u001b[0m\u001b[0;34m\u001b[0m\u001b[0;34m\u001b[0m\u001b[0;34m\u001b[0m\u001b[0m\n\u001b[1;32m    779\u001b[0m             \u001b[0;31m# called before we get here, causing self._jobs to\u001b[0m\u001b[0;34m\u001b[0m\u001b[0;34m\u001b[0m\u001b[0;34m\u001b[0m\u001b[0m\n",
      "\u001b[0;32m/usr/local/lib/python3.8/site-packages/joblib/_parallel_backends.py\u001b[0m in \u001b[0;36mapply_async\u001b[0;34m(self, func, callback)\u001b[0m\n\u001b[1;32m    206\u001b[0m     \u001b[0;32mdef\u001b[0m \u001b[0mapply_async\u001b[0m\u001b[0;34m(\u001b[0m\u001b[0mself\u001b[0m\u001b[0;34m,\u001b[0m \u001b[0mfunc\u001b[0m\u001b[0;34m,\u001b[0m \u001b[0mcallback\u001b[0m\u001b[0;34m=\u001b[0m\u001b[0;32mNone\u001b[0m\u001b[0;34m)\u001b[0m\u001b[0;34m:\u001b[0m\u001b[0;34m\u001b[0m\u001b[0;34m\u001b[0m\u001b[0m\n\u001b[1;32m    207\u001b[0m         \u001b[0;34m\"\"\"Schedule a func to be run\"\"\"\u001b[0m\u001b[0;34m\u001b[0m\u001b[0;34m\u001b[0m\u001b[0m\n\u001b[0;32m--> 208\u001b[0;31m         \u001b[0mresult\u001b[0m \u001b[0;34m=\u001b[0m \u001b[0mImmediateResult\u001b[0m\u001b[0;34m(\u001b[0m\u001b[0mfunc\u001b[0m\u001b[0;34m)\u001b[0m\u001b[0;34m\u001b[0m\u001b[0;34m\u001b[0m\u001b[0m\n\u001b[0m\u001b[1;32m    209\u001b[0m         \u001b[0;32mif\u001b[0m \u001b[0mcallback\u001b[0m\u001b[0;34m:\u001b[0m\u001b[0;34m\u001b[0m\u001b[0;34m\u001b[0m\u001b[0m\n\u001b[1;32m    210\u001b[0m             \u001b[0mcallback\u001b[0m\u001b[0;34m(\u001b[0m\u001b[0mresult\u001b[0m\u001b[0;34m)\u001b[0m\u001b[0;34m\u001b[0m\u001b[0;34m\u001b[0m\u001b[0m\n",
      "\u001b[0;32m/usr/local/lib/python3.8/site-packages/joblib/_parallel_backends.py\u001b[0m in \u001b[0;36m__init__\u001b[0;34m(self, batch)\u001b[0m\n\u001b[1;32m    570\u001b[0m         \u001b[0;31m# Don't delay the application, to avoid keeping the input\u001b[0m\u001b[0;34m\u001b[0m\u001b[0;34m\u001b[0m\u001b[0;34m\u001b[0m\u001b[0m\n\u001b[1;32m    571\u001b[0m         \u001b[0;31m# arguments in memory\u001b[0m\u001b[0;34m\u001b[0m\u001b[0;34m\u001b[0m\u001b[0;34m\u001b[0m\u001b[0m\n\u001b[0;32m--> 572\u001b[0;31m         \u001b[0mself\u001b[0m\u001b[0;34m.\u001b[0m\u001b[0mresults\u001b[0m \u001b[0;34m=\u001b[0m \u001b[0mbatch\u001b[0m\u001b[0;34m(\u001b[0m\u001b[0;34m)\u001b[0m\u001b[0;34m\u001b[0m\u001b[0;34m\u001b[0m\u001b[0m\n\u001b[0m\u001b[1;32m    573\u001b[0m \u001b[0;34m\u001b[0m\u001b[0m\n\u001b[1;32m    574\u001b[0m     \u001b[0;32mdef\u001b[0m \u001b[0mget\u001b[0m\u001b[0;34m(\u001b[0m\u001b[0mself\u001b[0m\u001b[0;34m)\u001b[0m\u001b[0;34m:\u001b[0m\u001b[0;34m\u001b[0m\u001b[0;34m\u001b[0m\u001b[0m\n",
      "\u001b[0;32m/usr/local/lib/python3.8/site-packages/joblib/parallel.py\u001b[0m in \u001b[0;36m__call__\u001b[0;34m(self)\u001b[0m\n\u001b[1;32m    260\u001b[0m         \u001b[0;31m# change the default number of processes to -1\u001b[0m\u001b[0;34m\u001b[0m\u001b[0;34m\u001b[0m\u001b[0;34m\u001b[0m\u001b[0m\n\u001b[1;32m    261\u001b[0m         \u001b[0;32mwith\u001b[0m \u001b[0mparallel_backend\u001b[0m\u001b[0;34m(\u001b[0m\u001b[0mself\u001b[0m\u001b[0;34m.\u001b[0m\u001b[0m_backend\u001b[0m\u001b[0;34m,\u001b[0m \u001b[0mn_jobs\u001b[0m\u001b[0;34m=\u001b[0m\u001b[0mself\u001b[0m\u001b[0;34m.\u001b[0m\u001b[0m_n_jobs\u001b[0m\u001b[0;34m)\u001b[0m\u001b[0;34m:\u001b[0m\u001b[0;34m\u001b[0m\u001b[0;34m\u001b[0m\u001b[0m\n\u001b[0;32m--> 262\u001b[0;31m             return [func(*args, **kwargs)\n\u001b[0m\u001b[1;32m    263\u001b[0m                     for func, args, kwargs in self.items]\n\u001b[1;32m    264\u001b[0m \u001b[0;34m\u001b[0m\u001b[0m\n",
      "\u001b[0;32m/usr/local/lib/python3.8/site-packages/joblib/parallel.py\u001b[0m in \u001b[0;36m<listcomp>\u001b[0;34m(.0)\u001b[0m\n\u001b[1;32m    260\u001b[0m         \u001b[0;31m# change the default number of processes to -1\u001b[0m\u001b[0;34m\u001b[0m\u001b[0;34m\u001b[0m\u001b[0;34m\u001b[0m\u001b[0m\n\u001b[1;32m    261\u001b[0m         \u001b[0;32mwith\u001b[0m \u001b[0mparallel_backend\u001b[0m\u001b[0;34m(\u001b[0m\u001b[0mself\u001b[0m\u001b[0;34m.\u001b[0m\u001b[0m_backend\u001b[0m\u001b[0;34m,\u001b[0m \u001b[0mn_jobs\u001b[0m\u001b[0;34m=\u001b[0m\u001b[0mself\u001b[0m\u001b[0;34m.\u001b[0m\u001b[0m_n_jobs\u001b[0m\u001b[0;34m)\u001b[0m\u001b[0;34m:\u001b[0m\u001b[0;34m\u001b[0m\u001b[0;34m\u001b[0m\u001b[0m\n\u001b[0;32m--> 262\u001b[0;31m             return [func(*args, **kwargs)\n\u001b[0m\u001b[1;32m    263\u001b[0m                     for func, args, kwargs in self.items]\n\u001b[1;32m    264\u001b[0m \u001b[0;34m\u001b[0m\u001b[0m\n",
      "\u001b[0;32m/usr/local/lib/python3.8/site-packages/sklearn/utils/fixes.py\u001b[0m in \u001b[0;36m__call__\u001b[0;34m(self, *args, **kwargs)\u001b[0m\n\u001b[1;32m    220\u001b[0m     \u001b[0;32mdef\u001b[0m \u001b[0m__call__\u001b[0m\u001b[0;34m(\u001b[0m\u001b[0mself\u001b[0m\u001b[0;34m,\u001b[0m \u001b[0;34m*\u001b[0m\u001b[0margs\u001b[0m\u001b[0;34m,\u001b[0m \u001b[0;34m**\u001b[0m\u001b[0mkwargs\u001b[0m\u001b[0;34m)\u001b[0m\u001b[0;34m:\u001b[0m\u001b[0;34m\u001b[0m\u001b[0;34m\u001b[0m\u001b[0m\n\u001b[1;32m    221\u001b[0m         \u001b[0;32mwith\u001b[0m \u001b[0mconfig_context\u001b[0m\u001b[0;34m(\u001b[0m\u001b[0;34m**\u001b[0m\u001b[0mself\u001b[0m\u001b[0;34m.\u001b[0m\u001b[0mconfig\u001b[0m\u001b[0;34m)\u001b[0m\u001b[0;34m:\u001b[0m\u001b[0;34m\u001b[0m\u001b[0;34m\u001b[0m\u001b[0m\n\u001b[0;32m--> 222\u001b[0;31m             \u001b[0;32mreturn\u001b[0m \u001b[0mself\u001b[0m\u001b[0;34m.\u001b[0m\u001b[0mfunction\u001b[0m\u001b[0;34m(\u001b[0m\u001b[0;34m*\u001b[0m\u001b[0margs\u001b[0m\u001b[0;34m,\u001b[0m \u001b[0;34m**\u001b[0m\u001b[0mkwargs\u001b[0m\u001b[0;34m)\u001b[0m\u001b[0;34m\u001b[0m\u001b[0;34m\u001b[0m\u001b[0m\n\u001b[0m",
      "\u001b[0;32m/usr/local/lib/python3.8/site-packages/sklearn/model_selection/_validation.py\u001b[0m in \u001b[0;36m_fit_and_score\u001b[0;34m(estimator, X, y, scorer, train, test, verbose, parameters, fit_params, return_train_score, return_parameters, return_n_test_samples, return_times, return_estimator, split_progress, candidate_progress, error_score)\u001b[0m\n\u001b[1;32m    596\u001b[0m             \u001b[0mestimator\u001b[0m\u001b[0;34m.\u001b[0m\u001b[0mfit\u001b[0m\u001b[0;34m(\u001b[0m\u001b[0mX_train\u001b[0m\u001b[0;34m,\u001b[0m \u001b[0;34m**\u001b[0m\u001b[0mfit_params\u001b[0m\u001b[0;34m)\u001b[0m\u001b[0;34m\u001b[0m\u001b[0;34m\u001b[0m\u001b[0m\n\u001b[1;32m    597\u001b[0m         \u001b[0;32melse\u001b[0m\u001b[0;34m:\u001b[0m\u001b[0;34m\u001b[0m\u001b[0;34m\u001b[0m\u001b[0m\n\u001b[0;32m--> 598\u001b[0;31m             \u001b[0mestimator\u001b[0m\u001b[0;34m.\u001b[0m\u001b[0mfit\u001b[0m\u001b[0;34m(\u001b[0m\u001b[0mX_train\u001b[0m\u001b[0;34m,\u001b[0m \u001b[0my_train\u001b[0m\u001b[0;34m,\u001b[0m \u001b[0;34m**\u001b[0m\u001b[0mfit_params\u001b[0m\u001b[0;34m)\u001b[0m\u001b[0;34m\u001b[0m\u001b[0;34m\u001b[0m\u001b[0m\n\u001b[0m\u001b[1;32m    599\u001b[0m \u001b[0;34m\u001b[0m\u001b[0m\n\u001b[1;32m    600\u001b[0m     \u001b[0;32mexcept\u001b[0m \u001b[0mException\u001b[0m \u001b[0;32mas\u001b[0m \u001b[0me\u001b[0m\u001b[0;34m:\u001b[0m\u001b[0;34m\u001b[0m\u001b[0;34m\u001b[0m\u001b[0m\n",
      "\u001b[0;32m/usr/local/lib/python3.8/site-packages/sklearn/kernel_ridge.py\u001b[0m in \u001b[0;36mfit\u001b[0;34m(self, X, y, sample_weight)\u001b[0m\n\u001b[1;32m    179\u001b[0m \u001b[0;34m\u001b[0m\u001b[0m\n\u001b[1;32m    180\u001b[0m         \u001b[0mcopy\u001b[0m \u001b[0;34m=\u001b[0m \u001b[0mself\u001b[0m\u001b[0;34m.\u001b[0m\u001b[0mkernel\u001b[0m \u001b[0;34m==\u001b[0m \u001b[0;34m\"precomputed\"\u001b[0m\u001b[0;34m\u001b[0m\u001b[0;34m\u001b[0m\u001b[0m\n\u001b[0;32m--> 181\u001b[0;31m         self.dual_coef_ = _solve_cholesky_kernel(K, y, alpha,\n\u001b[0m\u001b[1;32m    182\u001b[0m                                                  \u001b[0msample_weight\u001b[0m\u001b[0;34m,\u001b[0m\u001b[0;34m\u001b[0m\u001b[0;34m\u001b[0m\u001b[0m\n\u001b[1;32m    183\u001b[0m                                                  copy)\n",
      "\u001b[0;32m/usr/local/lib/python3.8/site-packages/sklearn/linear_model/_ridge.py\u001b[0m in \u001b[0;36m_solve_cholesky_kernel\u001b[0;34m(K, y, alpha, sample_weight, copy)\u001b[0m\n\u001b[1;32m    190\u001b[0m             warnings.warn(\"Singular matrix in solving dual problem. Using \"\n\u001b[1;32m    191\u001b[0m                           \"least-squares solution instead.\")\n\u001b[0;32m--> 192\u001b[0;31m             \u001b[0mdual_coef\u001b[0m \u001b[0;34m=\u001b[0m \u001b[0mlinalg\u001b[0m\u001b[0;34m.\u001b[0m\u001b[0mlstsq\u001b[0m\u001b[0;34m(\u001b[0m\u001b[0mK\u001b[0m\u001b[0;34m,\u001b[0m \u001b[0my\u001b[0m\u001b[0;34m)\u001b[0m\u001b[0;34m[\u001b[0m\u001b[0;36m0\u001b[0m\u001b[0;34m]\u001b[0m\u001b[0;34m\u001b[0m\u001b[0;34m\u001b[0m\u001b[0m\n\u001b[0m\u001b[1;32m    193\u001b[0m \u001b[0;34m\u001b[0m\u001b[0m\n\u001b[1;32m    194\u001b[0m         \u001b[0;31m# K is expensive to compute and store in memory so change it back in\u001b[0m\u001b[0;34m\u001b[0m\u001b[0;34m\u001b[0m\u001b[0;34m\u001b[0m\u001b[0m\n",
      "\u001b[0;32m/usr/local/lib/python3.8/site-packages/scipy/linalg/basic.py\u001b[0m in \u001b[0;36mlstsq\u001b[0;34m(a, b, cond, overwrite_a, overwrite_b, check_finite, lapack_driver)\u001b[0m\n\u001b[1;32m   1211\u001b[0m             \u001b[0;32mif\u001b[0m \u001b[0mreal_data\u001b[0m\u001b[0;34m:\u001b[0m\u001b[0;34m\u001b[0m\u001b[0;34m\u001b[0m\u001b[0m\n\u001b[1;32m   1212\u001b[0m                 \u001b[0mlwork\u001b[0m\u001b[0;34m,\u001b[0m \u001b[0miwork\u001b[0m \u001b[0;34m=\u001b[0m \u001b[0m_compute_lwork\u001b[0m\u001b[0;34m(\u001b[0m\u001b[0mlapack_lwork\u001b[0m\u001b[0;34m,\u001b[0m \u001b[0mm\u001b[0m\u001b[0;34m,\u001b[0m \u001b[0mn\u001b[0m\u001b[0;34m,\u001b[0m \u001b[0mnrhs\u001b[0m\u001b[0;34m,\u001b[0m \u001b[0mcond\u001b[0m\u001b[0;34m)\u001b[0m\u001b[0;34m\u001b[0m\u001b[0;34m\u001b[0m\u001b[0m\n\u001b[0;32m-> 1213\u001b[0;31m                 x, s, rank, info = lapack_func(a1, b1, lwork,\n\u001b[0m\u001b[1;32m   1214\u001b[0m                                                iwork, cond, False, False)\n\u001b[1;32m   1215\u001b[0m             \u001b[0;32melse\u001b[0m\u001b[0;34m:\u001b[0m  \u001b[0;31m# complex data\u001b[0m\u001b[0;34m\u001b[0m\u001b[0;34m\u001b[0m\u001b[0m\n",
      "\u001b[0;31mKeyboardInterrupt\u001b[0m: "
     ]
    }
   ],
   "source": [
    "krp3.fit(X_train.copy(), y_train.copy())"
   ]
  },
  {
   "cell_type": "code",
   "execution_count": null,
   "id": "099031b2-bc65-404d-8c95-9799c1cf8cae",
   "metadata": {},
   "outputs": [],
   "source": [
    "optimized_p3 = krp3.best_estimator_\n",
    "print(np.log10([optimized_p3.alpha,  optimized_p3.coef0, optimized_p3.gamma]), optimized_p3.kernel)"
   ]
  },
  {
   "cell_type": "code",
   "execution_count": null,
   "id": "722735ab-a64c-4370-9bdb-5bead182509a",
   "metadata": {},
   "outputs": [],
   "source": [
    "#[10.52631579  8.21052632  0.32222222] polynomial\n",
    "fig, ax =plt.subplots(3,1,figsize=(10,30))\n",
    "pvt_p3 = pd.pivot_table(pd.DataFrame(krp3.cv_results_), values='mean_test_score', index='param_alpha', columns='param_coef0')\n",
    "sns.heatmap(pvt_p3,ax=ax[0])\n",
    "pvt_p3 = pd.pivot_table(pd.DataFrame(krp3.cv_results_), values='mean_test_score', index='param_alpha', columns='param_gamma')\n",
    "sns.heatmap(pvt_p3,ax=ax[1])\n",
    "pvt_p3 = pd.pivot_table(pd.DataFrame(krp3.cv_results_), values='mean_test_score', index='param_coef0', columns='param_gamma')\n",
    "sns.heatmap(pvt_p3,ax=ax[2])"
   ]
  },
  {
   "cell_type": "code",
   "execution_count": null,
   "id": "fb1a94d8-b146-4630-a7dd-7473da05d202",
   "metadata": {},
   "outputs": [],
   "source": [
    "model_p3=KernelRidge(alpha=optimized_p3.alpha, kernel=optimized_p3.kernel, coef0=optimized_p3.coef0, gamma=optimized_p3.gamma, kernel_params={\"degree\": 3})"
   ]
  },
  {
   "cell_type": "code",
   "execution_count": null,
   "id": "f6f7d0b4-560d-453b-be26-940c14e5b143",
   "metadata": {},
   "outputs": [],
   "source": [
    "model_p3.fit(X_train.copy(), y_train.copy())"
   ]
  },
  {
   "cell_type": "code",
   "execution_count": null,
   "id": "6eab4c3b-a8d4-4932-8ccc-7a620d038c6d",
   "metadata": {},
   "outputs": [],
   "source": [
    "fit_test_p3 = model_p3.predict(X_test.copy())\n",
    "fit_train_p3 = model_p3.predict(X_train.copy())"
   ]
  },
  {
   "cell_type": "code",
   "execution_count": null,
   "id": "86dddb14-5900-4558-954e-ff8768cbb94b",
   "metadata": {},
   "outputs": [],
   "source": [
    "Utils.print_error(y_test, fit_test_p3, \"test set\")\n",
    "Utils.print_error(y_train, fit_train_p3, \"train set\")"
   ]
  },
  {
   "cell_type": "markdown",
   "id": "1332b789-ce83-44e6-b59d-60fd843e035d",
   "metadata": {},
   "source": [
    "#### cross validation"
   ]
  },
  {
   "cell_type": "code",
   "execution_count": null,
   "id": "eb825f93-86be-46c7-90bc-3e8eb586410e",
   "metadata": {},
   "outputs": [],
   "source": [
    "score_p3 = cross_val_score(model_p3, X, Y, cv=cv)\n",
    "print(score_p3)"
   ]
  },
  {
   "cell_type": "code",
   "execution_count": null,
   "id": "fb8bc7ae-8c5e-4334-9a94-766e80612dbf",
   "metadata": {},
   "outputs": [],
   "source": [
    "for train_index, test_index in cv.split(Y):\n",
    "    fit_test = model_p3.predict(X.copy()[test_index])\n",
    "    fit_train = model_p3.predict(X.copy()[train_index])\n",
    "    \n",
    "    print(\"--\")\n",
    "    print(\"### Cross Validation ###\")\n",
    "    print(\"--\")\n",
    "    Utils.print_error(Y.copy()[train_index], fit_train, \"train set\")\n",
    "    Utils.print_error(Y.copy()[test_index], fit_test, \"test set\")\n",
    "    "
   ]
  },
  {
   "cell_type": "markdown",
   "id": "e8c6e77c-87cb-4184-b39c-86dc65f3ca81",
   "metadata": {},
   "source": [
    "### Polynomial Degree 2"
   ]
  },
  {
   "cell_type": "markdown",
   "id": "96157bf9-3067-4204-9a66-598946becafe",
   "metadata": {},
   "source": [
    "#### My Optimized Hyperparameters"
   ]
  },
  {
   "cell_type": "code",
   "execution_count": null,
   "id": "c963eb88-3401-4105-9617-a3806dd8e9d6",
   "metadata": {},
   "outputs": [],
   "source": [
    "kr_p2 = GridSearchCV(\n",
    "    KernelRidge(kernel=\"polynomial\", gamma=0.1, degree=2),\n",
    "    param_grid={\"alpha\": np.logspace(-10, 10, 20), \"coef0\": np.logspace(-5, 5, 20), \"gamma\": np.logspace(-0.5, 0.5, 20)},\n",
    ")\n",
    "\n",
    "kr_p2.fit(X_train.copy(), y_train.copy())\n",
    "optimized_p2 = kr_p2.best_estimator_\n",
    "print(np.log10([optimized_p2.alpha,  optimized_p2.coef0, optimized_p2.gamma]), optimized_p2.kernel)"
   ]
  },
  {
   "cell_type": "code",
   "execution_count": null,
   "id": "362d0416-bd76-42d5-a9bb-d181ea2a9a83",
   "metadata": {},
   "outputs": [],
   "source": [
    "fig, ax =plt.subplots(3,1,figsize=(10,30))\n",
    "pvt_p2 = pd.pivot_table(pd.DataFrame(kr_p2.cv_results_), values='mean_test_score', index='param_alpha', columns='param_coef0')\n",
    "sns.heatmap(pvt_p2,ax=ax[0])\n",
    "pvt_p2 = pd.pivot_table(pd.DataFrame(kr_p2.cv_results_), values='mean_test_score', index='param_alpha', columns='param_gamma')\n",
    "sns.heatmap(pvt_p2,ax=ax[1])\n",
    "pvt_p2 = pd.pivot_table(pd.DataFrame(kr_p2.cv_results_), values='mean_test_score', index='param_coef0', columns='param_gamma')\n",
    "sns.heatmap(pvt_p2,ax=ax[2])"
   ]
  },
  {
   "cell_type": "code",
   "execution_count": null,
   "id": "683e9885-426c-4e4e-9609-7434cdeca7a0",
   "metadata": {},
   "outputs": [],
   "source": [
    "model_p2=KernelRidge(alpha=optimized_p2.alpha, kernel=optimized_p2.kernel, coef0=optimized_p2.coef0, gamma=optimized_p2.gamma, kernel_params={\"degree\": 2})"
   ]
  },
  {
   "cell_type": "code",
   "execution_count": null,
   "id": "92d6444e-8875-4e87-a2bb-bb114d5b268d",
   "metadata": {},
   "outputs": [],
   "source": [
    "model_p2.fit(X_train.copy(), y_train.copy())"
   ]
  },
  {
   "cell_type": "code",
   "execution_count": null,
   "id": "c3e58f5f-4ae3-4f89-88fd-e6d1e001979b",
   "metadata": {},
   "outputs": [],
   "source": [
    "fit_test_p2 = model_p2.predict(X_test.copy())\n",
    "fit_train_p2 = model_p2.predict(X_train.copy())"
   ]
  },
  {
   "cell_type": "code",
   "execution_count": null,
   "id": "5999fdb2-7114-445d-91e2-6dd50d0c4011",
   "metadata": {},
   "outputs": [],
   "source": [
    "Utils.print_error(y_test, fit_test_p2, \"test set\")\n",
    "Utils.print_error(y_train, fit_train_p2, \"train set\")"
   ]
  },
  {
   "cell_type": "markdown",
   "id": "027fce83-5965-443c-8527-b902005468ad",
   "metadata": {},
   "source": [
    "#### Cross Validation"
   ]
  },
  {
   "cell_type": "code",
   "execution_count": null,
   "id": "0f9cf337-da3a-4758-adc1-8a3b519efc95",
   "metadata": {},
   "outputs": [],
   "source": [
    "score_p2 = cross_val_score(model_p2, X, Y, cv=cv)\n",
    "print(score_p2)"
   ]
  },
  {
   "cell_type": "code",
   "execution_count": null,
   "id": "87ff9504-b68d-41c0-ac51-e425e46b728b",
   "metadata": {},
   "outputs": [],
   "source": [
    "for train_index, test_index in cv.split(Y):\n",
    "    fit_test = model_p2.predict(X.copy()[test_index])\n",
    "    fit_train = model_p2.predict(X.copy()[train_index])\n",
    "    \n",
    "    print(\"--\")\n",
    "    print(\"### Cross Validation ###\")\n",
    "    print(\"--\")\n",
    "    Utils.print_error(Y.copy()[train_index], fit_train, \"train set\")\n",
    "    Utils.print_error(Y.copy()[test_index], fit_test, \"test set\")"
   ]
  },
  {
   "cell_type": "markdown",
   "id": "b2d4e9ad-5614-416c-ac28-e712a7316488",
   "metadata": {},
   "source": [
    "### Gaussian"
   ]
  },
  {
   "cell_type": "markdown",
   "id": "4324ef25-cb35-4985-817f-474f2da9275a",
   "metadata": {},
   "source": [
    "#### My Optimized Hyperparameters"
   ]
  },
  {
   "cell_type": "code",
   "execution_count": null,
   "id": "207c5621-b763-4b2e-812c-96dfa71bee98",
   "metadata": {},
   "outputs": [],
   "source": [
    "kr_g = GridSearchCV(\n",
    "    KernelRidge(kernel=\"rbf\", gamma=0.1),\n",
    "    param_grid={\"alpha\": np.logspace(-15, 15, 40), \"gamma\": np.logspace(-10, 10, 40)},\n",
    ")\n",
    "\n",
    "kr_g.fit(X_train.copy(), y_train.copy())\n",
    "optimized_g = kr_g.best_estimator_\n",
    "print(np.log10([optimized_g.alpha, optimized_g.gamma]), optimized_g.kernel)"
   ]
  },
  {
   "cell_type": "code",
   "execution_count": null,
   "id": "ef4da015-a4a7-480c-a04e-33c3fcba03c5",
   "metadata": {},
   "outputs": [],
   "source": [
    "fig, ax =plt.subplots(1,1,figsize=(10,10))\n",
    "pvt_g = pd.pivot_table(pd.DataFrame(kr_g.cv_results_), values='mean_test_score', index='param_alpha', columns='param_gamma')\n",
    "sns.heatmap(pvt_g,ax=ax)"
   ]
  },
  {
   "cell_type": "code",
   "execution_count": null,
   "id": "f1cc4487-a025-447f-b832-038c81d0b3dc",
   "metadata": {},
   "outputs": [],
   "source": [
    "model_g=KernelRidge(alpha=optimized_g.alpha, kernel=optimized_g.kernel, coef0=0, gamma=optimized_g.gamma) \n"
   ]
  },
  {
   "cell_type": "code",
   "execution_count": null,
   "id": "9e73dfb5-adde-4faf-82e4-586c48605502",
   "metadata": {},
   "outputs": [],
   "source": [
    "model_g.fit(X_train.copy(), y_train.copy())"
   ]
  },
  {
   "cell_type": "code",
   "execution_count": null,
   "id": "006b7ea0-ee56-4d1d-9dd7-bb7c0120b693",
   "metadata": {},
   "outputs": [],
   "source": [
    "fit_test_g = model_g.predict(X_test.copy())\n",
    "fit_train_g = model_g.predict(X_train.copy())"
   ]
  },
  {
   "cell_type": "code",
   "execution_count": null,
   "id": "3e76b751-bdfe-45e5-9ec8-e5dc9933dfa6",
   "metadata": {},
   "outputs": [],
   "source": [
    "Utils.print_error(y_test, fit_test_g, \"test set\")\n",
    "Utils.print_error(y_train, fit_train_g, \"train set\")"
   ]
  },
  {
   "cell_type": "markdown",
   "id": "cbaa4eff-e017-4342-a277-1e5c43b75a57",
   "metadata": {},
   "source": [
    "####  Cross Validation"
   ]
  },
  {
   "cell_type": "code",
   "execution_count": null,
   "id": "6d0bfd36-c945-44c6-a50f-7f43ca4022ed",
   "metadata": {},
   "outputs": [],
   "source": [
    "score_g = cross_val_score(model_g, X, Y, cv=cv) \n",
    "print(score_g)"
   ]
  },
  {
   "cell_type": "code",
   "execution_count": null,
   "id": "3b10e3c7-cb1b-4560-bc9d-bdffbf71d2f0",
   "metadata": {},
   "outputs": [],
   "source": [
    "for train_index, test_index in cv.split(Y):\n",
    "    fit_test = model_g.predict(X.copy()[test_index])\n",
    "    fit_train = model_g.predict(X.copy()[train_index])\n",
    "    \n",
    "    print(\"--\")\n",
    "    print(\"### Cross Validation ###\")\n",
    "    print(\"--\")\n",
    "    Utils.print_error(Y.copy()[train_index], fit_train, \"train set\")\n",
    "    Utils.print_error(Y.copy()[test_index], fit_test, \"test set\")"
   ]
  },
  {
   "cell_type": "markdown",
   "id": "3af39b3a-4edc-4b14-a693-60bf65ddcf08",
   "metadata": {},
   "source": [
    "### Laplacian"
   ]
  },
  {
   "cell_type": "markdown",
   "id": "d40477ab-c7a4-4171-9cae-b00861ac0132",
   "metadata": {},
   "source": [
    "#### My Optimized Hyperparameters"
   ]
  },
  {
   "cell_type": "code",
   "execution_count": null,
   "id": "fd279939-79ea-4229-90c0-5fd7ad864f54",
   "metadata": {},
   "outputs": [],
   "source": [
    "kr_l = GridSearchCV(\n",
    "    KernelRidge(kernel=\"laplacian\", gamma=0.1),\n",
    "    param_grid={\"alpha\": np.logspace(-20, 0, 40), \"gamma\": np.logspace(-10, 5, 40)},\n",
    ")\n",
    "\n",
    "kr_l.fit(X_train.copy(), y_train.copy())\n",
    "optimized_l = kr_l.best_estimator_\n",
    "print(np.log10([optimized_l.alpha, optimized_l.gamma]), optimized_l.kernel)"
   ]
  },
  {
   "cell_type": "code",
   "execution_count": null,
   "id": "7f29634a-2906-4a13-b125-6b180aaf38fa",
   "metadata": {},
   "outputs": [],
   "source": [
    "fig, ax =plt.subplots(1,1,figsize=(10,10))\n",
    "pvt_l = pd.pivot_table(pd.DataFrame(kr_l.cv_results_), values='mean_test_score', index='param_alpha', columns='param_gamma')\n",
    "sns.heatmap(pvt_l,ax=ax)"
   ]
  },
  {
   "cell_type": "code",
   "execution_count": null,
   "id": "a22545d9-b101-4355-a311-97e0a380f262",
   "metadata": {},
   "outputs": [],
   "source": [
    "model_l=KernelRidge(alpha=optimized_l.alpha, kernel=optimized_l.kernel, coef0=0, gamma=optimized_l.gamma) "
   ]
  },
  {
   "cell_type": "code",
   "execution_count": null,
   "id": "e2c9963a-03ad-4c65-bb5c-4335b995b371",
   "metadata": {},
   "outputs": [],
   "source": [
    "model_l.fit(X_train.copy(), y_train.copy()) "
   ]
  },
  {
   "cell_type": "code",
   "execution_count": null,
   "id": "7fdf9569-788b-4758-82e8-861fae9d0288",
   "metadata": {},
   "outputs": [],
   "source": [
    "fit_test_l = model_l.predict(X_test.copy())\n",
    "fit_train_l = model_l.predict(X_train.copy())"
   ]
  },
  {
   "cell_type": "code",
   "execution_count": null,
   "id": "806051bd-9299-4f22-84f0-31e6d4683810",
   "metadata": {},
   "outputs": [],
   "source": [
    "Utils.print_error(y_test, fit_test_l, \"test set\")\n",
    "Utils.print_error(y_train, fit_train_l, \"train set\")"
   ]
  },
  {
   "cell_type": "markdown",
   "id": "c98ce575-e9ae-41a4-9a5a-1c5ac8bf4a1a",
   "metadata": {},
   "source": [
    "#### Cross Validation"
   ]
  },
  {
   "cell_type": "code",
   "execution_count": null,
   "id": "9dd6f3b9-6608-48be-980a-a82b3c3d3a6b",
   "metadata": {},
   "outputs": [],
   "source": [
    "score_l = cross_val_score(model_l, X, Y, cv=cv) \n",
    "print(score_l)"
   ]
  },
  {
   "cell_type": "code",
   "execution_count": null,
   "id": "4bc54fb7-426e-4ee7-b844-049e75fe0e20",
   "metadata": {},
   "outputs": [],
   "source": [
    " for train_index, test_index in cv.split(Y):\n",
    "    fit_test = model_l.predict(X.copy()[test_index])\n",
    "    fit_train = model_l.predict(X.copy()[train_index])\n",
    "    \n",
    "    print(\"--\")\n",
    "    print(\"### Cross Validation ###\")\n",
    "    print(\"--\")\n",
    "    Utils.print_error(Y.copy()[train_index], fit_train, \"train set\")\n",
    "    Utils.print_error(Y.copy()[test_index], fit_test, \"test set\")"
   ]
  },
  {
   "cell_type": "markdown",
   "id": "789783b1-811a-4559-85b8-90b36f7842c2",
   "metadata": {},
   "source": [
    "### Comparison and Analyze"
   ]
  },
  {
   "cell_type": "code",
   "execution_count": null,
   "id": "b0979a7b-8d21-4273-8d22-b9f0e9391e3c",
   "metadata": {},
   "outputs": [],
   "source": [
    "err_train_p3 = Utils.compute_error(y_train, fit_train_p3)\n",
    "err_train_p2 = Utils.compute_error(y_train, fit_train_p2)\n",
    "err_train_g = Utils.compute_error(y_train, fit_train_g)\n",
    "err_train_l = Utils.compute_error(y_train, fit_train_l)\n",
    "\n",
    "err_train_p3 = np.asarray(err_train_p3)\n",
    "err_train_p2 = np.asarray(err_train_p2)\n",
    "err_train_g = np.asarray(err_train_g)\n",
    "err_train_l = np.asarray(err_train_l)\n",
    "\n",
    "err_train = np.stack((err_train_p3, err_train_p2, err_train_g, err_train_l), axis=1)\n",
    "\n",
    "######\n",
    "\n",
    "err_test_p3 = Utils.compute_error(y_test, fit_test_p3)\n",
    "err_test_p2 = Utils.compute_error(y_test, fit_test_p2)\n",
    "err_test_g = Utils.compute_error(y_test, fit_test_g)\n",
    "err_test_l = Utils.compute_error(y_test, fit_test_l)\n",
    "\n",
    "err_test_p3 = np.asarray(err_test_p3)\n",
    "err_test_p2 = np.asarray(err_test_p2)\n",
    "err_test_g = np.asarray(err_test_g)\n",
    "err_test_l = np.asarray(err_test_l)\n",
    "\n",
    "err_test = np.stack((err_test_p3, err_test_p2, err_test_g, err_test_l), axis=1)\n",
    "\n",
    "\n"
   ]
  },
  {
   "cell_type": "code",
   "execution_count": null,
   "id": "529dc248-6a3a-4f42-9e2e-75bc5dd4b771",
   "metadata": {},
   "outputs": [],
   "source": [
    "column_labels=[\"Polynomial 3\", \"Polynomial 2\", \"Gaussian\", \"Laplacian\"]\n",
    "df_train=pd.DataFrame(err_train,columns=column_labels)\n",
    "df_test=pd.DataFrame(err_test,columns=column_labels)\n",
    "df_train.update(df_train[[\"Polynomial 3\", \"Polynomial 2\", \"Gaussian\", \"Laplacian\"]].applymap('{:,.6f}'.format))\n",
    "df_test.update(df_test[[\"Polynomial 3\", \"Polynomial 2\", \"Gaussian\", \"Laplacian\"]].applymap('{:,.6f}'.format))\n"
   ]
  },
  {
   "cell_type": "code",
   "execution_count": null,
   "id": "4674875c-99ff-49f3-ab26-caad5a5dcfdd",
   "metadata": {},
   "outputs": [],
   "source": [
    "fig, ax =plt.subplots(2,1,figsize=(25,4))\n",
    "ax[0].axis('tight')\n",
    "ax[0].axis('off')\n",
    "ax[1].axis('tight')\n",
    "ax[1].axis('off')\n",
    "ax[0].set_title(\"Train Set\")\n",
    "ax[1].set_title(\"Test Set\")\n",
    "ax[0].table(cellText=df_train.values,colLabels=df_train.columns,rowLabels=[\"MAE\",\"MSE\",\"ME\",\"True\",\"Predict\"],loc=\"center\",cellLoc='center')\n",
    "ax[1].table(cellText=df_test.values,colLabels=df_test.columns,rowLabels=[\"MAE\",\"MSE\",\"ME\",\"True\",\"Predict\"],loc=\"center\",cellLoc='center')"
   ]
  },
  {
   "cell_type": "code",
   "execution_count": null,
   "id": "52995880-f643-4b42-9c23-53a877c3daab",
   "metadata": {},
   "outputs": [],
   "source": [
    "rwth_blau = (0, 84 / 255, 159 / 255)\n",
    "rwth_mangenta = (227 / 255, 0 / 255, 102 / 255)\n",
    "rwth_gelb = (255 / 255, 237 / 255, 0 / 255)\n",
    "rwth_gruen = (87 / 255, 171 / 255, 39 / 255)\n",
    "rwth_orange = (246 / 255, 168 / 255, 0 / 255)\n",
    "rwth_rot = (204 / 255, 7 / 255, 30 / 255)\n"
   ]
  },
  {
   "cell_type": "code",
   "execution_count": null,
   "id": "557508db-419e-4270-8e92-1213e4b4c087",
   "metadata": {},
   "outputs": [],
   "source": []
  },
  {
   "cell_type": "code",
   "execution_count": null,
   "id": "60a1c77a-3016-46a1-bc51-56f711d72b8f",
   "metadata": {},
   "outputs": [],
   "source": []
  },
  {
   "cell_type": "code",
   "execution_count": null,
   "id": "a765cb1e-cb78-4964-86d9-ccabf0340362",
   "metadata": {},
   "outputs": [],
   "source": []
  },
  {
   "cell_type": "code",
   "execution_count": null,
   "id": "d782b08f-4d03-43d1-a7f8-ec5da4a8ecdb",
   "metadata": {},
   "outputs": [],
   "source": [
    "plt.figure()\n",
    "plt.rc('text', usetex=True)\n",
    "plt.style.use('bmh')\n",
    "plt.rcParams[\"axes.edgecolor\"] = \"black\"\n",
    "plt.rcParams[\"axes.linewidth\"] = 1\n",
    "plt.rcParams.update({'font.size': 12})\n",
    "\n",
    "plt.xlabel(r\"true $H^E$ [kj/mol]\")\n",
    "plt.ylabel(r\"predicted $H^E$ [kj/mol]\")\n",
    "min_value = min(np.min(y_test), np.min(y_train))\n",
    "max_value = max(np.max(y_test), np.max(y_train))\n",
    "plt.plot(y_test, fit_test_p3, 'X', label=\"Test data\", color=rwth_blau)\n",
    "plt.plot(y_train, fit_train_p3, 'D', label=\"Train data\", color=rwth_rot)\n",
    "plt.autoscale(enable=True, axis='both', tight=True)\n",
    "plt.grid(True, which=\"both\")\n",
    "\n",
    "ax = plt.gca()\n",
    "ax.tick_params(which='both', direction='out')\n",
    "# plt.savefig(\"seperable.pdf\")\n",
    "\n",
    "plt.legend(facecolor='white', framealpha=1, edgecolor=\"black\", loc=\"upper left\")\n",
    "plt.tight_layout()\n",
    "plt.savefig(\"KRR_ploy3_fit.pdf\")"
   ]
  },
  {
   "cell_type": "code",
   "execution_count": 50,
   "id": "3ca86590-d22a-492d-9b24-d349c137e893",
   "metadata": {},
   "outputs": [
    {
     "data": {
      "image/png": "[encoded data removed]",
      "text/plain": [
       "<Figure size 432x288 with 1 Axes>"
      ]
     },
     "metadata": {
      "needs_background": "light"
     },
     "output_type": "display_data"
    }
   ],
   "source": [
    "plt.figure()\n",
    "plt.rc('text', usetex=True)\n",
    "plt.style.use('bmh')\n",
    "plt.rcParams[\"axes.edgecolor\"] = \"black\"\n",
    "plt.rcParams[\"axes.linewidth\"] = 1\n",
    "plt.rcParams.update({'font.size': 12})\n",
    "\n",
    "plt.xlabel(r\"true $H^E$ [kj/mol]\")\n",
    "plt.ylabel(r\"predicted $H^E$ [kj/mol]\")\n",
    "min_value = min(np.min(y_test), np.min(y_train))\n",
    "max_value = max(np.max(y_test), np.max(y_train))\n",
    "plt.plot(y_test, fit_test_p2, '.', label=\"Test data\", color=rwth_blau)\n",
    "plt.plot(y_train, fit_train_p2, '.', label=\"Train data\", color=rwth_rot)\n",
    "plt.autoscale(enable=True, axis='both', tight=True)\n",
    "plt.grid(True, which=\"both\")\n",
    "\n",
    "ax = plt.gca()\n",
    "ax.tick_params(which='both', direction='out')\n",
    "# plt.savefig(\"seperable.pdf\")\n",
    "\n",
    "plt.legend(facecolor='white', framealpha=1, edgecolor=\"black\", loc=\"upper left\")\n",
    "plt.tight_layout()\n",
    "plt.savefig(\"KRR_ploy2_fit.pdf\")"
   ]
  },
  {
   "cell_type": "code",
   "execution_count": 51,
   "id": "23461d37-5fac-4a59-abe6-4630615c6334",
   "metadata": {},
   "outputs": [
    {
     "data": {
      "image/png": "[encoded data removed]",
      "text/plain": [
       "<Figure size 432x288 with 1 Axes>"
      ]
     },
     "metadata": {
      "needs_background": "light"
     },
     "output_type": "display_data"
    }
   ],
   "source": [
    "plt.figure()\n",
    "plt.rc('text', usetex=True)\n",
    "plt.style.use('bmh')\n",
    "plt.rcParams[\"axes.edgecolor\"] = \"black\"\n",
    "plt.rcParams[\"axes.linewidth\"] = 1\n",
    "plt.rcParams.update({'font.size': 12})\n",
    "\n",
    "plt.xlabel(r\"true $H^E$ [kj/mol]\")\n",
    "plt.ylabel(r\"predicted $H^E$ [kj/mol]\")\n",
    "min_value = min(np.min(y_test), np.min(y_train))\n",
    "max_value = max(np.max(y_test), np.max(y_train))\n",
    "plt.plot(y_test, fit_test_g, '.', label=\"Test data\", color=rwth_blau)\n",
    "plt.plot(y_train, fit_train_g, '.', label=\"Train data\", color=rwth_rot)\n",
    "plt.autoscale(enable=True, axis='both', tight=True)\n",
    "plt.grid(True, which=\"both\")\n",
    "\n",
    "ax = plt.gca()\n",
    "ax.tick_params(which='both', direction='out')\n",
    "# plt.savefig(\"seperable.pdf\")\n",
    "\n",
    "plt.legend(facecolor='white', framealpha=1, edgecolor=\"black\", loc=\"upper left\")\n",
    "plt.tight_layout()\n",
    "plt.savefig(\"KRR_gauss_fit.pdf\")"
   ]
  },
  {
   "cell_type": "code",
   "execution_count": 52,
   "id": "5651b51d-a747-40c0-9ab1-4656eac42aea",
   "metadata": {},
   "outputs": [
    {
     "data": {
      "image/png": "[encoded data removed]",
      "text/plain": [
       "<Figure size 432x288 with 1 Axes>"
      ]
     },
     "metadata": {
      "needs_background": "light"
     },
     "output_type": "display_data"
    }
   ],
   "source": [
    "plt.figure()\n",
    "plt.rc('text', usetex=True)\n",
    "plt.style.use('bmh')\n",
    "plt.rcParams[\"axes.edgecolor\"] = \"black\"\n",
    "plt.rcParams[\"axes.linewidth\"] = 1\n",
    "plt.rcParams.update({'font.size': 12})\n",
    "\n",
    "plt.xlabel(r\"true $H^E$ [kj/mol]\")\n",
    "plt.ylabel(r\"predicted $H^E$ [kj/mol]\")\n",
    "min_value = min(np.min(y_test), np.min(y_train))\n",
    "max_value = max(np.max(y_test), np.max(y_train))\n",
    "plt.plot(y_test, fit_test_l, '.', label=\"Test data\", color=rwth_blau)\n",
    "plt.plot(y_train, fit_train_l, '.', label=\"Train data\", color=rwth_rot)\n",
    "plt.autoscale(enable=True, axis='both', tight=True)\n",
    "plt.grid(True, which=\"both\")\n",
    "\n",
    "ax = plt.gca()\n",
    "ax.tick_params(which='both', direction='out')\n",
    "# plt.savefig(\"seperable.pdf\")\n",
    "\n",
    "plt.legend(facecolor='white', framealpha=1, edgecolor=\"black\", loc=\"upper left\")\n",
    "plt.tight_layout()\n",
    "plt.savefig(\"KRR_laplace_fit.pdf\")"
   ]
  },
  {
   "cell_type": "code",
   "execution_count": null,
   "id": "a5b81ea6-e35d-4250-a43e-5d849e3f0b6e",
   "metadata": {},
   "outputs": [],
   "source": []
  }
 ],
 "metadata": {
  "kernelspec": {
   "display_name": "Python 3",
   "language": "python",
   "name": "python3"
  },
  "language_info": {
   "codemirror_mode": {
    "name": "ipython",
    "version": 3
   },
   "file_extension": ".py",
   "mimetype": "text/x-python",
   "name": "python",
   "nbconvert_exporter": "python",
   "pygments_lexer": "ipython3",
   "version": "3.8.5"
  }
 },
 "nbformat": 4,
 "nbformat_minor": 5
}
