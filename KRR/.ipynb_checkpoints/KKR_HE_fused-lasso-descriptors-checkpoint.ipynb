{
 "cells": [
  {
   "cell_type": "code",
   "execution_count": 184,
   "id": "af24a59a-2f17-4c0a-8974-05cc053bd78f",
   "metadata": {},
   "outputs": [],
   "source": [
    "import read_data\n",
    "import featureSpan\n",
    "import Utils\n",
    "from sklearn.kernel_ridge import KernelRidge\n",
    "from sklearn.model_selection import train_test_split, cross_val_score, ShuffleSplit\n",
    "from sklearn.model_selection import GridSearchCV\n",
    "import numpy as np\n",
    "import matplotlib.pyplot as plt\n",
    "from sklearn.metrics import mean_absolute_error, mean_squared_error\n",
    "import scipy.optimize\n",
    "import scipy.stats as ss\n",
    "import pandas as pd\n",
    "import seaborn as sns\n",
    "from sklearn.preprocessing import StandardScaler\n",
    "\n",
    "import warnings\n",
    "warnings.filterwarnings('ignore')"
   ]
  },
  {
   "cell_type": "code",
   "execution_count": 185,
   "id": "4545c411-2fc8-4f28-a2b5-03f57630f950",
   "metadata": {},
   "outputs": [
    {
     "name": "stdout",
     "output_type": "stream",
     "text": [
      "(525, 4)\n"
     ]
    }
   ],
   "source": [
    "list1M = read_data.readData(\"data/DATA_HE_monazite.dat\")\n",
    "print(list1M.shape)"
   ]
  },
  {
   "cell_type": "code",
   "execution_count": 186,
   "id": "3060fa68-afba-4cca-bd52-203b61bdcf33",
   "metadata": {},
   "outputs": [
    {
     "name": "stdout",
     "output_type": "stream",
     "text": [
      "(15, 9)\n"
     ]
    }
   ],
   "source": [
    "list2M = read_data.readCSVData(\"data/Data_Ln.csv\", Volume=True)\n",
    "print(list2M.shape)"
   ]
  },
  {
   "cell_type": "code",
   "execution_count": 187,
   "id": "ad48d72a-db8a-4c72-b3db-920182f2679d",
   "metadata": {},
   "outputs": [
    {
     "name": "stdout",
     "output_type": "stream",
     "text": [
      "Shape of List1X is (525, 4)\n",
      "[[5.70000000e+01 5.80000000e+01 7.50000000e-01 2.31598225e-01]\n",
      " [5.70000000e+01 5.80000000e+01 6.25000000e-01 2.78958493e-01]\n",
      " [5.70000000e+01 5.80000000e+01 5.00000000e-01 2.97583757e-01]\n",
      " ...\n",
      " [7.00000000e+01 7.10000000e+01 5.00000000e-01 7.77590152e-02]\n",
      " [7.00000000e+01 7.10000000e+01 3.75000000e-01 7.09266168e-02]\n",
      " [7.00000000e+01 7.10000000e+01 2.50000000e-01 5.91211365e-02]]\n"
     ]
    }
   ],
   "source": [
    "list1X = read_data.readData(\"data/DATA_HE_xenotime.dat\")\n",
    "print(\"Shape of List1X is {}\".format(list1X.shape))\n",
    "print(list1X)"
   ]
  },
  {
   "cell_type": "code",
   "execution_count": 188,
   "id": "51942624-e662-41de-90c1-91cebe0f7127",
   "metadata": {},
   "outputs": [
    {
     "name": "stdout",
     "output_type": "stream",
     "text": [
      "Shape of List2X is (15, 9)\n",
      "[[ 57.         138.90547     19.1773      91.7         11.\n",
      "    1.1         49.95        83.16086967   1.16      ]\n",
      " [ 58.         140.116       20.198       99.73        12.\n",
      "    1.12        36.758       81.11579575   1.143     ]\n",
      " [ 59.         140.90765     21.624      112.27        12.3\n",
      "    1.13        38.98        79.31176899   1.126     ]\n",
      " [ 60.         144.242       22.1        120.19        12.95\n",
      "    1.14        40.41        77.89975607   1.109     ]\n",
      " [ 61.         145.          22.3        127.26        13.6\n",
      "    1.13        41.1         76.63526873   1.093     ]\n",
      " [ 62.         150.36        23.4        137.16        14.25\n",
      "    1.17        41.4         75.42961529   1.079     ]\n",
      " [ 63.         151.964       24.92       143.83        14.9\n",
      "    1.2         42.7         74.36126731   1.066     ]\n",
      " [ 64.         157.25        20.63       149.42        15.9\n",
      "    1.2         44.          73.33463097   1.053     ]\n",
      " [ 65.         158.92535     21.91       156.33        16.2\n",
      "    1.1         39.79        72.43898327   1.04      ]\n",
      " [ 66.         162.5         22.8        163.          16.85\n",
      "    1.22        41.47        71.49567572   1.027     ]\n",
      " [ 67.         164.93032     22.84       169.12        17.5\n",
      "    1.23        42.5         70.75467386   1.015     ]\n",
      " [ 68.         167.259       22.74       177.09        18.15\n",
      "    1.24        42.7         69.85074728   1.004     ]\n",
      " [ 69.         168.93421     23.68       183.38        18.8\n",
      "    1.25        42.7         68.92826151   0.994     ]\n",
      " [ 70.         173.054       25.05       188.35        19.45\n",
      "    1.1         43.56        68.35674618   0.985     ]\n",
      " [ 71.         174.9668      20.9594     194.41        20.45\n",
      "    1.27        45.25        67.43658042   0.977     ]]\n"
     ]
    }
   ],
   "source": [
    "list2X = read_data.readCSVData(\"data/Data_Ln-xenozite.csv\", material = \"xenotime\", Volume=True)\n",
    "print(\"Shape of List2X is {}\".format(list2X.shape))\n",
    "print((list2X))"
   ]
  },
  {
   "cell_type": "code",
   "execution_count": 189,
   "id": "f0a569aa-3a67-42b9-9f35-70350116efad",
   "metadata": {},
   "outputs": [],
   "source": [
    "def generateFeatures(HEList, featureList):\n",
    "    X = []\n",
    "    Y = []\n",
    "    for i in range(len(HEList)):\n",
    "        Y.append(HEList[i][3])\n",
    "        x = HEList[i][2]\n",
    "        X1 = featureList[int(HEList[i][0]-57)]\n",
    "        X2 = featureList[int(HEList[i][1]-57)]\n",
    "        mfeatures = np.array([x, 1/x, 1-x, 1/(1-x)])\n",
    "        f1 = []\n",
    "        f2 = []\n",
    "        f3 = []\n",
    "        f4 = []\n",
    "        \n",
    "        for j in range(len(X1)-4):\n",
    "            f1.append([abs(X1[j]-X2[j])/2.0])\n",
    "            f2.append([2.0/abs(X1[j]-X2[j])])\n",
    "            f3.append([(X1[j] + X2[j]) / 2.0])\n",
    "            f4.append([2.0 / (X1[j] + X2[j])])\n",
    "\n",
    "        f5 = []\n",
    "        f6 = []\n",
    "        f7 = []\n",
    "        \n",
    "        for j in range(5,7):\n",
    "            f5.append([abs(X1[j]-X2[j])/2.0])\n",
    "            f6.append([(X1[j] + X2[j]) / 2.0])\n",
    "            f7.append([2.0 / (X1[j] + X2[j])])  \n",
    "\n",
    "        f8 = []\n",
    "        f9 = []\n",
    "        f10 = []\n",
    "        f11 = []\n",
    "        \n",
    "        for j in range(7, len(X1)):\n",
    "            f8.append([abs(X1[j]-X2[j])/2.0])\n",
    "            f9.append([2.0/abs(X1[j]-X2[j])])\n",
    "            f10.append([(X1[j] + X2[j]) / 2.0])\n",
    "            f11.append([2.0 / (X1[j] + X2[j])])\n",
    "                \n",
    "        X.append(np.concatenate((mfeatures, np.asarray(f1).flatten(),  np.asarray(f2).flatten(),  np.asarray(f3).flatten(), np.asarray(f4).flatten(), np.asarray(f5).flatten(),np.asarray(f6).flatten(),np.asarray(f7).flatten(),np.asarray(f8).flatten(),np.asarray(f9).flatten(),np.asarray(f10).flatten(),np.asarray(f11).flatten()     )))    \n",
    "        \n",
    "            \n",
    "    return X, Y\n",
    "        "
   ]
  },
  {
   "cell_type": "code",
   "execution_count": 190,
   "id": "7004da97-cef3-4852-b673-9891304f1ad3",
   "metadata": {},
   "outputs": [
    {
     "name": "stdout",
     "output_type": "stream",
     "text": [
      "(525, 38)\n",
      "(525,)\n",
      "(525, 38)\n",
      "(525,)\n",
      "(1050, 38)\n",
      "(1050,)\n"
     ]
    }
   ],
   "source": [
    "listXM, listYM = generateFeatures(list1M, list2M)\n",
    "XM = np.asarray(listXM)\n",
    "YM = np.asarray(listYM)\n",
    "print(XM.shape)\n",
    "print(YM.shape)\n",
    "\n",
    "listXX, listYX = generateFeatures(list1X, list2X)\n",
    "XX = np.asarray(listXX)\n",
    "YX = np.asarray(listYX)\n",
    "print(XM.shape)\n",
    "print(YM.shape)\n",
    "\n",
    "X = np.concatenate((XM, XX), axis=0)\n",
    "Y = np.concatenate((YM, YX), axis=0)\n",
    "print(X.shape)\n",
    "print(Y.shape)"
   ]
  },
  {
   "cell_type": "code",
   "execution_count": 191,
   "id": "fa945c68-069a-4b0a-871e-f701d262e16a",
   "metadata": {},
   "outputs": [],
   "source": [
    "#scaler = StandardScaler()\n",
    "#scaler.fit(X)\n",
    "#X = scaler.transform(X)"
   ]
  },
  {
   "cell_type": "code",
   "execution_count": 192,
   "id": "8571b925-dc95-4c28-a4eb-826f081aea44",
   "metadata": {},
   "outputs": [
    {
     "name": "stdout",
     "output_type": "stream",
     "text": [
      "787 263 787 263\n"
     ]
    }
   ],
   "source": [
    "X_train, X_test, y_train, y_test = train_test_split(X, Y, test_size=0.25, random_state=24)\n",
    "print(len(X_train),len(X_test), len(y_train), len(y_test))"
   ]
  },
  {
   "cell_type": "code",
   "execution_count": 193,
   "id": "8b0da0ab-8643-4bb1-bd39-c2db11e9746c",
   "metadata": {},
   "outputs": [],
   "source": [
    "cv = ShuffleSplit(n_splits=5, test_size=0.25, random_state=0)"
   ]
  },
  {
   "cell_type": "markdown",
   "id": "f7b76300-c50d-47f9-8d3c-91655182d805",
   "metadata": {},
   "source": [
    "### Polynomial Degree 4"
   ]
  },
  {
   "cell_type": "code",
   "execution_count": 194,
   "id": "f7bf4647-cd0e-4030-a803-41315f38f45c",
   "metadata": {},
   "outputs": [],
   "source": [
    "krp4 = GridSearchCV(\n",
    "    KernelRidge(kernel=\"polynomial\", gamma=0.1, degree=4),\n",
    "    param_grid={\"alpha\": np.logspace(-5, 5, 20), \"coef0\": np.logspace(-5, 5, 20), \"gamma\": np.logspace(-5.0, 5.0, 20)},\n",
    ")"
   ]
  },
  {
   "cell_type": "code",
   "execution_count": 195,
   "id": "4da6a74e-0a1e-42a4-b231-d05e9d942f15",
   "metadata": {},
   "outputs": [
    {
     "data": {
      "text/plain": [
       "GridSearchCV(estimator=KernelRidge(degree=4, gamma=0.1, kernel='polynomial'),\n",
       "             param_grid={'alpha': array([1.00000000e-05, 3.35981829e-05, 1.12883789e-04, 3.79269019e-04,\n",
       "       1.27427499e-03, 4.28133240e-03, 1.43844989e-02, 4.83293024e-02,\n",
       "       1.62377674e-01, 5.45559478e-01, 1.83298071e+00, 6.15848211e+00,\n",
       "       2.06913808e+01, 6.95192796e+01, 2.33572147e+02, 7.84759970e+02,\n",
       "       2.636650...\n",
       "       2.63665090e+03, 8.85866790e+03, 2.97635144e+04, 1.00000000e+05]),\n",
       "                         'gamma': array([1.00000000e-05, 3.35981829e-05, 1.12883789e-04, 3.79269019e-04,\n",
       "       1.27427499e-03, 4.28133240e-03, 1.43844989e-02, 4.83293024e-02,\n",
       "       1.62377674e-01, 5.45559478e-01, 1.83298071e+00, 6.15848211e+00,\n",
       "       2.06913808e+01, 6.95192796e+01, 2.33572147e+02, 7.84759970e+02,\n",
       "       2.63665090e+03, 8.85866790e+03, 2.97635144e+04, 1.00000000e+05])})"
      ]
     },
     "execution_count": 195,
     "metadata": {},
     "output_type": "execute_result"
    }
   ],
   "source": [
    "krp4.fit(X_train.copy(), y_train.copy())"
   ]
  },
  {
   "cell_type": "code",
   "execution_count": 196,
   "id": "37a2277e-2e9a-4df5-814c-9bd3fee1ad7c",
   "metadata": {},
   "outputs": [
    {
     "name": "stdout",
     "output_type": "stream",
     "text": [
      "[ 2.89473684  3.42105263 -2.36842105] polynomial\n"
     ]
    }
   ],
   "source": [
    "optimized_p4 = krp4.best_estimator_\n",
    "print(np.log10([optimized_p4.alpha,  optimized_p4.coef0, optimized_p4.gamma]), optimized_p4.kernel)"
   ]
  },
  {
   "cell_type": "code",
   "execution_count": 197,
   "id": "d3235fdb-eae6-40f6-9462-02b91cf7e5cc",
   "metadata": {},
   "outputs": [],
   "source": [
    "model_p4=KernelRidge(alpha=optimized_p4.alpha, kernel=optimized_p4.kernel, coef0=optimized_p4.coef0, gamma=optimized_p4.gamma, kernel_params={\"degree\": 4})"
   ]
  },
  {
   "cell_type": "code",
   "execution_count": 198,
   "id": "c0bd0740-88ff-4803-92ac-f937f6bce9de",
   "metadata": {},
   "outputs": [
    {
     "data": {
      "text/plain": [
       "KernelRidge(alpha=784.7599703514607, coef0=2636.6508987303555,\n",
       "            gamma=0.004281332398719391, kernel='polynomial',\n",
       "            kernel_params={'degree': 4})"
      ]
     },
     "execution_count": 198,
     "metadata": {},
     "output_type": "execute_result"
    }
   ],
   "source": [
    "model_p4.fit(X_train.copy(), y_train.copy())"
   ]
  },
  {
   "cell_type": "code",
   "execution_count": 199,
   "id": "df0d8c91-3454-4892-9f51-7651ae323a4f",
   "metadata": {},
   "outputs": [],
   "source": [
    "fit_test_p4 = model_p4.predict(X_test.copy())\n",
    "fit_train_p4 = model_p4.predict(X_train.copy())"
   ]
  },
  {
   "cell_type": "code",
   "execution_count": 200,
   "id": "3416d22c-e1a9-43eb-956d-160025338342",
   "metadata": {},
   "outputs": [
    {
     "name": "stdout",
     "output_type": "stream",
     "text": [
      "test set\n",
      "=========\n",
      "Mean absolute error: 0.11357300711884608\n",
      "Mean squared error: 0.025388507024727423\n",
      "Max error: 0.9087177422017501\n",
      "True value: 14.909305092890625\n",
      "Predicted value: 14.000587350688875\n",
      "train set\n",
      "=========\n",
      "Mean absolute error: 0.10910355432545674\n",
      "Mean squared error: 0.027981991356289\n",
      "Max error: 1.2215651252946245\n",
      "True value: 19.053955156140624\n",
      "Predicted value: 17.832390030846\n"
     ]
    }
   ],
   "source": [
    "Utils.print_error(y_test, fit_test_p4, \"test set\")\n",
    "Utils.print_error(y_train, fit_train_p4, \"train set\")"
   ]
  },
  {
   "cell_type": "markdown",
   "id": "e321163e-62aa-4d28-a750-6ea9b45d25a0",
   "metadata": {},
   "source": [
    "#### cross validation"
   ]
  },
  {
   "cell_type": "code",
   "execution_count": 201,
   "id": "fe1b3803-16fa-4518-918c-b6e7e1cd73d2",
   "metadata": {},
   "outputs": [
    {
     "name": "stdout",
     "output_type": "stream",
     "text": [
      "[0.99602202 0.99571973 0.99745919 0.99704314 0.9959317 ]\n"
     ]
    }
   ],
   "source": [
    "score_p4 = cross_val_score(model_p4, X, Y, cv=cv)\n",
    "print(score_p4)"
   ]
  },
  {
   "cell_type": "code",
   "execution_count": 202,
   "id": "9229006e-656d-464f-9750-816e9f62a807",
   "metadata": {},
   "outputs": [
    {
     "name": "stdout",
     "output_type": "stream",
     "text": [
      "--\n",
      "### Cross Validation ###\n",
      "--\n",
      "train set\n",
      "=========\n",
      "Mean absolute error: 0.1104802260943933\n",
      "Mean squared error: 0.0264339673582893\n",
      "Max error: 0.947016208137045\n",
      "True value: 15.407408287453125\n",
      "Predicted value: 14.46039207931608\n",
      "test set\n",
      "=========\n",
      "Mean absolute error: 0.10945346079179004\n",
      "Mean squared error: 0.030020806867209617\n",
      "Max error: 1.2215651252946245\n",
      "True value: 19.053955156140624\n",
      "Predicted value: 17.832390030846\n",
      "--\n",
      "### Cross Validation ###\n",
      "--\n",
      "train set\n",
      "=========\n",
      "Mean absolute error: 0.11123617314523218\n",
      "Mean squared error: 0.02650749003265545\n",
      "Max error: 1.024870015961893\n",
      "True value: 13.623904432820312\n",
      "Predicted value: 14.648774448782206\n",
      "test set\n",
      "=========\n",
      "Mean absolute error: 0.10719136922799392\n",
      "Mean squared error: 0.029800798162301783\n",
      "Max error: 1.2215651252946245\n",
      "True value: 19.053955156140624\n",
      "Predicted value: 17.832390030846\n",
      "--\n",
      "### Cross Validation ###\n",
      "--\n",
      "train set\n",
      "=========\n",
      "Mean absolute error: 0.1152618731204633\n",
      "Mean squared error: 0.03005134777408181\n",
      "Max error: 1.2215651252946245\n",
      "True value: 19.053955156140624\n",
      "Predicted value: 17.832390030846\n",
      "test set\n",
      "=========\n",
      "Mean absolute error: 0.09514488266453923\n",
      "Mean squared error: 0.019196175070392923\n",
      "Max error: 0.947016208137045\n",
      "True value: 15.407408287453125\n",
      "Predicted value: 14.46039207931608\n",
      "--\n",
      "### Cross Validation ###\n",
      "--\n",
      "train set\n",
      "=========\n",
      "Mean absolute error: 0.11440686438633778\n",
      "Mean squared error: 0.030466651357045575\n",
      "Max error: 1.2215651252946245\n",
      "True value: 19.053955156140624\n",
      "Predicted value: 17.832390030846\n",
      "test set\n",
      "=========\n",
      "Mean absolute error: 0.09770340695601439\n",
      "Mean squared error: 0.017953421835381393\n",
      "Max error: 0.6599311758111224\n",
      "True value: 5.9677824848984375\n",
      "Predicted value: 6.62771366070956\n",
      "--\n",
      "### Cross Validation ###\n",
      "--\n",
      "train set\n",
      "=========\n",
      "Mean absolute error: 0.10524222790423991\n",
      "Mean squared error: 0.023921410180720026\n",
      "Max error: 0.947016208137045\n",
      "True value: 15.407408287453125\n",
      "Predicted value: 14.46039207931608\n",
      "test set\n",
      "=========\n",
      "Mean absolute error: 0.12512762389809043\n",
      "Mean squared error: 0.03753937193936399\n",
      "Max error: 1.2215651252946245\n",
      "True value: 19.053955156140624\n",
      "Predicted value: 17.832390030846\n"
     ]
    }
   ],
   "source": [
    "for train_index, test_index in cv.split(Y):\n",
    "    fit_test = model_p4.predict(X.copy()[test_index])\n",
    "    fit_train = model_p4.predict(X.copy()[train_index])\n",
    "    \n",
    "    print(\"--\")\n",
    "    print(\"### Cross Validation ###\")\n",
    "    print(\"--\")\n",
    "    Utils.print_error(Y.copy()[train_index], fit_train, \"train set\")\n",
    "    Utils.print_error(Y.copy()[test_index], fit_test, \"test set\")\n",
    "    "
   ]
  },
  {
   "cell_type": "markdown",
   "id": "f3d20d20-c4be-430e-a334-848d5edbe0b9",
   "metadata": {},
   "source": [
    "### Polynomial Degree 3"
   ]
  },
  {
   "cell_type": "markdown",
   "id": "2f46cecc-9fda-403c-b5d9-52e656b21e49",
   "metadata": {},
   "source": [
    "#### My Optimized Hyperparameters"
   ]
  },
  {
   "cell_type": "code",
   "execution_count": 203,
   "id": "2b36e41f-36f2-460c-b471-69d20f334dce",
   "metadata": {},
   "outputs": [],
   "source": [
    "krp3 = GridSearchCV(\n",
    "    KernelRidge(kernel=\"polynomial\", gamma=0.1, degree=3),\n",
    "    param_grid={\"alpha\": np.logspace(-5, 5, 20), \"coef0\": np.logspace(-5, 5, 20), \"gamma\": np.logspace(-5.0, 5.0, 20)},\n",
    ")"
   ]
  },
  {
   "cell_type": "code",
   "execution_count": 204,
   "id": "0a83bd48-00dc-4642-8165-e261230f540b",
   "metadata": {},
   "outputs": [
    {
     "data": {
      "text/plain": [
       "GridSearchCV(estimator=KernelRidge(gamma=0.1, kernel='polynomial'),\n",
       "             param_grid={'alpha': array([1.00000000e-05, 3.35981829e-05, 1.12883789e-04, 3.79269019e-04,\n",
       "       1.27427499e-03, 4.28133240e-03, 1.43844989e-02, 4.83293024e-02,\n",
       "       1.62377674e-01, 5.45559478e-01, 1.83298071e+00, 6.15848211e+00,\n",
       "       2.06913808e+01, 6.95192796e+01, 2.33572147e+02, 7.84759970e+02,\n",
       "       2.63665090e+03, 8....\n",
       "       2.63665090e+03, 8.85866790e+03, 2.97635144e+04, 1.00000000e+05]),\n",
       "                         'gamma': array([1.00000000e-05, 3.35981829e-05, 1.12883789e-04, 3.79269019e-04,\n",
       "       1.27427499e-03, 4.28133240e-03, 1.43844989e-02, 4.83293024e-02,\n",
       "       1.62377674e-01, 5.45559478e-01, 1.83298071e+00, 6.15848211e+00,\n",
       "       2.06913808e+01, 6.95192796e+01, 2.33572147e+02, 7.84759970e+02,\n",
       "       2.63665090e+03, 8.85866790e+03, 2.97635144e+04, 1.00000000e+05])})"
      ]
     },
     "execution_count": 204,
     "metadata": {},
     "output_type": "execute_result"
    }
   ],
   "source": [
    "krp3.fit(X_train.copy(), y_train.copy())"
   ]
  },
  {
   "cell_type": "code",
   "execution_count": 205,
   "id": "099031b2-bc65-404d-8c95-9799c1cf8cae",
   "metadata": {},
   "outputs": [
    {
     "name": "stdout",
     "output_type": "stream",
     "text": [
      "[-2.36842105 -1.31578947 -1.84210526] polynomial\n"
     ]
    }
   ],
   "source": [
    "optimized_p3 = krp3.best_estimator_\n",
    "print(np.log10([optimized_p3.alpha,  optimized_p3.coef0, optimized_p3.gamma]), optimized_p3.kernel)"
   ]
  },
  {
   "cell_type": "code",
   "execution_count": 206,
   "id": "722735ab-a64c-4370-9bdb-5bead182509a",
   "metadata": {},
   "outputs": [],
   "source": [
    "#[10.52631579  8.21052632  0.32222222] polynomial\n",
    "#fig, ax =plt.subplots(3,1,figsize=(10,30))\n",
    "#pvt_p3 = pd.pivot_table(pd.DataFrame(krp3.cv_results_), values='mean_test_score', index='param_alpha', columns='param_coef0')\n",
    "#sns.heatmap(pvt_p3,ax=ax[0])\n",
    "#pvt_p3 = pd.pivot_table(pd.DataFrame(krp3.cv_results_), values='mean_test_score', index='param_alpha', columns='param_gamma')\n",
    "#sns.heatmap(pvt_p3,ax=ax[1])\n",
    "#pvt_p3 = pd.pivot_table(pd.DataFrame(krp3.cv_results_), values='mean_test_score', index='param_coef0', columns='param_gamma')\n",
    "#sns.heatmap(pvt_p3,ax=ax[2])"
   ]
  },
  {
   "cell_type": "code",
   "execution_count": 207,
   "id": "fb1a94d8-b146-4630-a7dd-7473da05d202",
   "metadata": {},
   "outputs": [],
   "source": [
    "model_p3=KernelRidge(alpha=optimized_p3.alpha, kernel=optimized_p3.kernel, coef0=optimized_p3.coef0, gamma=optimized_p3.gamma, kernel_params={\"degree\": 3})"
   ]
  },
  {
   "cell_type": "code",
   "execution_count": 208,
   "id": "f6f7d0b4-560d-453b-be26-940c14e5b143",
   "metadata": {},
   "outputs": [
    {
     "data": {
      "text/plain": [
       "KernelRidge(alpha=0.004281332398719391, coef0=0.04832930238571752,\n",
       "            gamma=0.01438449888287663, kernel='polynomial',\n",
       "            kernel_params={'degree': 3})"
      ]
     },
     "execution_count": 208,
     "metadata": {},
     "output_type": "execute_result"
    }
   ],
   "source": [
    "model_p3.fit(X_train.copy(), y_train.copy())"
   ]
  },
  {
   "cell_type": "code",
   "execution_count": 209,
   "id": "6eab4c3b-a8d4-4932-8ccc-7a620d038c6d",
   "metadata": {},
   "outputs": [],
   "source": [
    "fit_test_p3 = model_p3.predict(X_test.copy())\n",
    "fit_train_p3 = model_p3.predict(X_train.copy())"
   ]
  },
  {
   "cell_type": "code",
   "execution_count": 210,
   "id": "86dddb14-5900-4558-954e-ff8768cbb94b",
   "metadata": {},
   "outputs": [
    {
     "name": "stdout",
     "output_type": "stream",
     "text": [
      "test set\n",
      "=========\n",
      "Mean absolute error: 0.0463759725573684\n",
      "Mean squared error: 0.004840239739173472\n",
      "Max error: 0.35714628473828125\n",
      "True value: 0.17513181940625\n",
      "Predicted value: -0.18201446533203125\n",
      "train set\n",
      "=========\n",
      "Mean absolute error: 0.02403894241072953\n",
      "Mean squared error: 0.0020644974613750005\n",
      "Max error: 0.3203736131718742\n",
      "True value: 19.053955156140624\n",
      "Predicted value: 18.73358154296875\n"
     ]
    }
   ],
   "source": [
    "Utils.print_error(y_test, fit_test_p3, \"test set\")\n",
    "Utils.print_error(y_train, fit_train_p3, \"train set\")"
   ]
  },
  {
   "cell_type": "markdown",
   "id": "1332b789-ce83-44e6-b59d-60fd843e035d",
   "metadata": {},
   "source": [
    "#### cross validation"
   ]
  },
  {
   "cell_type": "code",
   "execution_count": 211,
   "id": "eb825f93-86be-46c7-90bc-3e8eb586410e",
   "metadata": {},
   "outputs": [
    {
     "name": "stdout",
     "output_type": "stream",
     "text": [
      "[0.99924627 0.99902791 0.99940712 0.99951695 0.99935842]\n"
     ]
    }
   ],
   "source": [
    "score_p3 = cross_val_score(model_p3, X, Y, cv=cv)\n",
    "print(score_p3)"
   ]
  },
  {
   "cell_type": "code",
   "execution_count": 212,
   "id": "fb8bc7ae-8c5e-4334-9a94-766e80612dbf",
   "metadata": {},
   "outputs": [
    {
     "name": "stdout",
     "output_type": "stream",
     "text": [
      "--\n",
      "### Cross Validation ###\n",
      "--\n",
      "train set\n",
      "=========\n",
      "Mean absolute error: 0.030732127872821036\n",
      "Mean squared error: 0.002960105655804609\n",
      "Max error: 0.35714628473828125\n",
      "True value: 0.17513181940625\n",
      "Predicted value: -0.18201446533203125\n",
      "test set\n",
      "=========\n",
      "Mean absolute error: 0.02634740194716908\n",
      "Mean squared error: 0.0021599947380073546\n",
      "Max error: 0.3203736131718742\n",
      "True value: 19.053955156140624\n",
      "Predicted value: 18.73358154296875\n",
      "--\n",
      "### Cross Validation ###\n",
      "--\n",
      "train set\n",
      "=========\n",
      "Mean absolute error: 0.029418741534870854\n",
      "Mean squared error: 0.002669480418545568\n",
      "Max error: 0.35714628473828125\n",
      "True value: 0.17513181940625\n",
      "Predicted value: -0.18201446533203125\n",
      "test set\n",
      "=========\n",
      "Mean absolute error: 0.030276978545567948\n",
      "Mean squared error: 0.0030298724617018017\n",
      "Max error: 0.3203736131718742\n",
      "True value: 19.053955156140624\n",
      "Predicted value: 18.73358154296875\n",
      "--\n",
      "### Cross Validation ###\n",
      "--\n",
      "train set\n",
      "=========\n",
      "Mean absolute error: 0.03115207345956261\n",
      "Mean squared error: 0.003069343560946455\n",
      "Max error: 0.35714628473828125\n",
      "True value: 0.17513181940625\n",
      "Predicted value: -0.18201446533203125\n",
      "test set\n",
      "=========\n",
      "Mean absolute error: 0.02509070067129577\n",
      "Mean squared error: 0.0018333346247533006\n",
      "Max error: 0.21108756287695485\n",
      "True value: 17.800108573597655\n",
      "Predicted value: 18.01119613647461\n",
      "--\n",
      "### Cross Validation ###\n",
      "--\n",
      "train set\n",
      "=========\n",
      "Mean absolute error: 0.03058598190499921\n",
      "Mean squared error: 0.0030789782008657845\n",
      "Max error: 0.35714628473828125\n",
      "True value: 0.17513181940625\n",
      "Predicted value: -0.18201446533203125\n",
      "test set\n",
      "=========\n",
      "Mean absolute error: 0.026785482711175132\n",
      "Mean squared error: 0.0018044653128063638\n",
      "Max error: 0.19816382892187434\n",
      "True value: 8.620805897640626\n",
      "Predicted value: 8.8189697265625\n",
      "--\n",
      "### Cross Validation ###\n",
      "--\n",
      "train set\n",
      "=========\n",
      "Mean absolute error: 0.028666500540382785\n",
      "Mean squared error: 0.0025509006021413156\n",
      "Max error: 0.30374115421289094\n",
      "True value: 7.195713344078125\n",
      "Predicted value: 7.499454498291016\n",
      "test set\n",
      "=========\n",
      "Mean absolute error: 0.032528590256394076\n",
      "Mean squared error: 0.0033846493683062826\n",
      "Max error: 0.35714628473828125\n",
      "True value: 0.17513181940625\n",
      "Predicted value: -0.18201446533203125\n"
     ]
    }
   ],
   "source": [
    "for train_index, test_index in cv.split(Y):\n",
    "    fit_test = model_p3.predict(X.copy()[test_index])\n",
    "    fit_train = model_p3.predict(X.copy()[train_index])\n",
    "    \n",
    "    print(\"--\")\n",
    "    print(\"### Cross Validation ###\")\n",
    "    print(\"--\")\n",
    "    Utils.print_error(Y.copy()[train_index], fit_train, \"train set\")\n",
    "    Utils.print_error(Y.copy()[test_index], fit_test, \"test set\")\n",
    "    "
   ]
  },
  {
   "cell_type": "markdown",
   "id": "e8c6e77c-87cb-4184-b39c-86dc65f3ca81",
   "metadata": {},
   "source": [
    "### Polynomial Degree 2"
   ]
  },
  {
   "cell_type": "markdown",
   "id": "96157bf9-3067-4204-9a66-598946becafe",
   "metadata": {},
   "source": [
    "#### My Optimized Hyperparameters"
   ]
  },
  {
   "cell_type": "code",
   "execution_count": 213,
   "id": "c963eb88-3401-4105-9617-a3806dd8e9d6",
   "metadata": {},
   "outputs": [
    {
     "name": "stdout",
     "output_type": "stream",
     "text": [
      "[ 4.73684211 -4.73684211  1.84210526] polynomial\n"
     ]
    }
   ],
   "source": [
    "kr_p2 = GridSearchCV(\n",
    "    KernelRidge(kernel=\"polynomial\", gamma=0.1, degree=2),\n",
    "    param_grid={\"alpha\": np.logspace(-10, 10, 20), \"coef0\": np.logspace(-10, 10, 20), \"gamma\": np.logspace(-5, 5, 20)},\n",
    ")\n",
    "\n",
    "kr_p2.fit(X_train.copy(), y_train.copy())\n",
    "optimized_p2 = kr_p2.best_estimator_\n",
    "print(np.log10([optimized_p2.alpha,  optimized_p2.coef0, optimized_p2.gamma]), optimized_p2.kernel)"
   ]
  },
  {
   "cell_type": "code",
   "execution_count": 214,
   "id": "362d0416-bd76-42d5-a9bb-d181ea2a9a83",
   "metadata": {},
   "outputs": [],
   "source": [
    "#fig, ax =plt.subplots(3,1,figsize=(10,30))\n",
    "#pvt_p2 = pd.pivot_table(pd.DataFrame(kr_p2.cv_results_), values='mean_test_score', index='param_alpha', columns='param_coef0')\n",
    "#sns.heatmap(pvt_p2,ax=ax[0])\n",
    "#pvt_p2 = pd.pivot_table(pd.DataFrame(kr_p2.cv_results_), values='mean_test_score', index='param_alpha', columns='param_gamma')\n",
    "#sns.heatmap(pvt_p2,ax=ax[1])\n",
    "#pvt_p2 = pd.pivot_table(pd.DataFrame(kr_p2.cv_results_), values='mean_test_score', index='param_coef0', columns='param_gamma')\n",
    "#sns.heatmap(pvt_p2,ax=ax[2])"
   ]
  },
  {
   "cell_type": "code",
   "execution_count": 215,
   "id": "683e9885-426c-4e4e-9609-7434cdeca7a0",
   "metadata": {},
   "outputs": [],
   "source": [
    "model_p2=KernelRidge(alpha=optimized_p2.alpha, kernel=optimized_p2.kernel, coef0=optimized_p2.coef0, gamma=optimized_p2.gamma, kernel_params={\"degree\": 2})"
   ]
  },
  {
   "cell_type": "code",
   "execution_count": 216,
   "id": "92d6444e-8875-4e87-a2bb-bb114d5b268d",
   "metadata": {},
   "outputs": [
    {
     "data": {
      "text/plain": [
       "KernelRidge(alpha=54555.947811685146, coef0=1.8329807108324338e-05,\n",
       "            gamma=69.51927961775606, kernel='polynomial',\n",
       "            kernel_params={'degree': 2})"
      ]
     },
     "execution_count": 216,
     "metadata": {},
     "output_type": "execute_result"
    }
   ],
   "source": [
    "model_p2.fit(X_train.copy(), y_train.copy())"
   ]
  },
  {
   "cell_type": "code",
   "execution_count": 217,
   "id": "c3e58f5f-4ae3-4f89-88fd-e6d1e001979b",
   "metadata": {},
   "outputs": [],
   "source": [
    "fit_test_p2 = model_p2.predict(X_test.copy())\n",
    "fit_train_p2 = model_p2.predict(X_train.copy())"
   ]
  },
  {
   "cell_type": "code",
   "execution_count": 218,
   "id": "5999fdb2-7114-445d-91e2-6dd50d0c4011",
   "metadata": {},
   "outputs": [
    {
     "name": "stdout",
     "output_type": "stream",
     "text": [
      "test set\n",
      "=========\n",
      "Mean absolute error: 0.2575168694014972\n",
      "Mean squared error: 0.16684513617134483\n",
      "Max error: 2.712515852609375\n",
      "True value: 0.17513181940625\n",
      "Predicted value: -2.537384033203125\n",
      "train set\n",
      "=========\n",
      "Mean absolute error: 0.1430163509212496\n",
      "Mean squared error: 0.03367213443907913\n",
      "Max error: 0.70254533059375\n",
      "True value: 0.6981504701875\n",
      "Predicted value: 1.40069580078125\n"
     ]
    }
   ],
   "source": [
    "Utils.print_error(y_test, fit_test_p2, \"test set\")\n",
    "Utils.print_error(y_train, fit_train_p2, \"train set\")"
   ]
  },
  {
   "cell_type": "markdown",
   "id": "027fce83-5965-443c-8527-b902005468ad",
   "metadata": {},
   "source": [
    "#### Cross Validation"
   ]
  },
  {
   "cell_type": "code",
   "execution_count": 219,
   "id": "0f9cf337-da3a-4758-adc1-8a3b519efc95",
   "metadata": {},
   "outputs": [
    {
     "name": "stdout",
     "output_type": "stream",
     "text": [
      "[0.99827417 0.98431799 0.94251282 0.99477233 0.99395249]\n"
     ]
    }
   ],
   "source": [
    "score_p2 = cross_val_score(model_p2, X, Y, cv=cv)\n",
    "print(score_p2)"
   ]
  },
  {
   "cell_type": "code",
   "execution_count": 220,
   "id": "87ff9504-b68d-41c0-ac51-e425e46b728b",
   "metadata": {},
   "outputs": [
    {
     "name": "stdout",
     "output_type": "stream",
     "text": [
      "--\n",
      "### Cross Validation ###\n",
      "--\n",
      "train set\n",
      "=========\n",
      "Mean absolute error: 0.17377660095260877\n",
      "Mean squared error: 0.07051337293874696\n",
      "Max error: 2.712515852609375\n",
      "True value: 0.17513181940625\n",
      "Predicted value: -2.537384033203125\n",
      "test set\n",
      "=========\n",
      "Mean absolute error: 0.16547270639623932\n",
      "Mean squared error: 0.05660620309760786\n",
      "Max error: 1.70111486803125\n",
      "True value: 0.222446655140625\n",
      "Predicted value: -1.478668212890625\n",
      "--\n",
      "### Cross Validation ###\n",
      "--\n",
      "train set\n",
      "=========\n",
      "Mean absolute error: 0.17055506308479593\n",
      "Mean squared error: 0.06651567382878798\n",
      "Max error: 2.712515852609375\n",
      "True value: 0.17513181940625\n",
      "Predicted value: -2.537384033203125\n",
      "test set\n",
      "=========\n",
      "Mean absolute error: 0.1751029585172588\n",
      "Mean squared error: 0.06856699526393407\n",
      "Max error: 2.061978536421875\n",
      "True value: 0.051974100296875\n",
      "Predicted value: 2.11395263671875\n",
      "--\n",
      "### Cross Validation ###\n",
      "--\n",
      "train set\n",
      "=========\n",
      "Mean absolute error: 0.17974414114495316\n",
      "Mean squared error: 0.0736497871092616\n",
      "Max error: 2.712515852609375\n",
      "True value: 0.17513181940625\n",
      "Predicted value: -2.537384033203125\n",
      "test set\n",
      "=========\n",
      "Mean absolute error: 0.1476051391117217\n",
      "Mean squared error: 0.047217009658945264\n",
      "Max error: 1.70111486803125\n",
      "True value: 0.222446655140625\n",
      "Predicted value: -1.478668212890625\n",
      "--\n",
      "### Cross Validation ###\n",
      "--\n",
      "train set\n",
      "=========\n",
      "Mean absolute error: 0.17319079474598953\n",
      "Mean squared error: 0.07244460929806354\n",
      "Max error: 2.712515852609375\n",
      "True value: 0.17513181940625\n",
      "Predicted value: -2.537384033203125\n",
      "test set\n",
      "=========\n",
      "Mean absolute error: 0.1672195202858543\n",
      "Mean squared error: 0.0508228260984707\n",
      "Max error: 0.9288778138984375\n",
      "True value: 0.0435628724921875\n",
      "Predicted value: -0.88531494140625\n",
      "--\n",
      "### Cross Validation ###\n",
      "--\n",
      "train set\n",
      "=========\n",
      "Mean absolute error: 0.17061425157164764\n",
      "Mean squared error: 0.061304173538257935\n",
      "Max error: 2.061978536421875\n",
      "True value: 0.051974100296875\n",
      "Predicted value: 2.11395263671875\n",
      "test set\n",
      "=========\n",
      "Mean absolute error: 0.17491539988157973\n",
      "Mean squared error: 0.08416000802734895\n",
      "Max error: 2.712515852609375\n",
      "True value: 0.17513181940625\n",
      "Predicted value: -2.537384033203125\n"
     ]
    }
   ],
   "source": [
    "for train_index, test_index in cv.split(Y):\n",
    "    fit_test = model_p2.predict(X.copy()[test_index])\n",
    "    fit_train = model_p2.predict(X.copy()[train_index])\n",
    "    \n",
    "    print(\"--\")\n",
    "    print(\"### Cross Validation ###\")\n",
    "    print(\"--\")\n",
    "    Utils.print_error(Y.copy()[train_index], fit_train, \"train set\")\n",
    "    Utils.print_error(Y.copy()[test_index], fit_test, \"test set\")"
   ]
  },
  {
   "cell_type": "markdown",
   "id": "b2d4e9ad-5614-416c-ac28-e712a7316488",
   "metadata": {},
   "source": [
    "### Gaussian"
   ]
  },
  {
   "cell_type": "markdown",
   "id": "4324ef25-cb35-4985-817f-474f2da9275a",
   "metadata": {},
   "source": [
    "#### My Optimized Hyperparameters"
   ]
  },
  {
   "cell_type": "code",
   "execution_count": 221,
   "id": "207c5621-b763-4b2e-812c-96dfa71bee98",
   "metadata": {},
   "outputs": [
    {
     "name": "stdout",
     "output_type": "stream",
     "text": [
      "[-5.         -3.42105263] rbf\n"
     ]
    }
   ],
   "source": [
    "kr_g = GridSearchCV(\n",
    "    KernelRidge(kernel=\"rbf\", gamma=0.1),\n",
    "    param_grid={\"alpha\": np.logspace(-5, 5, 20), \"gamma\": np.logspace(-5, 5, 20)},\n",
    ")\n",
    "\n",
    "kr_g.fit(X_train.copy(), y_train.copy())\n",
    "optimized_g = kr_g.best_estimator_\n",
    "print(np.log10([optimized_g.alpha, optimized_g.gamma]), optimized_g.kernel)"
   ]
  },
  {
   "cell_type": "code",
   "execution_count": 222,
   "id": "ef4da015-a4a7-480c-a04e-33c3fcba03c5",
   "metadata": {},
   "outputs": [],
   "source": [
    "#fig, ax =plt.subplots(1,1,figsize=(10,10))\n",
    "#pvt_g = pd.pivot_table(pd.DataFrame(kr_g.cv_results_), values='mean_test_score', index='param_alpha', columns='param_gamma')\n",
    "#sns.heatmap(pvt_g,ax=ax)"
   ]
  },
  {
   "cell_type": "code",
   "execution_count": 223,
   "id": "f1cc4487-a025-447f-b832-038c81d0b3dc",
   "metadata": {},
   "outputs": [],
   "source": [
    "model_g=KernelRidge(alpha=optimized_g.alpha, kernel=optimized_g.kernel, coef0=0, gamma=optimized_g.gamma) \n"
   ]
  },
  {
   "cell_type": "code",
   "execution_count": 224,
   "id": "9e73dfb5-adde-4faf-82e4-586c48605502",
   "metadata": {},
   "outputs": [
    {
     "data": {
      "text/plain": [
       "KernelRidge(alpha=1e-05, coef0=0, gamma=0.000379269019073225, kernel='rbf')"
      ]
     },
     "execution_count": 224,
     "metadata": {},
     "output_type": "execute_result"
    }
   ],
   "source": [
    "model_g.fit(X_train.copy(), y_train.copy())"
   ]
  },
  {
   "cell_type": "code",
   "execution_count": 225,
   "id": "006b7ea0-ee56-4d1d-9dd7-bb7c0120b693",
   "metadata": {},
   "outputs": [],
   "source": [
    "fit_test_g = model_g.predict(X_test.copy())\n",
    "fit_train_g = model_g.predict(X_train.copy())"
   ]
  },
  {
   "cell_type": "code",
   "execution_count": 226,
   "id": "3e76b751-bdfe-45e5-9ec8-e5dc9933dfa6",
   "metadata": {},
   "outputs": [
    {
     "name": "stdout",
     "output_type": "stream",
     "text": [
      "test set\n",
      "=========\n",
      "Mean absolute error: 0.05491066200059176\n",
      "Mean squared error: 0.008405917996410911\n",
      "Max error: 0.5541454689165928\n",
      "True value: 14.909305092890625\n",
      "Predicted value: 14.355159623974032\n",
      "train set\n",
      "=========\n",
      "Mean absolute error: 0.03973475919668958\n",
      "Mean squared error: 0.005672736790486293\n",
      "Max error: 0.6278604968948329\n",
      "True value: 19.053955156140624\n",
      "Predicted value: 18.42609465924579\n"
     ]
    }
   ],
   "source": [
    "Utils.print_error(y_test, fit_test_g, \"test set\")\n",
    "Utils.print_error(y_train, fit_train_g, \"train set\")"
   ]
  },
  {
   "cell_type": "markdown",
   "id": "cbaa4eff-e017-4342-a277-1e5c43b75a57",
   "metadata": {},
   "source": [
    "####  Cross Validation"
   ]
  },
  {
   "cell_type": "code",
   "execution_count": 227,
   "id": "6d0bfd36-c945-44c6-a50f-7f43ca4022ed",
   "metadata": {},
   "outputs": [
    {
     "name": "stdout",
     "output_type": "stream",
     "text": [
      "[0.99877497 0.99829023 0.99884774 0.99893807 0.9985908 ]\n"
     ]
    }
   ],
   "source": [
    "score_g = cross_val_score(model_g, X, Y, cv=cv) \n",
    "print(score_g)"
   ]
  },
  {
   "cell_type": "code",
   "execution_count": 228,
   "id": "3b10e3c7-cb1b-4560-bc9d-bdffbf71d2f0",
   "metadata": {},
   "outputs": [
    {
     "name": "stdout",
     "output_type": "stream",
     "text": [
      "--\n",
      "### Cross Validation ###\n",
      "--\n",
      "train set\n",
      "=========\n",
      "Mean absolute error: 0.04498910061429395\n",
      "Mean squared error: 0.006489906069926162\n",
      "Max error: 0.5541454689165928\n",
      "True value: 14.909305092890625\n",
      "Predicted value: 14.355159623974032\n",
      "test set\n",
      "=========\n",
      "Mean absolute error: 0.03918759471376586\n",
      "Mean squared error: 0.005960624373175273\n",
      "Max error: 0.6278604968948329\n",
      "True value: 19.053955156140624\n",
      "Predicted value: 18.42609465924579\n",
      "--\n",
      "### Cross Validation ###\n",
      "--\n",
      "train set\n",
      "=========\n",
      "Mean absolute error: 0.043438471928049976\n",
      "Mean squared error: 0.006010042034921331\n",
      "Max error: 0.5541454689165928\n",
      "True value: 14.909305092890625\n",
      "Predicted value: 14.355159623974032\n",
      "test set\n",
      "=========\n",
      "Mean absolute error: 0.04382768892070889\n",
      "Mean squared error: 0.0073965673219255745\n",
      "Max error: 0.6278604968948329\n",
      "True value: 19.053955156140624\n",
      "Predicted value: 18.42609465924579\n",
      "--\n",
      "### Cross Validation ###\n",
      "--\n",
      "train set\n",
      "=========\n",
      "Mean absolute error: 0.04503575749530748\n",
      "Mean squared error: 0.0068648875876742505\n",
      "Max error: 0.6278604968948329\n",
      "True value: 19.053955156140624\n",
      "Predicted value: 18.42609465924579\n",
      "test set\n",
      "=========\n",
      "Mean absolute error: 0.03904797887312449\n",
      "Mean squared error: 0.00483853138986864\n",
      "Max error: 0.3713730488625675\n",
      "True value: 15.407408287453125\n",
      "Predicted value: 15.036035238590557\n",
      "--\n",
      "### Cross Validation ###\n",
      "--\n",
      "train set\n",
      "=========\n",
      "Mean absolute error: 0.045260941413581585\n",
      "Mean squared error: 0.007154804506763877\n",
      "Max error: 0.6278604968948329\n",
      "True value: 19.053955156140624\n",
      "Predicted value: 18.42609465924579\n",
      "test set\n",
      "=========\n",
      "Mean absolute error: 0.038374139547941895\n",
      "Mean squared error: 0.00397098532455987\n",
      "Max error: 0.23844076285876525\n",
      "True value: 11.518226873390624\n",
      "Predicted value: 11.279786110531859\n",
      "--\n",
      "### Cross Validation ###\n",
      "--\n",
      "train set\n",
      "=========\n",
      "Mean absolute error: 0.040663907867080934\n",
      "Mean squared error: 0.005405517685722075\n",
      "Max error: 0.4653890523313571\n",
      "True value: 16.762563466765624\n",
      "Predicted value: 16.297174414434267\n",
      "test set\n",
      "=========\n",
      "Mean absolute error: 0.052130281756948296\n",
      "Mean squared error: 0.009205543226163015\n",
      "Max error: 0.6278604968948329\n",
      "True value: 19.053955156140624\n",
      "Predicted value: 18.42609465924579\n"
     ]
    }
   ],
   "source": [
    "for train_index, test_index in cv.split(Y):\n",
    "    fit_test = model_g.predict(X.copy()[test_index])\n",
    "    fit_train = model_g.predict(X.copy()[train_index])\n",
    "    \n",
    "    print(\"--\")\n",
    "    print(\"### Cross Validation ###\")\n",
    "    print(\"--\")\n",
    "    Utils.print_error(Y.copy()[train_index], fit_train, \"train set\")\n",
    "    Utils.print_error(Y.copy()[test_index], fit_test, \"test set\")"
   ]
  },
  {
   "cell_type": "markdown",
   "id": "3af39b3a-4edc-4b14-a693-60bf65ddcf08",
   "metadata": {},
   "source": [
    "### Laplacian"
   ]
  },
  {
   "cell_type": "markdown",
   "id": "d40477ab-c7a4-4171-9cae-b00861ac0132",
   "metadata": {},
   "source": [
    "#### My Optimized Hyperparameters"
   ]
  },
  {
   "cell_type": "code",
   "execution_count": 229,
   "id": "fd279939-79ea-4229-90c0-5fd7ad864f54",
   "metadata": {},
   "outputs": [
    {
     "name": "stdout",
     "output_type": "stream",
     "text": [
      "[-15.          -3.33333333] laplacian\n"
     ]
    }
   ],
   "source": [
    "kr_l = GridSearchCV(\n",
    "    KernelRidge(kernel=\"laplacian\", gamma=0.1),\n",
    "    param_grid={\"alpha\": np.logspace(-15, 15, 20), \"gamma\": np.logspace(-10, 10, 10)},\n",
    ")\n",
    "\n",
    "kr_l.fit(X_train.copy(), y_train.copy())\n",
    "optimized_l = kr_l.best_estimator_\n",
    "print(np.log10([optimized_l.alpha, optimized_l.gamma]), optimized_l.kernel)"
   ]
  },
  {
   "cell_type": "code",
   "execution_count": 230,
   "id": "7f29634a-2906-4a13-b125-6b180aaf38fa",
   "metadata": {},
   "outputs": [],
   "source": [
    "#fig, ax =plt.subplots(1,1,figsize=(10,10))\n",
    "#pvt_l = pd.pivot_table(pd.DataFrame(kr_l.cv_results_), values='mean_test_score', index='param_alpha', columns='param_gamma')\n",
    "#sns.heatmap(pvt_l,ax=ax)"
   ]
  },
  {
   "cell_type": "code",
   "execution_count": 231,
   "id": "a22545d9-b101-4355-a311-97e0a380f262",
   "metadata": {},
   "outputs": [],
   "source": [
    "model_l=KernelRidge(alpha=optimized_l.alpha, kernel=optimized_l.kernel, coef0=0, gamma=optimized_l.gamma) "
   ]
  },
  {
   "cell_type": "code",
   "execution_count": 232,
   "id": "e2c9963a-03ad-4c65-bb5c-4335b995b371",
   "metadata": {},
   "outputs": [
    {
     "data": {
      "text/plain": [
       "KernelRidge(alpha=1e-15, coef0=0, gamma=0.0004641588833612782,\n",
       "            kernel='laplacian')"
      ]
     },
     "execution_count": 232,
     "metadata": {},
     "output_type": "execute_result"
    }
   ],
   "source": [
    "model_l.fit(X_train.copy(), y_train.copy()) "
   ]
  },
  {
   "cell_type": "code",
   "execution_count": 233,
   "id": "7fdf9569-788b-4758-82e8-861fae9d0288",
   "metadata": {},
   "outputs": [],
   "source": [
    "fit_test_l = model_l.predict(X_test.copy())\n",
    "fit_train_l = model_l.predict(X_train.copy())"
   ]
  },
  {
   "cell_type": "code",
   "execution_count": 234,
   "id": "806051bd-9299-4f22-84f0-31e6d4683810",
   "metadata": {},
   "outputs": [
    {
     "name": "stdout",
     "output_type": "stream",
     "text": [
      "test set\n",
      "=========\n",
      "Mean absolute error: 0.030670863476876493\n",
      "Mean squared error: 0.0025435806096472686\n",
      "Max error: 0.28882557466618586\n",
      "True value: 11.4877453640625\n",
      "Predicted value: 11.198919789396314\n",
      "train set\n",
      "=========\n",
      "Mean absolute error: 1.282825382026107e-10\n",
      "Mean squared error: 2.570500766355159e-20\n",
      "Max error: 5.047477991126925e-10\n",
      "True value: 2.750357348765625\n",
      "Predicted value: 2.750357348260877\n"
     ]
    }
   ],
   "source": [
    "Utils.print_error(y_test, fit_test_l, \"test set\")\n",
    "Utils.print_error(y_train, fit_train_l, \"train set\")"
   ]
  },
  {
   "cell_type": "markdown",
   "id": "c98ce575-e9ae-41a4-9a5a-1c5ac8bf4a1a",
   "metadata": {},
   "source": [
    "#### Cross Validation"
   ]
  },
  {
   "cell_type": "code",
   "execution_count": 235,
   "id": "9dd6f3b9-6608-48be-980a-a82b3c3d3a6b",
   "metadata": {},
   "outputs": [
    {
     "name": "stdout",
     "output_type": "stream",
     "text": [
      "[0.99968216 0.99965177 0.99982296 0.99980264 0.99966752]\n"
     ]
    }
   ],
   "source": [
    "score_l = cross_val_score(model_l, X, Y, cv=cv) \n",
    "print(score_l)"
   ]
  },
  {
   "cell_type": "code",
   "execution_count": 236,
   "id": "4bc54fb7-426e-4ee7-b844-049e75fe0e20",
   "metadata": {},
   "outputs": [
    {
     "name": "stdout",
     "output_type": "stream",
     "text": [
      "--\n",
      "### Cross Validation ###\n",
      "--\n",
      "train set\n",
      "=========\n",
      "Mean absolute error: 0.00847011878835007\n",
      "Mean squared error: 0.0007383112511842988\n",
      "Max error: 0.28882557466618586\n",
      "True value: 11.4877453640625\n",
      "Predicted value: 11.198919789396314\n",
      "test set\n",
      "=========\n",
      "Mean absolute error: 0.0053249190447003675\n",
      "Mean squared error: 0.0003342613903059694\n",
      "Max error: 0.1681756396802525\n",
      "True value: 6.018077970070313\n",
      "Predicted value: 6.186253609750565\n",
      "--\n",
      "### Cross Validation ###\n",
      "--\n",
      "train set\n",
      "=========\n",
      "Mean absolute error: 0.008534549175718971\n",
      "Mean squared error: 0.000786553355330514\n",
      "Max error: 0.28882557466618586\n",
      "True value: 11.4877453640625\n",
      "Predicted value: 11.198919789396314\n",
      "test set\n",
      "=========\n",
      "Mean absolute error: 0.005132117846886904\n",
      "Mean squared error: 0.0001899019379836119\n",
      "Max error: 0.07664352818196801\n",
      "True value: 0.26593866234375\n",
      "Predicted value: 0.34258219052571803\n",
      "--\n",
      "### Cross Validation ###\n",
      "--\n",
      "train set\n",
      "=========\n",
      "Mean absolute error: 0.008013070722805129\n",
      "Mean squared error: 0.0007260013419543931\n",
      "Max error: 0.28882557466618586\n",
      "True value: 11.4877453640625\n",
      "Predicted value: 11.198919789396314\n",
      "test set\n",
      "=========\n",
      "Mean absolute error: 0.006692587590618966\n",
      "Mean squared error: 0.00037109750651202446\n",
      "Max error: 0.1910668811730165\n",
      "True value: 8.2931455170625\n",
      "Predicted value: 8.102078635889484\n",
      "--\n",
      "### Cross Validation ###\n",
      "--\n",
      "train set\n",
      "=========\n",
      "Mean absolute error: 0.007345560795170614\n",
      "Mean squared error: 0.0005672245098430219\n",
      "Max error: 0.28882557466618586\n",
      "True value: 11.4877453640625\n",
      "Predicted value: 11.198919789396314\n",
      "test set\n",
      "=========\n",
      "Mean absolute error: 0.00869004125362723\n",
      "Mean squared error: 0.0008462205745442385\n",
      "Max error: 0.2681532956884176\n",
      "True value: 9.16996758425\n",
      "Predicted value: 8.901814288561582\n",
      "--\n",
      "### Cross Validation ###\n",
      "--\n",
      "train set\n",
      "=========\n",
      "Mean absolute error: 0.007212108860521131\n",
      "Mean squared error: 0.0005544220864367777\n",
      "Max error: 0.28882557466618586\n",
      "True value: 11.4877453640625\n",
      "Predicted value: 11.198919789396314\n",
      "test set\n",
      "=========\n",
      "Mean absolute error: 0.009089382211893607\n",
      "Mean squared error: 0.0008845304878687324\n",
      "Max error: 0.26459640085849045\n",
      "True value: 10.66227489021875\n",
      "Predicted value: 10.39767848936026\n"
     ]
    }
   ],
   "source": [
    " for train_index, test_index in cv.split(Y):\n",
    "    fit_test = model_l.predict(X.copy()[test_index])\n",
    "    fit_train = model_l.predict(X.copy()[train_index])\n",
    "    \n",
    "    print(\"--\")\n",
    "    print(\"### Cross Validation ###\")\n",
    "    print(\"--\")\n",
    "    Utils.print_error(Y.copy()[train_index], fit_train, \"train set\")\n",
    "    Utils.print_error(Y.copy()[test_index], fit_test, \"test set\")"
   ]
  },
  {
   "cell_type": "markdown",
   "id": "789783b1-811a-4559-85b8-90b36f7842c2",
   "metadata": {},
   "source": [
    "### Comparison and Analyze"
   ]
  },
  {
   "cell_type": "code",
   "execution_count": 237,
   "id": "b0979a7b-8d21-4273-8d22-b9f0e9391e3c",
   "metadata": {},
   "outputs": [],
   "source": [
    "err_train_p3 = Utils.compute_error(y_train, fit_train_p3)\n",
    "err_train_p2 = Utils.compute_error(y_train, fit_train_p2)\n",
    "err_train_g = Utils.compute_error(y_train, fit_train_g)\n",
    "err_train_l = Utils.compute_error(y_train, fit_train_l)\n",
    "\n",
    "err_train_p3 = np.asarray(err_train_p3)\n",
    "err_train_p2 = np.asarray(err_train_p2)\n",
    "err_train_g = np.asarray(err_train_g)\n",
    "err_train_l = np.asarray(err_train_l)\n",
    "\n",
    "err_train = np.stack((err_train_p3, err_train_p2, err_train_g, err_train_l), axis=1)\n",
    "\n",
    "######\n",
    "\n",
    "err_test_p3 = Utils.compute_error(y_test, fit_test_p3)\n",
    "err_test_p2 = Utils.compute_error(y_test, fit_test_p2)\n",
    "err_test_g = Utils.compute_error(y_test, fit_test_g)\n",
    "err_test_l = Utils.compute_error(y_test, fit_test_l)\n",
    "\n",
    "err_test_p3 = np.asarray(err_test_p3)\n",
    "err_test_p2 = np.asarray(err_test_p2)\n",
    "err_test_g = np.asarray(err_test_g)\n",
    "err_test_l = np.asarray(err_test_l)\n",
    "\n",
    "err_test = np.stack((err_test_p3, err_test_p2, err_test_g, err_test_l), axis=1)\n",
    "\n",
    "\n"
   ]
  },
  {
   "cell_type": "code",
   "execution_count": 238,
   "id": "529dc248-6a3a-4f42-9e2e-75bc5dd4b771",
   "metadata": {},
   "outputs": [],
   "source": [
    "column_labels=[\"Polynomial 3\", \"Polynomial 2\", \"Gaussian\", \"Laplacian\"]\n",
    "df_train=pd.DataFrame(err_train,columns=column_labels)\n",
    "df_test=pd.DataFrame(err_test,columns=column_labels)\n",
    "df_train.update(df_train[[\"Polynomial 3\", \"Polynomial 2\", \"Gaussian\", \"Laplacian\"]].applymap('{:,.6f}'.format))\n",
    "df_test.update(df_test[[\"Polynomial 3\", \"Polynomial 2\", \"Gaussian\", \"Laplacian\"]].applymap('{:,.6f}'.format))\n"
   ]
  },
  {
   "cell_type": "code",
   "execution_count": 239,
   "id": "4674875c-99ff-49f3-ab26-caad5a5dcfdd",
   "metadata": {},
   "outputs": [
    {
     "data": {
      "text/plain": [
       "<matplotlib.table.Table at 0x126ac2af0>"
      ]
     },
     "execution_count": 239,
     "metadata": {},
     "output_type": "execute_result"
    },
    {
     "data": {
      "image/png": "[encoded data removed]",
      "text/plain": [
       "<Figure size 1800x288 with 2 Axes>"
      ]
     },
     "metadata": {
      "needs_background": "light"
     },
     "output_type": "display_data"
    }
   ],
   "source": [
    "fig, ax =plt.subplots(2,1,figsize=(25,4))\n",
    "ax[0].axis('tight')\n",
    "ax[0].axis('off')\n",
    "ax[1].axis('tight')\n",
    "ax[1].axis('off')\n",
    "ax[0].set_title(\"Train Set\")\n",
    "ax[1].set_title(\"Test Set\")\n",
    "ax[0].table(cellText=df_train.values,colLabels=df_train.columns,rowLabels=[\"MAE\",\"MSE\",\"ME\",\"True\",\"Predict\"],loc=\"center\",cellLoc='center')\n",
    "ax[1].table(cellText=df_test.values,colLabels=df_test.columns,rowLabels=[\"MAE\",\"MSE\",\"ME\",\"True\",\"Predict\"],loc=\"center\",cellLoc='center')"
   ]
  },
  {
   "cell_type": "code",
   "execution_count": 240,
   "id": "52995880-f643-4b42-9c23-53a877c3daab",
   "metadata": {},
   "outputs": [],
   "source": [
    "rwth_blau = (0, 84 / 255, 159 / 255)\n",
    "rwth_mangenta = (227 / 255, 0 / 255, 102 / 255)\n",
    "rwth_gelb = (255 / 255, 237 / 255, 0 / 255)\n",
    "rwth_gruen = (87 / 255, 171 / 255, 39 / 255)\n",
    "rwth_orange = (246 / 255, 168 / 255, 0 / 255)\n",
    "rwth_rot = (204 / 255, 7 / 255, 30 / 255)\n"
   ]
  },
  {
   "cell_type": "code",
   "execution_count": null,
   "id": "557508db-419e-4270-8e92-1213e4b4c087",
   "metadata": {},
   "outputs": [],
   "source": []
  },
  {
   "cell_type": "code",
   "execution_count": null,
   "id": "60a1c77a-3016-46a1-bc51-56f711d72b8f",
   "metadata": {},
   "outputs": [],
   "source": []
  },
  {
   "cell_type": "code",
   "execution_count": null,
   "id": "a765cb1e-cb78-4964-86d9-ccabf0340362",
   "metadata": {},
   "outputs": [],
   "source": []
  },
  {
   "cell_type": "code",
   "execution_count": 241,
   "id": "d782b08f-4d03-43d1-a7f8-ec5da4a8ecdb",
   "metadata": {},
   "outputs": [
    {
     "data": {
      "image/png": "[encoded data removed]",
      "text/plain": [
       "<Figure size 432x288 with 1 Axes>"
      ]
     },
     "metadata": {
      "needs_background": "light"
     },
     "output_type": "display_data"
    }
   ],
   "source": [
    "plt.figure()\n",
    "plt.rc('text', usetex=True)\n",
    "plt.style.use('bmh')\n",
    "plt.rcParams[\"axes.edgecolor\"] = \"black\"\n",
    "plt.rcParams[\"axes.linewidth\"] = 1\n",
    "plt.rcParams.update({'font.size': 12})\n",
    "\n",
    "plt.xlabel(r\"true $H^E$ [kj/mol]\")\n",
    "plt.ylabel(r\"predicted $H^E$ [kj/mol]\")\n",
    "min_value = min(np.min(y_test), np.min(y_train))\n",
    "max_value = max(np.max(y_test), np.max(y_train))\n",
    "plt.plot([min_value, max_value], [min_value, max_value], linestyle=\"--\", color=rwth_gruen)\n",
    "plt.plot(y_test, fit_test_p3, '.', label=\"Test data\", color=rwth_blau)\n",
    "plt.plot(y_train, fit_train_p3, '.', label=\"Train data\", color=rwth_rot)\n",
    "plt.autoscale(enable=True, axis='both', tight=True)\n",
    "plt.grid(True, which=\"both\")\n",
    "\n",
    "ax = plt.gca()\n",
    "ax.tick_params(which='both', direction='out')\n",
    "# plt.savefig(\"seperable.pdf\")\n",
    "\n",
    "plt.legend(facecolor='white', framealpha=1, edgecolor=\"black\", loc=\"upper left\")\n",
    "plt.tight_layout()\n",
    "plt.savefig(\"KRR_ploy3_fit_2.pdf\")"
   ]
  },
  {
   "cell_type": "code",
   "execution_count": 242,
   "id": "3ca86590-d22a-492d-9b24-d349c137e893",
   "metadata": {},
   "outputs": [
    {
     "data": {
      "image/png": "[encoded data removed]",
      "text/plain": [
       "<Figure size 432x288 with 1 Axes>"
      ]
     },
     "metadata": {
      "needs_background": "light"
     },
     "output_type": "display_data"
    }
   ],
   "source": [
    "plt.figure()\n",
    "plt.rc('text', usetex=True)\n",
    "plt.style.use('bmh')\n",
    "plt.rcParams[\"axes.edgecolor\"] = \"black\"\n",
    "plt.rcParams[\"axes.linewidth\"] = 1\n",
    "plt.rcParams.update({'font.size': 12})\n",
    "\n",
    "plt.xlabel(r\"true $H^E$ [kj/mol]\")\n",
    "plt.ylabel(r\"predicted $H^E$ [kj/mol]\")\n",
    "min_value = min(np.min(y_test), np.min(y_train))\n",
    "max_value = max(np.max(y_test), np.max(y_train))\n",
    "plt.plot([min_value, max_value], [min_value, max_value], linestyle=\"--\", color=rwth_gruen)\n",
    "plt.plot(y_test, fit_test_p2, '.', label=\"Test data\", color=rwth_blau)\n",
    "plt.plot(y_train, fit_train_p2, '.', label=\"Train data\", color=rwth_rot)\n",
    "plt.autoscale(enable=True, axis='both', tight=True)\n",
    "plt.grid(True, which=\"both\")\n",
    "\n",
    "ax = plt.gca()\n",
    "ax.tick_params(which='both', direction='out')\n",
    "# plt.savefig(\"seperable.pdf\")\n",
    "\n",
    "plt.legend(facecolor='white', framealpha=1, edgecolor=\"black\", loc=\"upper left\")\n",
    "plt.tight_layout()\n",
    "plt.savefig(\"KRR_ploy2_fit_2.pdf\")"
   ]
  },
  {
   "cell_type": "code",
   "execution_count": 243,
   "id": "23461d37-5fac-4a59-abe6-4630615c6334",
   "metadata": {},
   "outputs": [
    {
     "data": {
      "image/png": "[encoded data removed]",
      "text/plain": [
       "<Figure size 432x288 with 1 Axes>"
      ]
     },
     "metadata": {
      "needs_background": "light"
     },
     "output_type": "display_data"
    }
   ],
   "source": [
    "plt.figure()\n",
    "plt.rc('text', usetex=True)\n",
    "plt.style.use('bmh')\n",
    "plt.rcParams[\"axes.edgecolor\"] = \"black\"\n",
    "plt.rcParams[\"axes.linewidth\"] = 1\n",
    "plt.rcParams.update({'font.size': 12})\n",
    "\n",
    "plt.xlabel(r\"true $H^E$ [kj/mol]\")\n",
    "plt.ylabel(r\"predicted $H^E$ [kj/mol]\")\n",
    "min_value = min(np.min(y_test), np.min(y_train))\n",
    "max_value = max(np.max(y_test), np.max(y_train))\n",
    "plt.plot([min_value, max_value], [min_value, max_value], linestyle=\"--\", color=rwth_gruen)\n",
    "plt.plot(y_test, fit_test_g, '.', label=\"Test data\", color=rwth_blau)\n",
    "plt.plot(y_train, fit_train_g, '.', label=\"Train data\", color=rwth_rot)\n",
    "plt.autoscale(enable=True, axis='both', tight=True)\n",
    "plt.grid(True, which=\"both\")\n",
    "\n",
    "ax = plt.gca()\n",
    "ax.tick_params(which='both', direction='out')\n",
    "# plt.savefig(\"seperable.pdf\")\n",
    "\n",
    "plt.legend(facecolor='white', framealpha=1, edgecolor=\"black\", loc=\"upper left\")\n",
    "plt.tight_layout()\n",
    "plt.savefig(\"KRR_gauss_fit_2.pdf\")"
   ]
  },
  {
   "cell_type": "code",
   "execution_count": 244,
   "id": "5651b51d-a747-40c0-9ab1-4656eac42aea",
   "metadata": {},
   "outputs": [
    {
     "data": {
      "image/png": "[encoded data removed]",
      "text/plain": [
       "<Figure size 432x288 with 1 Axes>"
      ]
     },
     "metadata": {
      "needs_background": "light"
     },
     "output_type": "display_data"
    }
   ],
   "source": [
    "plt.figure()\n",
    "plt.rc('text', usetex=True)\n",
    "plt.style.use('bmh')\n",
    "plt.rcParams[\"axes.edgecolor\"] = \"black\"\n",
    "plt.rcParams[\"axes.linewidth\"] = 1\n",
    "plt.rcParams.update({'font.size': 12})\n",
    "\n",
    "plt.xlabel(r\"true $H^E$ [kj/mol]\")\n",
    "plt.ylabel(r\"predicted $H^E$ [kj/mol]\")\n",
    "min_value = min(np.min(y_test), np.min(y_train))\n",
    "max_value = max(np.max(y_test), np.max(y_train))\n",
    "plt.plot([min_value, max_value], [min_value, max_value], linestyle=\"--\", color=rwth_gruen)\n",
    "plt.plot(y_test, fit_test_l, '.', label=\"Test data\", color=rwth_blau)\n",
    "plt.plot(y_train, fit_train_l, '.', label=\"Train data\", color=rwth_rot)\n",
    "plt.autoscale(enable=True, axis='both', tight=True)\n",
    "plt.grid(True, which=\"both\")\n",
    "\n",
    "ax = plt.gca()\n",
    "ax.tick_params(which='both', direction='out')\n",
    "# plt.savefig(\"seperable.pdf\")\n",
    "\n",
    "plt.legend(facecolor='white', framealpha=1, edgecolor=\"black\", loc=\"upper left\")\n",
    "plt.tight_layout()\n",
    "plt.savefig(\"KRR_laplace_fit_2.pdf\")"
   ]
  },
  {
   "cell_type": "code",
   "execution_count": null,
   "id": "a5b81ea6-e35d-4250-a43e-5d849e3f0b6e",
   "metadata": {},
   "outputs": [],
   "source": []
  }
 ],
 "metadata": {
  "kernelspec": {
   "display_name": "Python 3",
   "language": "python",
   "name": "python3"
  },
  "language_info": {
   "codemirror_mode": {
    "name": "ipython",
    "version": 3
   },
   "file_extension": ".py",
   "mimetype": "text/x-python",
   "name": "python",
   "nbconvert_exporter": "python",
   "pygments_lexer": "ipython3",
   "version": "3.8.5"
  }
 },
 "nbformat": 4,
 "nbformat_minor": 5
}
