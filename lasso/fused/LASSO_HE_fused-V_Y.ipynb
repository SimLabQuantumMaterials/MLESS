{
 "cells": [
  {
   "cell_type": "markdown",
   "id": "72fe43dd-a328-443c-85bd-ba4ea42d60e3",
   "metadata": {},
   "source": [
    "### Predicting formation enthalpies for solid solutions of Lanthanides Orthophosphates\n"
   ]
  },
  {
   "cell_type": "code",
   "execution_count": 8,
   "id": "6907561a-9571-4da7-9b83-87d188fecf58",
   "metadata": {},
   "outputs": [
    {
     "name": "stdout",
     "output_type": "stream",
     "text": [
      "3.9.6 (default, Nov 10 2023, 13:38:27) \n",
      "[Clang 15.0.0 (clang-1500.1.0.2.5)]\n"
     ]
    }
   ],
   "source": [
    "import os\n",
    "import sys\n",
    "import inspect\n",
    "\n",
    "print(sys.version)\n",
    "\n",
    "currentdir = os.getcwd()\n",
    "parentdir = os.path.dirname(currentdir)\n",
    "grandparentdir = os.path.dirname(parentdir)\n",
    "\n",
    "sys.path.insert(0, grandparentdir) "
   ]
  },
  {
   "cell_type": "code",
   "execution_count": 9,
   "id": "a86375f5-41ba-43cf-8943-42c981be0955",
   "metadata": {},
   "outputs": [],
   "source": [
    "import read_data\n",
    "import featureSpan\n",
    "import lasso\n",
    "import Utils\n",
    "from sklearn.kernel_ridge import KernelRidge\n",
    "from sklearn.model_selection import train_test_split, cross_val_score, ShuffleSplit\n",
    "from sklearn.model_selection import GridSearchCV\n",
    "from sklearn.preprocessing import StandardScaler\n",
    "import numpy as np\n",
    "import matplotlib.pyplot as plt\n",
    "from sklearn.metrics import mean_absolute_error, mean_squared_error\n",
    "import scipy.optimize\n",
    "import pandas as pd\n",
    "import seaborn as sns\n",
    "import scipy.stats as ss\n",
    "from sklearn.linear_model import Lasso\n",
    "from itertools import combinations, product\n",
    "import itertools\n",
    "import math\n",
    "import pandas as pd"
   ]
  },
  {
   "cell_type": "markdown",
   "id": "2b849c05-aa97-4d15-bdf1-50faf8167a0c",
   "metadata": {},
   "source": [
    "## Xenotime + Monazite"
   ]
  },
  {
   "cell_type": "markdown",
   "id": "333d2fa5-4a59-4cf9-a778-57f4095faf06",
   "metadata": {},
   "source": [
    "#### Load data from files"
   ]
  },
  {
   "cell_type": "code",
   "execution_count": 10,
   "id": "fe365eb5-1233-4485-84b0-84baa3c621c5",
   "metadata": {},
   "outputs": [
    {
     "name": "stdout",
     "output_type": "stream",
     "text": [
      "Shape of List1M is (525, 4)\n",
      "[[5.70000000e+01 5.80000000e+01 7.50000000e-01 1.29717527e-01]\n",
      " [5.70000000e+01 5.80000000e+01 6.25000000e-01 1.90974365e-01]\n",
      " [5.70000000e+01 5.80000000e+01 5.00000000e-01 1.92712564e-01]\n",
      " ...\n",
      " [7.00000000e+01 7.10000000e+01 5.00000000e-01 2.12444086e-02]\n",
      " [7.00000000e+01 7.10000000e+01 3.75000000e-01 2.22639048e-02]\n",
      " [7.00000000e+01 7.10000000e+01 2.50000000e-01 2.09098752e-02]]\n"
     ]
    }
   ],
   "source": [
    "list1M = read_data.readData(\"../../data/DATA_HE_monazite.dat\")\n",
    "print(\"Shape of List1M is {}\".format(list1M.shape))\n",
    "print(list1M)"
   ]
  },
  {
   "cell_type": "code",
   "execution_count": 11,
   "id": "cfbe1036-a959-45eb-ae77-c9a8c61eecf9",
   "metadata": {},
   "outputs": [
    {
     "name": "stdout",
     "output_type": "stream",
     "text": [
      "Shape of List2M is (15, 2)\n",
      "[[139.1         77.61001595]\n",
      " [146.5         75.78168414]\n",
      " [150.1         74.20076494]\n",
      " [154.1         72.98174154]\n",
      " [157.4         71.90916336]\n",
      " [160.3         70.88675537]\n",
      " [163.1         70.00137871]\n",
      " [165.2         69.15236746]\n",
      " [164.5         68.41325589]\n",
      " [165.4         67.64549329]\n",
      " [167.3         67.05867559]\n",
      " [169.1         66.33683909]\n",
      " [170.8         65.60276254]\n",
      " [172.2         65.17192527]\n",
      " [171.          64.45110847]]\n"
     ]
    }
   ],
   "source": [
    "list2M = read_data.readCSVData_simplified(\"../../data/Data_Ln-monazite.csv\")\n",
    "print(\"Shape of List2M is {}\".format(list2M.shape))\n",
    "print((list2M))"
   ]
  },
  {
   "cell_type": "code",
   "execution_count": 12,
   "id": "34ac430f-1f9a-4255-9a82-4eff5febecea",
   "metadata": {},
   "outputs": [
    {
     "name": "stdout",
     "output_type": "stream",
     "text": [
      "Shape of List1X is (525, 4)\n",
      "[[5.70000000e+01 5.80000000e+01 7.50000000e-01 2.31598225e-01]\n",
      " [5.70000000e+01 5.80000000e+01 6.25000000e-01 2.78958493e-01]\n",
      " [5.70000000e+01 5.80000000e+01 5.00000000e-01 2.97583757e-01]\n",
      " ...\n",
      " [7.00000000e+01 7.10000000e+01 5.00000000e-01 7.77590152e-02]\n",
      " [7.00000000e+01 7.10000000e+01 3.75000000e-01 7.09266168e-02]\n",
      " [7.00000000e+01 7.10000000e+01 2.50000000e-01 5.91211365e-02]]\n"
     ]
    }
   ],
   "source": [
    "list1X = read_data.readData(\"../../data/DATA_HE_xenotime.dat\")\n",
    "print(\"Shape of List1X is {}\".format(list1X.shape))\n",
    "print(list1X)"
   ]
  },
  {
   "cell_type": "code",
   "execution_count": 13,
   "id": "7881a290-90f5-45f0-a1e4-cf2753a37887",
   "metadata": {},
   "outputs": [
    {
     "name": "stdout",
     "output_type": "stream",
     "text": [
      "Shape of List2X is (15, 2)\n",
      "[[ 91.7         83.16086967]\n",
      " [ 99.73        81.11579575]\n",
      " [112.27        79.31176899]\n",
      " [120.19        77.89975607]\n",
      " [127.26        76.63526873]\n",
      " [137.16        75.42961529]\n",
      " [143.83        74.36126731]\n",
      " [149.42        73.33463097]\n",
      " [156.33        72.43898327]\n",
      " [163.          71.49567572]\n",
      " [169.12        70.75467386]\n",
      " [177.09        69.85074728]\n",
      " [183.38        68.92826151]\n",
      " [188.35        68.35674618]\n",
      " [194.41        67.43658042]]\n"
     ]
    }
   ],
   "source": [
    "list2X = read_data.readCSVData_simplified(\"../../data/Data_Ln-xenotime.csv\", material = \"xenotime\")\n",
    "print(\"Shape of List2X is {}\".format(list2X.shape))\n",
    "print((list2X))"
   ]
  },
  {
   "cell_type": "markdown",
   "id": "18aa9a75-7c90-4914-82d6-3291b4f70764",
   "metadata": {},
   "source": [
    "#### Generated Elemental Training/Testing sets from loaded data"
   ]
  },
  {
   "cell_type": "code",
   "execution_count": 14,
   "id": "5e1037b0-6239-42fc-a086-e63765899e0f",
   "metadata": {},
   "outputs": [
    {
     "name": "stdout",
     "output_type": "stream",
     "text": [
      "(525, 24)\n",
      "(525,)\n",
      "(525, 24)\n",
      "(525,)\n",
      "(1050, 24)\n",
      "(1050,)\n",
      "24\n",
      "['m', '1/m', 'm^2', '(1/m)^2', '(1-m)', '1/(1-m)', '(1-m)^2', '(1/(1-m))^2', '[AD:Young]', '[AD:Volume]', '1/[AD:Young]', '1/[AD:Volume]', '[AD:Young]^2', '[AD:Volume]^2', '(1/[AD:Young])^2', '(1/[AD:Volume])^2', '[AM:Young]', '[AM:Volume]', '1/[AM:Young]', '1/[AM:Volume]', '[AM:Young]^2', '[AM:Volume]^2', '(1/[AM:Young])^2', '(1/[AM:Volume]])^2']\n",
      "The elemental features are: \n",
      " ['(m)', '(1/m)', '(m^2)', '((1/m)^2)', '((1-m))', '(1/(1-m))', '((1-m)^2)', '((1/(1-m))^2)', '([AD:Young])', '([AD:Volume])', '(1/[AD:Young])', '(1/[AD:Volume])', '([AD:Young]^2)', '([AD:Volume]^2)', '((1/[AD:Young])^2)', '((1/[AD:Volume])^2)', '([AM:Young])', '([AM:Volume])', '(1/[AM:Young])', '(1/[AM:Volume])', '([AM:Young]^2)', '([AM:Volume]^2)', '((1/[AM:Young])^2)', '((1/[AM:Volume]])^2)']\n"
     ]
    }
   ],
   "source": [
    "listXM, listYM = featureSpan.generateFeatures(list1M, list2M)\n",
    "XM = np.asarray(listXM)\n",
    "YM = np.asarray(listYM)\n",
    "print(XM.shape)\n",
    "print(YM.shape)\n",
    "\n",
    "listXX, listYX = featureSpan.generateFeatures(list1X, list2X)\n",
    "XX = np.asarray(listXX)\n",
    "YX = np.asarray(listYX)\n",
    "print(XM.shape)\n",
    "print(YM.shape)\n",
    "\n",
    "X = np.concatenate((XM, XX), axis=0)\n",
    "Y = np.concatenate((YM, YX), axis=0)\n",
    "print(X.shape)\n",
    "print(Y.shape)\n",
    "\n",
    "elemental_list = [\"m\", \"1/m\", \"m^2\", \"(1/m)^2\", \"(1-m)\", \"1/(1-m)\", \"(1-m)^2\", \"(1/(1-m))^2\", \"[AD:Young]\", \"[AD:Volume]\", \"1/[AD:Young]\", \"1/[AD:Volume]\", \"[AD:Young]^2\", \"[AD:Volume]^2\", \"(1/[AD:Young])^2\", \"(1/[AD:Volume])^2\", \"[AM:Young]\", \"[AM:Volume]\", \"1/[AM:Young]\", \"1/[AM:Volume]\",\"[AM:Young]^2\", \"[AM:Volume]^2\", \"(1/[AM:Young])^2\", \"(1/[AM:Volume]])^2\"]\n",
    "print(len(elemental_list))\n",
    "print(elemental_list)\n",
    "m, n = X.shape\n",
    "\n",
    "elemental_features = []\n",
    "\n",
    "for i in elemental_list:\n",
    "    elemental_features.append(\"(\"+i+\")\")\n",
    "        \n",
    "print(\"The elemental features are: \\n {}\".format(elemental_features))"
   ]
  },
  {
   "cell_type": "code",
   "execution_count": 15,
   "id": "0dff895e-841c-4e32-9c7d-5939185738d5",
   "metadata": {},
   "outputs": [
    {
     "data": {
      "text/html": [
       "<div>\n",
       "<style scoped>\n",
       "    .dataframe tbody tr th:only-of-type {\n",
       "        vertical-align: middle;\n",
       "    }\n",
       "\n",
       "    .dataframe tbody tr th {\n",
       "        vertical-align: top;\n",
       "    }\n",
       "\n",
       "    .dataframe thead th {\n",
       "        text-align: right;\n",
       "    }\n",
       "</style>\n",
       "<table border=\"1\" class=\"dataframe\">\n",
       "  <thead>\n",
       "    <tr style=\"text-align: right;\">\n",
       "      <th></th>\n",
       "      <th>(m)</th>\n",
       "      <th>(1/m)</th>\n",
       "      <th>(m^2)</th>\n",
       "      <th>((1/m)^2)</th>\n",
       "      <th>((1-m))</th>\n",
       "      <th>(1/(1-m))</th>\n",
       "      <th>((1-m)^2)</th>\n",
       "      <th>((1/(1-m))^2)</th>\n",
       "      <th>([AD:Young])</th>\n",
       "      <th>([AD:Volume])</th>\n",
       "      <th>...</th>\n",
       "      <th>((1/[AM:Volume]])^2)*((1/[AM:Young])^2)*([AD:Young]^2)</th>\n",
       "      <th>((1/[AM:Volume]])^2)*((1/[AM:Young])^2)*([AD:Volume]^2)</th>\n",
       "      <th>((1/[AM:Volume]])^2)*((1/[AM:Young])^2)*((1/[AD:Young])^2)</th>\n",
       "      <th>((1/[AM:Volume]])^2)*((1/[AM:Young])^2)*((1/[AD:Volume])^2)</th>\n",
       "      <th>((1/[AM:Volume]])^2)*((1/[AM:Young])^2)*([AM:Young])</th>\n",
       "      <th>((1/[AM:Volume]])^2)*((1/[AM:Young])^2)*([AM:Volume])</th>\n",
       "      <th>((1/[AM:Volume]])^2)*((1/[AM:Young])^2)*(1/[AM:Young])</th>\n",
       "      <th>((1/[AM:Volume]])^2)*((1/[AM:Young])^2)*(1/[AM:Volume])</th>\n",
       "      <th>((1/[AM:Volume]])^2)*((1/[AM:Young])^2)*([AM:Young]^2)</th>\n",
       "      <th>((1/[AM:Volume]])^2)*((1/[AM:Young])^2)*([AM:Volume]^2)</th>\n",
       "    </tr>\n",
       "  </thead>\n",
       "  <tbody>\n",
       "    <tr>\n",
       "      <th>0</th>\n",
       "      <td>0.750</td>\n",
       "      <td>1.333333</td>\n",
       "      <td>0.562500</td>\n",
       "      <td>1.777778</td>\n",
       "      <td>0.250</td>\n",
       "      <td>4.000000</td>\n",
       "      <td>0.062500</td>\n",
       "      <td>16.000000</td>\n",
       "      <td>3.7</td>\n",
       "      <td>0.914166</td>\n",
       "      <td>...</td>\n",
       "      <td>1.141309e-07</td>\n",
       "      <td>6.967065e-09</td>\n",
       "      <td>6.089707e-10</td>\n",
       "      <td>9.975848e-09</td>\n",
       "      <td>0.000001</td>\n",
       "      <td>6.393987e-07</td>\n",
       "      <td>5.838102e-11</td>\n",
       "      <td>1.086996e-10</td>\n",
       "      <td>0.00017</td>\n",
       "      <td>0.000049</td>\n",
       "    </tr>\n",
       "    <tr>\n",
       "      <th>1</th>\n",
       "      <td>0.625</td>\n",
       "      <td>1.600000</td>\n",
       "      <td>0.390625</td>\n",
       "      <td>2.560000</td>\n",
       "      <td>0.375</td>\n",
       "      <td>2.666667</td>\n",
       "      <td>0.140625</td>\n",
       "      <td>7.111111</td>\n",
       "      <td>3.7</td>\n",
       "      <td>0.914166</td>\n",
       "      <td>...</td>\n",
       "      <td>1.141309e-07</td>\n",
       "      <td>6.967065e-09</td>\n",
       "      <td>6.089707e-10</td>\n",
       "      <td>9.975848e-09</td>\n",
       "      <td>0.000001</td>\n",
       "      <td>6.393987e-07</td>\n",
       "      <td>5.838102e-11</td>\n",
       "      <td>1.086996e-10</td>\n",
       "      <td>0.00017</td>\n",
       "      <td>0.000049</td>\n",
       "    </tr>\n",
       "    <tr>\n",
       "      <th>2</th>\n",
       "      <td>0.500</td>\n",
       "      <td>2.000000</td>\n",
       "      <td>0.250000</td>\n",
       "      <td>4.000000</td>\n",
       "      <td>0.500</td>\n",
       "      <td>2.000000</td>\n",
       "      <td>0.250000</td>\n",
       "      <td>4.000000</td>\n",
       "      <td>3.7</td>\n",
       "      <td>0.914166</td>\n",
       "      <td>...</td>\n",
       "      <td>1.141309e-07</td>\n",
       "      <td>6.967065e-09</td>\n",
       "      <td>6.089707e-10</td>\n",
       "      <td>9.975848e-09</td>\n",
       "      <td>0.000001</td>\n",
       "      <td>6.393987e-07</td>\n",
       "      <td>5.838102e-11</td>\n",
       "      <td>1.086996e-10</td>\n",
       "      <td>0.00017</td>\n",
       "      <td>0.000049</td>\n",
       "    </tr>\n",
       "    <tr>\n",
       "      <th>3</th>\n",
       "      <td>0.375</td>\n",
       "      <td>2.666667</td>\n",
       "      <td>0.140625</td>\n",
       "      <td>7.111111</td>\n",
       "      <td>0.625</td>\n",
       "      <td>1.600000</td>\n",
       "      <td>0.390625</td>\n",
       "      <td>2.560000</td>\n",
       "      <td>3.7</td>\n",
       "      <td>0.914166</td>\n",
       "      <td>...</td>\n",
       "      <td>1.141309e-07</td>\n",
       "      <td>6.967065e-09</td>\n",
       "      <td>6.089707e-10</td>\n",
       "      <td>9.975848e-09</td>\n",
       "      <td>0.000001</td>\n",
       "      <td>6.393987e-07</td>\n",
       "      <td>5.838102e-11</td>\n",
       "      <td>1.086996e-10</td>\n",
       "      <td>0.00017</td>\n",
       "      <td>0.000049</td>\n",
       "    </tr>\n",
       "    <tr>\n",
       "      <th>4</th>\n",
       "      <td>0.250</td>\n",
       "      <td>4.000000</td>\n",
       "      <td>0.062500</td>\n",
       "      <td>16.000000</td>\n",
       "      <td>0.750</td>\n",
       "      <td>1.333333</td>\n",
       "      <td>0.562500</td>\n",
       "      <td>1.777778</td>\n",
       "      <td>3.7</td>\n",
       "      <td>0.914166</td>\n",
       "      <td>...</td>\n",
       "      <td>1.141309e-07</td>\n",
       "      <td>6.967065e-09</td>\n",
       "      <td>6.089707e-10</td>\n",
       "      <td>9.975848e-09</td>\n",
       "      <td>0.000001</td>\n",
       "      <td>6.393987e-07</td>\n",
       "      <td>5.838102e-11</td>\n",
       "      <td>1.086996e-10</td>\n",
       "      <td>0.00017</td>\n",
       "      <td>0.000049</td>\n",
       "    </tr>\n",
       "  </tbody>\n",
       "</table>\n",
       "<p>5 rows × 2320 columns</p>\n",
       "</div>"
      ],
      "text/plain": [
       "     (m)     (1/m)     (m^2)  ((1/m)^2)  ((1-m))  (1/(1-m))  ((1-m)^2)  \\\n",
       "0  0.750  1.333333  0.562500   1.777778    0.250   4.000000   0.062500   \n",
       "1  0.625  1.600000  0.390625   2.560000    0.375   2.666667   0.140625   \n",
       "2  0.500  2.000000  0.250000   4.000000    0.500   2.000000   0.250000   \n",
       "3  0.375  2.666667  0.140625   7.111111    0.625   1.600000   0.390625   \n",
       "4  0.250  4.000000  0.062500  16.000000    0.750   1.333333   0.562500   \n",
       "\n",
       "   ((1/(1-m))^2)  ([AD:Young])  ([AD:Volume])  ...  \\\n",
       "0      16.000000           3.7       0.914166  ...   \n",
       "1       7.111111           3.7       0.914166  ...   \n",
       "2       4.000000           3.7       0.914166  ...   \n",
       "3       2.560000           3.7       0.914166  ...   \n",
       "4       1.777778           3.7       0.914166  ...   \n",
       "\n",
       "   ((1/[AM:Volume]])^2)*((1/[AM:Young])^2)*([AD:Young]^2)  \\\n",
       "0                                       1.141309e-07        \n",
       "1                                       1.141309e-07        \n",
       "2                                       1.141309e-07        \n",
       "3                                       1.141309e-07        \n",
       "4                                       1.141309e-07        \n",
       "\n",
       "   ((1/[AM:Volume]])^2)*((1/[AM:Young])^2)*([AD:Volume]^2)  \\\n",
       "0                                       6.967065e-09         \n",
       "1                                       6.967065e-09         \n",
       "2                                       6.967065e-09         \n",
       "3                                       6.967065e-09         \n",
       "4                                       6.967065e-09         \n",
       "\n",
       "   ((1/[AM:Volume]])^2)*((1/[AM:Young])^2)*((1/[AD:Young])^2)  \\\n",
       "0                                       6.089707e-10            \n",
       "1                                       6.089707e-10            \n",
       "2                                       6.089707e-10            \n",
       "3                                       6.089707e-10            \n",
       "4                                       6.089707e-10            \n",
       "\n",
       "   ((1/[AM:Volume]])^2)*((1/[AM:Young])^2)*((1/[AD:Volume])^2)  \\\n",
       "0                                       9.975848e-09             \n",
       "1                                       9.975848e-09             \n",
       "2                                       9.975848e-09             \n",
       "3                                       9.975848e-09             \n",
       "4                                       9.975848e-09             \n",
       "\n",
       "   ((1/[AM:Volume]])^2)*((1/[AM:Young])^2)*([AM:Young])  \\\n",
       "0                                           0.000001      \n",
       "1                                           0.000001      \n",
       "2                                           0.000001      \n",
       "3                                           0.000001      \n",
       "4                                           0.000001      \n",
       "\n",
       "   ((1/[AM:Volume]])^2)*((1/[AM:Young])^2)*([AM:Volume])  \\\n",
       "0                                       6.393987e-07       \n",
       "1                                       6.393987e-07       \n",
       "2                                       6.393987e-07       \n",
       "3                                       6.393987e-07       \n",
       "4                                       6.393987e-07       \n",
       "\n",
       "   ((1/[AM:Volume]])^2)*((1/[AM:Young])^2)*(1/[AM:Young])  \\\n",
       "0                                       5.838102e-11        \n",
       "1                                       5.838102e-11        \n",
       "2                                       5.838102e-11        \n",
       "3                                       5.838102e-11        \n",
       "4                                       5.838102e-11        \n",
       "\n",
       "   ((1/[AM:Volume]])^2)*((1/[AM:Young])^2)*(1/[AM:Volume])  \\\n",
       "0                                       1.086996e-10         \n",
       "1                                       1.086996e-10         \n",
       "2                                       1.086996e-10         \n",
       "3                                       1.086996e-10         \n",
       "4                                       1.086996e-10         \n",
       "\n",
       "   ((1/[AM:Volume]])^2)*((1/[AM:Young])^2)*([AM:Young]^2)  \\\n",
       "0                                            0.00017        \n",
       "1                                            0.00017        \n",
       "2                                            0.00017        \n",
       "3                                            0.00017        \n",
       "4                                            0.00017        \n",
       "\n",
       "   ((1/[AM:Volume]])^2)*((1/[AM:Young])^2)*([AM:Volume]^2)  \n",
       "0                                           0.000049        \n",
       "1                                           0.000049        \n",
       "2                                           0.000049        \n",
       "3                                           0.000049        \n",
       "4                                           0.000049        \n",
       "\n",
       "[5 rows x 2320 columns]"
      ]
     },
     "execution_count": 15,
     "metadata": {},
     "output_type": "execute_result"
    }
   ],
   "source": [
    "dfX = pd.DataFrame(data=X, columns=elemental_features)\n",
    "\n",
    "new_features=[]\n",
    "new_columns = []\n",
    "\n",
    "for i in range(n):\n",
    "    for j in range(i):\n",
    "        new_features.append(elemental_features[i]+\"*\"+elemental_features[j])\n",
    "        new_columns.append(dfX[elemental_features[i]].values * dfX[elemental_features[j]].values)\n",
    "\n",
    "\n",
    "for i in range(n):\n",
    "    for j in range(i):\n",
    "        for k in range(j):\n",
    "            new_features.append(elemental_features[i]+\"*\"+elemental_features[j]+\"*\"+elemental_features[k])\n",
    "            new_columns.append(dfX[elemental_features[i]] * dfX[elemental_features[j]] * dfX[elemental_features[k]])\n",
    "            \n",
    "\n",
    "#new_columns = np.reshape(np.asarray(new_columns))\n",
    "            \n",
    "new_columns = np.asarray(new_columns)\n",
    "dfX = pd.concat(\n",
    "    [\n",
    "        dfX,\n",
    "        pd.DataFrame(\n",
    "            new_columns.T, \n",
    "            index=dfX.index, \n",
    "            columns=new_features\n",
    "        )\n",
    "    ], axis=1\n",
    ")\n",
    "\n",
    "dfX.head()\n",
    "\n",
    "dfX.std() == 0\n",
    "dfX=dfX.loc[:, dfX.std() > 0]\n",
    "dfX.head()\n",
    "#\n",
    "#for i in range(len(new_features)):\n",
    "#    print(new_features[i])"
   ]
  },
  {
   "cell_type": "code",
   "execution_count": 16,
   "id": "72fede3e-ac44-4010-8338-3d9295638501",
   "metadata": {},
   "outputs": [
    {
     "name": "stdout",
     "output_type": "stream",
     "text": [
      "2320\n"
     ]
    },
    {
     "data": {
      "text/plain": [
       "array(['(m)', '(1/m)', '(m^2)', ...,\n",
       "       '((1/[AM:Volume]])^2)*((1/[AM:Young])^2)*(1/[AM:Volume])',\n",
       "       '((1/[AM:Volume]])^2)*((1/[AM:Young])^2)*([AM:Young]^2)',\n",
       "       '((1/[AM:Volume]])^2)*((1/[AM:Young])^2)*([AM:Volume]^2)'],\n",
       "      dtype=object)"
      ]
     },
     "execution_count": 16,
     "metadata": {},
     "output_type": "execute_result"
    }
   ],
   "source": [
    "print(len(dfX.columns.values))\n",
    "np.array(dfX.columns.values)"
   ]
  },
  {
   "cell_type": "markdown",
   "id": "ff68a3a7-f634-4d2b-9f67-feb2d3bffc87",
   "metadata": {},
   "source": [
    "fitting of Lasso with a given $\\lambda$"
   ]
  },
  {
   "cell_type": "code",
   "execution_count": 17,
   "id": "26f7fb37-b599-4d51-98d6-2970465789ca",
   "metadata": {},
   "outputs": [
    {
     "data": {
      "text/plain": [
       "(array([ 0., -0.,  0., ...,  0., -0.,  0.]),\n",
       " array([ 282,  286,  386,  412,  531,  533,  547,  553,  555,  558,  570,\n",
       "         588,  599,  651,  900, 1309, 1427, 1480, 1903, 2103, 2111, 2229]),\n",
       " array(['((1/[AM:Volume]])^2)*([AD:Volume])',\n",
       "        '((1/[AM:Volume]])^2)*([AD:Volume]^2)',\n",
       "        '([AD:Volume])*((1-m))*(m)', '([AD:Volume])*([AD:Young])*((1-m))',\n",
       "        '([AD:Young]^2)*((1-m)^2)*(m)', '([AD:Young]^2)*((1-m)^2)*(m^2)',\n",
       "        '([AD:Young]^2)*([AD:Young])*((1/m)^2)',\n",
       "        '([AD:Young]^2)*([AD:Volume])*(1/m)',\n",
       "        '([AD:Young]^2)*([AD:Volume])*((1/m)^2)',\n",
       "        '([AD:Young]^2)*([AD:Volume])*((1-m)^2)',\n",
       "        '([AD:Young]^2)*(1/[AD:Young])*([AD:Volume])',\n",
       "        '([AD:Volume]^2)*((1-m))*(m)', '([AD:Volume]^2)*((1-m)^2)*(m^2)',\n",
       "        '([AD:Volume]^2)*([AD:Young]^2)*((1/m)^2)',\n",
       "        '([AM:Young])*([AD:Volume])*([AD:Young])',\n",
       "        '(1/[AM:Volume])*([AD:Volume])*([AD:Young])',\n",
       "        '(1/[AM:Volume])*(1/[AM:Young])*([AD:Volume])',\n",
       "        '([AM:Young]^2)*([AD:Volume])*([AD:Young])',\n",
       "        '((1/[AM:Young])^2)*([AD:Young]^2)*(1/m)',\n",
       "        '((1/[AM:Volume]])^2)*([AD:Volume])*(m)',\n",
       "        '((1/[AM:Volume]])^2)*([AD:Volume])*([AD:Young])',\n",
       "        '((1/[AM:Volume]])^2)*(1/[AM:Young])*([AD:Volume])'], dtype=object),\n",
       " 0.05347050191467141,\n",
       " 0.007110710875912573,\n",
       " 0.11214092025969297)"
      ]
     },
     "execution_count": 17,
     "metadata": {},
     "output_type": "execute_result"
    }
   ],
   "source": [
    "def LassoFit(lmb, X, Y, max_iter=100000, standardization = True):\n",
    "    \n",
    "    scaler = StandardScaler()\n",
    "    scaler.fit(X)\n",
    "    X_standardized = scaler.transform(X)\n",
    "    lasso =  Lasso(alpha=lmb, max_iter=max_iter)\n",
    "    lasso.fit(X_standardized, Y.copy())\n",
    "    coef =  lasso.coef_\n",
    "    selected_indices = coef.nonzero()[0]\n",
    "    selected_features = np.array(dfX.columns.values)[selected_indices]\n",
    "    Y_predict = lasso.predict(X_standardized)\n",
    "    MAE, MSE, ME = Utils.compute_error(Y.copy(), Y_predict)\n",
    "        \n",
    "    return coef, selected_indices, selected_features, MAE, MSE, ME\n",
    "\n",
    "LassoFit(0.01, dfX, Y)"
   ]
  },
  {
   "cell_type": "markdown",
   "id": "7b8402f7-ed0c-4f98-b5e3-9a196246da2f",
   "metadata": {},
   "source": [
    "#### Analyze the behavior of Lasso with the decrease of $\\lambda$"
   ]
  },
  {
   "cell_type": "code",
   "execution_count": 18,
   "id": "1497ce6a-9b1d-4436-a34c-8ce22af7a53b",
   "metadata": {},
   "outputs": [
    {
     "name": "stdout",
     "output_type": "stream",
     "text": [
      "FOUND with threshold: 10\n",
      "Lambda: 0.026000000000000002, nnz: 9, MAE: 0.05862056871594235, MSE: 0.008455857119426544, MAPE: 0.08534564750261894\n"
     ]
    },
    {
     "data": {
      "text/html": [
       "<div>\n",
       "<style scoped>\n",
       "    .dataframe tbody tr th:only-of-type {\n",
       "        vertical-align: middle;\n",
       "    }\n",
       "\n",
       "    .dataframe tbody tr th {\n",
       "        vertical-align: top;\n",
       "    }\n",
       "\n",
       "    .dataframe thead th {\n",
       "        text-align: right;\n",
       "    }\n",
       "</style>\n",
       "<table border=\"1\" class=\"dataframe\">\n",
       "  <thead>\n",
       "    <tr style=\"text-align: right;\">\n",
       "      <th></th>\n",
       "      <th>([AD:Volume])*((1-m))*(m)</th>\n",
       "      <th>([AD:Volume])*([AD:Young])*((1-m))</th>\n",
       "      <th>([AD:Young]^2)*((1-m)^2)*(m)</th>\n",
       "      <th>([AD:Young]^2)*((1-m)^2)*(m^2)</th>\n",
       "      <th>([AD:Young]^2)*([AD:Volume])*((1-m))</th>\n",
       "      <th>([AD:Volume]^2)*((1-m))*(m)</th>\n",
       "      <th>([AD:Volume]^2)*((1-m)^2)*(m^2)</th>\n",
       "      <th>([AM:Young]^2)*([AD:Volume])*([AD:Young])</th>\n",
       "      <th>((1/[AM:Volume]])^2)*([AD:Volume])*([AD:Young])</th>\n",
       "    </tr>\n",
       "  </thead>\n",
       "  <tbody>\n",
       "    <tr>\n",
       "      <th>0</th>\n",
       "      <td>0.171406</td>\n",
       "      <td>0.845603</td>\n",
       "      <td>0.641719</td>\n",
       "      <td>0.481289</td>\n",
       "      <td>3.128733</td>\n",
       "      <td>0.156694</td>\n",
       "      <td>0.029380</td>\n",
       "      <td>68973.641885</td>\n",
       "      <td>0.000575</td>\n",
       "    </tr>\n",
       "    <tr>\n",
       "      <th>1</th>\n",
       "      <td>0.214258</td>\n",
       "      <td>1.268405</td>\n",
       "      <td>1.203223</td>\n",
       "      <td>0.752014</td>\n",
       "      <td>4.693099</td>\n",
       "      <td>0.195867</td>\n",
       "      <td>0.045906</td>\n",
       "      <td>68973.641885</td>\n",
       "      <td>0.000575</td>\n",
       "    </tr>\n",
       "    <tr>\n",
       "      <th>2</th>\n",
       "      <td>0.228541</td>\n",
       "      <td>1.691207</td>\n",
       "      <td>1.711250</td>\n",
       "      <td>0.855625</td>\n",
       "      <td>6.257466</td>\n",
       "      <td>0.208925</td>\n",
       "      <td>0.052231</td>\n",
       "      <td>68973.641885</td>\n",
       "      <td>0.000575</td>\n",
       "    </tr>\n",
       "    <tr>\n",
       "      <th>3</th>\n",
       "      <td>0.214258</td>\n",
       "      <td>2.114009</td>\n",
       "      <td>2.005371</td>\n",
       "      <td>0.752014</td>\n",
       "      <td>7.821832</td>\n",
       "      <td>0.195867</td>\n",
       "      <td>0.045906</td>\n",
       "      <td>68973.641885</td>\n",
       "      <td>0.000575</td>\n",
       "    </tr>\n",
       "    <tr>\n",
       "      <th>4</th>\n",
       "      <td>0.171406</td>\n",
       "      <td>2.536810</td>\n",
       "      <td>1.925156</td>\n",
       "      <td>0.481289</td>\n",
       "      <td>9.386198</td>\n",
       "      <td>0.156694</td>\n",
       "      <td>0.029380</td>\n",
       "      <td>68973.641885</td>\n",
       "      <td>0.000575</td>\n",
       "    </tr>\n",
       "  </tbody>\n",
       "</table>\n",
       "</div>"
      ],
      "text/plain": [
       "   ([AD:Volume])*((1-m))*(m)  ([AD:Volume])*([AD:Young])*((1-m))  \\\n",
       "0                   0.171406                            0.845603   \n",
       "1                   0.214258                            1.268405   \n",
       "2                   0.228541                            1.691207   \n",
       "3                   0.214258                            2.114009   \n",
       "4                   0.171406                            2.536810   \n",
       "\n",
       "   ([AD:Young]^2)*((1-m)^2)*(m)  ([AD:Young]^2)*((1-m)^2)*(m^2)  \\\n",
       "0                      0.641719                        0.481289   \n",
       "1                      1.203223                        0.752014   \n",
       "2                      1.711250                        0.855625   \n",
       "3                      2.005371                        0.752014   \n",
       "4                      1.925156                        0.481289   \n",
       "\n",
       "   ([AD:Young]^2)*([AD:Volume])*((1-m))  ([AD:Volume]^2)*((1-m))*(m)  \\\n",
       "0                              3.128733                     0.156694   \n",
       "1                              4.693099                     0.195867   \n",
       "2                              6.257466                     0.208925   \n",
       "3                              7.821832                     0.195867   \n",
       "4                              9.386198                     0.156694   \n",
       "\n",
       "   ([AD:Volume]^2)*((1-m)^2)*(m^2)  ([AM:Young]^2)*([AD:Volume])*([AD:Young])  \\\n",
       "0                         0.029380                               68973.641885   \n",
       "1                         0.045906                               68973.641885   \n",
       "2                         0.052231                               68973.641885   \n",
       "3                         0.045906                               68973.641885   \n",
       "4                         0.029380                               68973.641885   \n",
       "\n",
       "   ((1/[AM:Volume]])^2)*([AD:Volume])*([AD:Young])  \n",
       "0                                         0.000575  \n",
       "1                                         0.000575  \n",
       "2                                         0.000575  \n",
       "3                                         0.000575  \n",
       "4                                         0.000575  "
      ]
     },
     "execution_count": 18,
     "metadata": {},
     "output_type": "execute_result"
    }
   ],
   "source": [
    "#### Define a function which fits Lasso to have no more nonzero coefficients than a given threshold \n",
    "def LassoSelect(X, Y, min, max, step, threshold, standardization = True):\n",
    "    \n",
    "    scaler = StandardScaler()\n",
    "    scaler.fit(X)\n",
    "    X_standardized = scaler.transform(X)\n",
    "        \n",
    "    found = False\n",
    "    for lmbda in np.arange (min, max, step):\n",
    "        coef, selected_indices, selected_features, MAE, MSE, ME = LassoFit(lmbda, X.copy(), Y.copy())\n",
    "        if len(selected_indices) <= threshold:\n",
    "            found = True\n",
    "            break\n",
    "    \n",
    "    if found:\n",
    "        print(\"FOUND with threshold: {}\".format(threshold))\n",
    "        print(\"Lambda: {}, nnz: {}, MAE: {}, MSE: {}, MAPE: {}\".format(lmbda, len(selected_indices), MAE, MSE, ME))\n",
    "            \n",
    "    else:\n",
    "        print(\"NOT FOUND with threshold: {}\".format(threshold))\n",
    "        print(\"Closest are: \")\n",
    "        print(\"Lambda: {}, nnz: {}, MAE: {}, MSE: {}, MAPE: {}\".format(lmbda, len(selected_indices), MAE, MSE, ME))\n",
    "     \n",
    "    X_reduced = X[selected_features]\n",
    "    \n",
    "    return X_reduced\n",
    "\n",
    "\n",
    "X_reduced = LassoSelect(dfX, Y, 0.001, 0.101, 0.005, 10)\n",
    "X_reduced.head()"
   ]
  },
  {
   "cell_type": "markdown",
   "id": "b3807a05-7adb-4c40-bebd-b13b51bfaa3c",
   "metadata": {},
   "source": [
    "#### Lasso with $\\ell_0$"
   ]
  },
  {
   "cell_type": "code",
   "execution_count": 19,
   "id": "78053db9-f658-4237-b0f0-ddb39126b2a1",
   "metadata": {},
   "outputs": [],
   "source": [
    "def LassoL0(X, Y, nnz):    \n",
    "    nr, nc = X.shape\n",
    "    X = np.column_stack((X, np.ones(nr)))\n",
    "    se_min = np.inner(Y, Y)\n",
    "    coef_min, permu_min = None, None\n",
    "    for permu in combinations(range(nc), nnz):\n",
    "        X_ls = X[:, permu + (-1,)]\n",
    "        coef, se, __1, __2 = np.linalg.lstsq(X_ls, Y, rcond=-1)\n",
    "        try:\n",
    "            if se[0] < se_min: \n",
    "                se_min = se[0]\n",
    "                coef_min, permu_min = coef, permu\n",
    "        except:\n",
    "            pass\n",
    "        \n",
    "    return coef_min, permu_min"
   ]
  },
  {
   "cell_type": "code",
   "execution_count": 20,
   "id": "ea618709-927d-430c-bdc0-4642a2fa1bad",
   "metadata": {},
   "outputs": [],
   "source": [
    "def LassoL0Fit(X_reduced, Y, nnz, log=True):\n",
    "    \n",
    "    scaler = StandardScaler()\n",
    "    scaler.fit(X_reduced)\n",
    "    X_std = scaler.transform(X_reduced)\n",
    "    \n",
    "    nr, nc = X_reduced.shape\n",
    "   \n",
    "    coefficients, selected_indices = LassoL0(X_std, Y, nnz)\n",
    "   \n",
    "    coefficients = np.array(coefficients)\n",
    "    selected_indices = np.array(selected_indices)\n",
    "    feature_reduced = np.array(X_reduced.columns.values)\n",
    "    feature_list_selected = feature_reduced[selected_indices]\n",
    "    \n",
    "    X_selected = X_reduced[feature_list_selected]\n",
    "\n",
    "    mean_selected = X_selected.mean()\n",
    "    std_selected = X_selected.std()\n",
    "\n",
    "    \n",
    "    if log:\n",
    "        print(\"Lasso: selected coefficients are: {}\".format(coefficients))\n",
    "        print(\"Lasso: selected features are: {}\".format(feature_list_selected))\n",
    "        \n",
    "    #-mean/std\n",
    "    mean_std = []\n",
    "    for i in range(len(selected_indices)):\n",
    "        mean_std.append(coefficients[i] * mean_selected[i]/std_selected[i])\n",
    " \n",
    "    sum_mean_std = sum(mean_std)\n",
    "\n",
    "    for i in range(len(selected_indices)):\n",
    "        coefficients[i] = coefficients[i] / std_selected[i]\n",
    "\n",
    "    \n",
    "    coefficients[len(selected_indices)] -= sum_mean_std\n",
    "    \n",
    "    function = str(coefficients[0])+\" * \"+feature_list_selected[0]\n",
    "    \n",
    "    for i in range(1, len(selected_indices)):\n",
    "        if coefficients[i] >= 0:\n",
    "            function += \" + \" + str(coefficients[i])+\" * \"+feature_list_selected[i]\n",
    "        else:\n",
    "            function += \" - \" + str(abs(coefficients[i]))+\" * \"+feature_list_selected[i]\n",
    "\n",
    "    \n",
    "    if coefficients[len(selected_indices)] >= 0:\n",
    "        function += \" + \" + str(coefficients[len(selected_indices)])\n",
    "    else:\n",
    "        function += \" - \" + str(abs(coefficients[len(selected_indices)]))\n",
    "    \n",
    "    if log:\n",
    "        print(\"Constructed function is: {}\".format(function))\n",
    "\n",
    "    X_selected = np.column_stack((X_selected, np.ones(X_selected.shape[0])))\n",
    "    Y_predict = X_selected[:,0] * coefficients[0]\n",
    "\n",
    "    for i in range(1,len(selected_indices)+1):\n",
    "        Y_predict = Y_predict + X_selected[:,i] * coefficients[i]\n",
    "    \n",
    "    if log:\n",
    "        Utils.print_error(Y.copy(),Y_predict,\"Lasso L0: {} coef\".format(nnz))\n",
    "    \n",
    "    return Y_predict, coefficients, selected_indices"
   ]
  },
  {
   "cell_type": "code",
   "execution_count": 21,
   "id": "a42a34af-a88f-4e75-bfd2-92bc704b1936",
   "metadata": {},
   "outputs": [
    {
     "name": "stdout",
     "output_type": "stream",
     "text": [
      "Lasso: selected coefficients are: [3.00864236 2.41207633]\n",
      "Lasso: selected features are: ['([AD:Volume]^2)*((1-m))*(m)']\n",
      "Constructed function is: 1.1453165445832054 * ([AD:Volume]^2)*((1-m))*(m) - 0.05170210733884595\n",
      "Lasso L0: 1 coef\n",
      "=========\n",
      "Mean absolute error: 0.33165684084978003\n",
      "Mean squared error: 0.2804752303920145\n",
      "Mean absolute percentage error: 0.3120028984014222\n"
     ]
    },
    {
     "name": "stderr",
     "output_type": "stream",
     "text": [
      "/var/folders/_0/q128s8pd1lb95k4pms0qlpw40000gn/T/ipykernel_19680/1248470983.py:29: FutureWarning: Series.__getitem__ treating keys as positions is deprecated. In a future version, integer keys will always be treated as labels (consistent with DataFrame behavior). To access a value by position, use `ser.iloc[pos]`\n",
      "  mean_std.append(coefficients[i] * mean_selected[i]/std_selected[i])\n",
      "/var/folders/_0/q128s8pd1lb95k4pms0qlpw40000gn/T/ipykernel_19680/1248470983.py:34: FutureWarning: Series.__getitem__ treating keys as positions is deprecated. In a future version, integer keys will always be treated as labels (consistent with DataFrame behavior). To access a value by position, use `ser.iloc[pos]`\n",
      "  coefficients[i] = coefficients[i] / std_selected[i]\n"
     ]
    }
   ],
   "source": [
    "LassoL0Fit(X_reduced, Y.copy(), 1);"
   ]
  },
  {
   "cell_type": "code",
   "execution_count": 22,
   "id": "3c31bab9-ce56-4984-9070-1eca695a3de8",
   "metadata": {},
   "outputs": [
    {
     "name": "stdout",
     "output_type": "stream",
     "text": [
      "Lasso: selected coefficients are: [1.77183769 1.37747441 2.41207633]\n",
      "Lasso: selected features are: ['([AD:Volume]^2)*((1-m)^2)*(m^2)'\n",
      " '((1/[AM:Volume]])^2)*([AD:Volume])*([AD:Young])']\n",
      "Constructed function is: 2.9453749063193713 * ([AD:Volume]^2)*((1-m)^2)*(m^2) + 108.10794470913883 * ((1/[AM:Volume]])^2)*([AD:Volume])*([AD:Young]) + 0.0429884502253266\n",
      "Lasso L0: 2 coef\n",
      "=========\n",
      "Mean absolute error: 0.09977744899236145\n",
      "Mean squared error: 0.02625179680662067\n",
      "Mean absolute percentage error: 0.26523613608204005\n"
     ]
    },
    {
     "name": "stderr",
     "output_type": "stream",
     "text": [
      "/var/folders/_0/q128s8pd1lb95k4pms0qlpw40000gn/T/ipykernel_19680/1248470983.py:29: FutureWarning: Series.__getitem__ treating keys as positions is deprecated. In a future version, integer keys will always be treated as labels (consistent with DataFrame behavior). To access a value by position, use `ser.iloc[pos]`\n",
      "  mean_std.append(coefficients[i] * mean_selected[i]/std_selected[i])\n",
      "/var/folders/_0/q128s8pd1lb95k4pms0qlpw40000gn/T/ipykernel_19680/1248470983.py:34: FutureWarning: Series.__getitem__ treating keys as positions is deprecated. In a future version, integer keys will always be treated as labels (consistent with DataFrame behavior). To access a value by position, use `ser.iloc[pos]`\n",
      "  coefficients[i] = coefficients[i] / std_selected[i]\n"
     ]
    }
   ],
   "source": [
    "LassoL0Fit(X_reduced, Y.copy(), 2);"
   ]
  },
  {
   "cell_type": "code",
   "execution_count": 23,
   "id": "c3b8246b-3367-4b59-93a8-d2f09e9ae4d5",
   "metadata": {},
   "outputs": [
    {
     "name": "stdout",
     "output_type": "stream",
     "text": [
      "Lasso: selected coefficients are: [0.37965185 2.09193235 0.69287055 2.41207633]\n",
      "Lasso: selected features are: ['([AD:Young]^2)*((1-m)^2)*(m)' '([AD:Volume]^2)*((1-m))*(m)'\n",
      " '((1/[AM:Volume]])^2)*([AD:Volume])*([AD:Young])']\n",
      "Constructed function is: 0.0066205094852153186 * ([AD:Young]^2)*((1-m)^2)*(m) + 0.796347468412843 * ([AD:Volume]^2)*((1-m))*(m) + 54.37836859589801 * ((1/[AM:Volume]])^2)*([AD:Volume])*([AD:Young]) + 0.006479935228445477\n",
      "Lasso L0: 3 coef\n",
      "=========\n",
      "Mean absolute error: 0.08010324137767677\n",
      "Mean squared error: 0.017334159698607292\n",
      "Mean absolute percentage error: 0.09718154421984418\n"
     ]
    },
    {
     "name": "stderr",
     "output_type": "stream",
     "text": [
      "/var/folders/_0/q128s8pd1lb95k4pms0qlpw40000gn/T/ipykernel_19680/1248470983.py:29: FutureWarning: Series.__getitem__ treating keys as positions is deprecated. In a future version, integer keys will always be treated as labels (consistent with DataFrame behavior). To access a value by position, use `ser.iloc[pos]`\n",
      "  mean_std.append(coefficients[i] * mean_selected[i]/std_selected[i])\n",
      "/var/folders/_0/q128s8pd1lb95k4pms0qlpw40000gn/T/ipykernel_19680/1248470983.py:34: FutureWarning: Series.__getitem__ treating keys as positions is deprecated. In a future version, integer keys will always be treated as labels (consistent with DataFrame behavior). To access a value by position, use `ser.iloc[pos]`\n",
      "  coefficients[i] = coefficients[i] / std_selected[i]\n"
     ]
    }
   ],
   "source": [
    "LassoL0Fit(X_reduced, Y.copy(), 3);"
   ]
  },
  {
   "cell_type": "code",
   "execution_count": 24,
   "id": "c884e6fc-a711-488d-8ca7-d5218f8827d4",
   "metadata": {},
   "outputs": [
    {
     "name": "stdout",
     "output_type": "stream",
     "text": [
      "Lasso: selected coefficients are: [0.26960209 1.22738479 0.7666129  0.90307229 2.41207633]\n",
      "Lasso: selected features are: ['([AD:Young]^2)*((1-m)^2)*(m)' '([AD:Volume]^2)*((1-m))*(m)'\n",
      " '([AD:Volume]^2)*((1-m)^2)*(m^2)'\n",
      " '((1/[AM:Volume]])^2)*([AD:Volume])*([AD:Young])']\n",
      "Constructed function is: 0.004701421049791393 * ([AD:Young]^2)*((1-m)^2)*(m) + 0.46723536449379344 * ([AD:Volume]^2)*((1-m))*(m) + 1.2743618801822052 * ([AD:Volume]^2)*((1-m)^2)*(m^2) + 70.87557403864253 * ((1/[AM:Volume]])^2)*([AD:Volume])*([AD:Young]) + 0.019505964017146216\n",
      "Lasso L0: 4 coef\n",
      "=========\n",
      "Mean absolute error: 0.0630268184493695\n",
      "Mean squared error: 0.009105184435617772\n",
      "Mean absolute percentage error: 0.1467975518708706\n"
     ]
    },
    {
     "name": "stderr",
     "output_type": "stream",
     "text": [
      "/var/folders/_0/q128s8pd1lb95k4pms0qlpw40000gn/T/ipykernel_19680/1248470983.py:29: FutureWarning: Series.__getitem__ treating keys as positions is deprecated. In a future version, integer keys will always be treated as labels (consistent with DataFrame behavior). To access a value by position, use `ser.iloc[pos]`\n",
      "  mean_std.append(coefficients[i] * mean_selected[i]/std_selected[i])\n",
      "/var/folders/_0/q128s8pd1lb95k4pms0qlpw40000gn/T/ipykernel_19680/1248470983.py:34: FutureWarning: Series.__getitem__ treating keys as positions is deprecated. In a future version, integer keys will always be treated as labels (consistent with DataFrame behavior). To access a value by position, use `ser.iloc[pos]`\n",
      "  coefficients[i] = coefficients[i] / std_selected[i]\n"
     ]
    }
   ],
   "source": [
    "LassoL0Fit(X_reduced, Y.copy(), 4);"
   ]
  },
  {
   "cell_type": "code",
   "execution_count": 25,
   "id": "4416a243-14e4-4a25-ad15-b7d7e58acc93",
   "metadata": {},
   "outputs": [
    {
     "name": "stdout",
     "output_type": "stream",
     "text": [
      "Lasso: selected coefficients are: [0.20070196 0.2467823  0.75202455 0.98631679 0.99635434 2.41207633]\n",
      "Lasso: selected features are: ['([AD:Volume])*((1-m))*(m)' '([AD:Young]^2)*([AD:Volume])*((1-m))'\n",
      " '([AD:Volume]^2)*((1-m))*(m)' '([AD:Volume]^2)*((1-m)^2)*(m^2)'\n",
      " '((1/[AM:Volume]])^2)*([AD:Volume])*([AD:Young])']\n",
      "Constructed function is: 0.5117595826634067 * ([AD:Volume])*((1-m))*(m) + 0.0001474515072574851 * ([AD:Young]^2)*([AD:Volume])*((1-m)) + 0.2862773490180805 * ([AD:Volume]^2)*((1-m))*(m) + 1.6395817423024475 * ([AD:Volume]^2)*((1-m)^2)*(m^2) + 78.19660306717837 * ((1/[AM:Volume]])^2)*([AD:Volume])*([AD:Young]) - 0.07646874572108953\n",
      "Lasso L0: 5 coef\n",
      "=========\n",
      "Mean absolute error: 0.05947131800608015\n",
      "Mean squared error: 0.008362937055313602\n",
      "Mean absolute percentage error: 0.1770670074940963\n"
     ]
    },
    {
     "name": "stderr",
     "output_type": "stream",
     "text": [
      "/var/folders/_0/q128s8pd1lb95k4pms0qlpw40000gn/T/ipykernel_19680/1248470983.py:29: FutureWarning: Series.__getitem__ treating keys as positions is deprecated. In a future version, integer keys will always be treated as labels (consistent with DataFrame behavior). To access a value by position, use `ser.iloc[pos]`\n",
      "  mean_std.append(coefficients[i] * mean_selected[i]/std_selected[i])\n",
      "/var/folders/_0/q128s8pd1lb95k4pms0qlpw40000gn/T/ipykernel_19680/1248470983.py:34: FutureWarning: Series.__getitem__ treating keys as positions is deprecated. In a future version, integer keys will always be treated as labels (consistent with DataFrame behavior). To access a value by position, use `ser.iloc[pos]`\n",
      "  coefficients[i] = coefficients[i] / std_selected[i]\n"
     ]
    }
   ],
   "source": [
    "LassoL0Fit(X_reduced, Y.copy(), 5);"
   ]
  }
 ],
 "metadata": {
  "kernelspec": {
   "display_name": "Python 3 (ipykernel)",
   "language": "python",
   "name": "python3"
  },
  "language_info": {
   "codemirror_mode": {
    "name": "ipython",
    "version": 3
   },
   "file_extension": ".py",
   "mimetype": "text/x-python",
   "name": "python",
   "nbconvert_exporter": "python",
   "pygments_lexer": "ipython3",
   "version": "3.9.6"
  }
 },
 "nbformat": 4,
 "nbformat_minor": 5
}
