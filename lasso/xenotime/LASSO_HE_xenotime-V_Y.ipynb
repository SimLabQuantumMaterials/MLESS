{
 "cells": [
  {
   "cell_type": "markdown",
   "id": "72fe43dd-a328-443c-85bd-ba4ea42d60e3",
   "metadata": {},
   "source": [
    "### Predicting formation enthalpies for solid solutions of Lanthanides Orthophosphates\n"
   ]
  },
  {
   "cell_type": "code",
   "execution_count": 1,
   "id": "6907561a-9571-4da7-9b83-87d188fecf58",
   "metadata": {},
   "outputs": [
    {
     "name": "stdout",
     "output_type": "stream",
     "text": [
      "3.9.6 (default, Nov 10 2023, 13:38:27) \n",
      "[Clang 15.0.0 (clang-1500.1.0.2.5)]\n"
     ]
    }
   ],
   "source": [
    "import os\n",
    "import sys\n",
    "import inspect\n",
    "\n",
    "print(sys.version)\n",
    "\n",
    "currentdir = os.getcwd()\n",
    "parentdir = os.path.dirname(currentdir)\n",
    "grandparentdir = os.path.dirname(parentdir)\n",
    "\n",
    "sys.path.insert(0, grandparentdir) "
   ]
  },
  {
   "cell_type": "code",
   "execution_count": 2,
   "id": "a86375f5-41ba-43cf-8943-42c981be0955",
   "metadata": {},
   "outputs": [],
   "source": [
    "import read_data\n",
    "import featureSpan\n",
    "import lasso\n",
    "import Utils\n",
    "from sklearn.kernel_ridge import KernelRidge\n",
    "from sklearn.model_selection import train_test_split, cross_val_score, ShuffleSplit\n",
    "from sklearn.model_selection import GridSearchCV\n",
    "from sklearn.preprocessing import StandardScaler\n",
    "import numpy as np\n",
    "import matplotlib.pyplot as plt\n",
    "from sklearn.metrics import mean_absolute_error, mean_squared_error\n",
    "import scipy.optimize\n",
    "import pandas as pd\n",
    "import seaborn as sns\n",
    "import scipy.stats as ss\n",
    "from sklearn.linear_model import Lasso\n",
    "from itertools import combinations, product\n",
    "import itertools\n",
    "import math\n",
    "import pandas as pd"
   ]
  },
  {
   "cell_type": "markdown",
   "id": "2b849c05-aa97-4d15-bdf1-50faf8167a0c",
   "metadata": {},
   "source": [
    "## Xenotime"
   ]
  },
  {
   "cell_type": "markdown",
   "id": "333d2fa5-4a59-4cf9-a778-57f4095faf06",
   "metadata": {},
   "source": [
    "#### Load data from files"
   ]
  },
  {
   "cell_type": "code",
   "execution_count": 3,
   "id": "f5c6d97a-4ec1-4548-bf42-fbee1ae7f467",
   "metadata": {},
   "outputs": [
    {
     "name": "stdout",
     "output_type": "stream",
     "text": [
      "Shape of List1 is (525, 4)\n",
      "[[5.70000000e+01 5.80000000e+01 7.50000000e-01 2.31598225e-01]\n",
      " [5.70000000e+01 5.80000000e+01 6.25000000e-01 2.78958493e-01]\n",
      " [5.70000000e+01 5.80000000e+01 5.00000000e-01 2.97583757e-01]\n",
      " ...\n",
      " [7.00000000e+01 7.10000000e+01 5.00000000e-01 7.77590152e-02]\n",
      " [7.00000000e+01 7.10000000e+01 3.75000000e-01 7.09266168e-02]\n",
      " [7.00000000e+01 7.10000000e+01 2.50000000e-01 5.91211365e-02]]\n"
     ]
    }
   ],
   "source": [
    "list1 = read_data.readData(\"../../data/DATA_HE_xenotime.dat\")\n",
    "print(\"Shape of List1 is {}\".format(list1.shape))\n",
    "print(list1)"
   ]
  },
  {
   "cell_type": "code",
   "execution_count": 4,
   "id": "8084596e-cad9-41f4-9759-651a0d4beec8",
   "metadata": {},
   "outputs": [
    {
     "name": "stdout",
     "output_type": "stream",
     "text": [
      "Shape of List2 is (15, 2)\n",
      "[[ 91.7         83.16086967]\n",
      " [ 99.73        81.11579575]\n",
      " [112.27        79.31176899]\n",
      " [120.19        77.89975607]\n",
      " [127.26        76.63526873]\n",
      " [137.16        75.42961529]\n",
      " [143.83        74.36126731]\n",
      " [149.42        73.33463097]\n",
      " [156.33        72.43898327]\n",
      " [163.          71.49567572]\n",
      " [169.12        70.75467386]\n",
      " [177.09        69.85074728]\n",
      " [183.38        68.92826151]\n",
      " [188.35        68.35674618]\n",
      " [194.41        67.43658042]]\n"
     ]
    }
   ],
   "source": [
    "list2 = read_data.readCSVData_simplified(\"../../data/Data_Ln-xenotime.csv\", material=\"xenotime\", R=False)\n",
    "print(\"Shape of List2 is {}\".format(list2.shape))\n",
    "print((list2))"
   ]
  },
  {
   "cell_type": "markdown",
   "id": "18aa9a75-7c90-4914-82d6-3291b4f70764",
   "metadata": {},
   "source": [
    "#### Generated Elemental Training/Testing sets from loaded data"
   ]
  },
  {
   "cell_type": "code",
   "execution_count": 5,
   "id": "5e1037b0-6239-42fc-a086-e63765899e0f",
   "metadata": {},
   "outputs": [
    {
     "name": "stdout",
     "output_type": "stream",
     "text": [
      "(525, 24)\n",
      "(525,)\n",
      "24\n",
      "['m', '1/m', 'm^2', '(1/m)^2', '(1-m)', '1/(1-m)', '(1-m)^2', '(1/(1-m))^2', '[AD:Young]', '[AD:Volume]', '1/[AD:Young]', '1/[AD:Volume]', '[AD:Young]^2', '[AD:Volume]^2', '(1/[AD:Young])^2', '(1/[AD:Volume])^2', '[AM:Young]', '[AM:Volume]', '1/[AM:Young]', '1/[AM:Volume]', '[AM:Young]^2', '[AM:Volume]^2', '(1/[AM:Young])^2', '(1/[AM:Volume]])^2']\n",
      "The elemental features are: \n",
      " ['(m)', '(1/m)', '(m^2)', '((1/m)^2)', '((1-m))', '(1/(1-m))', '((1-m)^2)', '((1/(1-m))^2)', '([AD:Young])', '([AD:Volume])', '(1/[AD:Young])', '(1/[AD:Volume])', '([AD:Young]^2)', '([AD:Volume]^2)', '((1/[AD:Young])^2)', '((1/[AD:Volume])^2)', '([AM:Young])', '([AM:Volume])', '(1/[AM:Young])', '(1/[AM:Volume])', '([AM:Young]^2)', '([AM:Volume]^2)', '((1/[AM:Young])^2)', '((1/[AM:Volume]])^2)']\n"
     ]
    }
   ],
   "source": [
    "listX, listY = featureSpan.generateFeatures(list1, list2)\n",
    "X = np.asarray(listX)\n",
    "Y = np.asarray(listY)\n",
    "print(X.shape)\n",
    "print(Y.shape)\n",
    "\n",
    "elemental_list = [\"m\", \"1/m\", \"m^2\", \"(1/m)^2\", \"(1-m)\", \"1/(1-m)\", \"(1-m)^2\", \"(1/(1-m))^2\", \"[AD:Young]\", \"[AD:Volume]\", \"1/[AD:Young]\", \"1/[AD:Volume]\", \"[AD:Young]^2\", \"[AD:Volume]^2\", \"(1/[AD:Young])^2\", \"(1/[AD:Volume])^2\", \"[AM:Young]\", \"[AM:Volume]\", \"1/[AM:Young]\", \"1/[AM:Volume]\",\"[AM:Young]^2\", \"[AM:Volume]^2\", \"(1/[AM:Young])^2\", \"(1/[AM:Volume]])^2\"]\n",
    "print(len(elemental_list))\n",
    "print(elemental_list)\n",
    "m, n = X.shape\n",
    "\n",
    "elemental_features = []\n",
    "\n",
    "for i in elemental_list:\n",
    "    elemental_features.append(\"(\"+i+\")\")\n",
    "        \n",
    "print(\"The elemental features are: \\n {}\".format(elemental_features))"
   ]
  },
  {
   "cell_type": "code",
   "execution_count": 6,
   "id": "0dff895e-841c-4e32-9c7d-5939185738d5",
   "metadata": {},
   "outputs": [
    {
     "data": {
      "text/html": [
       "<div>\n",
       "<style scoped>\n",
       "    .dataframe tbody tr th:only-of-type {\n",
       "        vertical-align: middle;\n",
       "    }\n",
       "\n",
       "    .dataframe tbody tr th {\n",
       "        vertical-align: top;\n",
       "    }\n",
       "\n",
       "    .dataframe thead th {\n",
       "        text-align: right;\n",
       "    }\n",
       "</style>\n",
       "<table border=\"1\" class=\"dataframe\">\n",
       "  <thead>\n",
       "    <tr style=\"text-align: right;\">\n",
       "      <th></th>\n",
       "      <th>(m)</th>\n",
       "      <th>(1/m)</th>\n",
       "      <th>(m^2)</th>\n",
       "      <th>((1/m)^2)</th>\n",
       "      <th>((1-m))</th>\n",
       "      <th>(1/(1-m))</th>\n",
       "      <th>((1-m)^2)</th>\n",
       "      <th>((1/(1-m))^2)</th>\n",
       "      <th>([AD:Young])</th>\n",
       "      <th>([AD:Volume])</th>\n",
       "      <th>...</th>\n",
       "      <th>((1/[AM:Volume]])^2)*((1/[AM:Young])^2)*([AD:Young]^2)</th>\n",
       "      <th>((1/[AM:Volume]])^2)*((1/[AM:Young])^2)*([AD:Volume]^2)</th>\n",
       "      <th>((1/[AM:Volume]])^2)*((1/[AM:Young])^2)*((1/[AD:Young])^2)</th>\n",
       "      <th>((1/[AM:Volume]])^2)*((1/[AM:Young])^2)*((1/[AD:Volume])^2)</th>\n",
       "      <th>((1/[AM:Volume]])^2)*((1/[AM:Young])^2)*([AM:Young])</th>\n",
       "      <th>((1/[AM:Volume]])^2)*((1/[AM:Young])^2)*([AM:Volume])</th>\n",
       "      <th>((1/[AM:Volume]])^2)*((1/[AM:Young])^2)*(1/[AM:Young])</th>\n",
       "      <th>((1/[AM:Volume]])^2)*((1/[AM:Young])^2)*(1/[AM:Volume])</th>\n",
       "      <th>((1/[AM:Volume]])^2)*((1/[AM:Young])^2)*([AM:Young]^2)</th>\n",
       "      <th>((1/[AM:Volume]])^2)*((1/[AM:Young])^2)*([AM:Volume]^2)</th>\n",
       "    </tr>\n",
       "  </thead>\n",
       "  <tbody>\n",
       "    <tr>\n",
       "      <th>0</th>\n",
       "      <td>0.750</td>\n",
       "      <td>1.333333</td>\n",
       "      <td>0.562500</td>\n",
       "      <td>1.777778</td>\n",
       "      <td>0.250</td>\n",
       "      <td>4.000000</td>\n",
       "      <td>0.062500</td>\n",
       "      <td>16.000000</td>\n",
       "      <td>4.015</td>\n",
       "      <td>1.022537</td>\n",
       "      <td>...</td>\n",
       "      <td>2.608070e-07</td>\n",
       "      <td>1.691633e-08</td>\n",
       "      <td>1.003638e-09</td>\n",
       "      <td>1.547356e-08</td>\n",
       "      <td>0.000002</td>\n",
       "      <td>0.000001</td>\n",
       "      <td>1.690317e-10</td>\n",
       "      <td>1.969710e-10</td>\n",
       "      <td>0.000148</td>\n",
       "      <td>0.000109</td>\n",
       "    </tr>\n",
       "    <tr>\n",
       "      <th>1</th>\n",
       "      <td>0.625</td>\n",
       "      <td>1.600000</td>\n",
       "      <td>0.390625</td>\n",
       "      <td>2.560000</td>\n",
       "      <td>0.375</td>\n",
       "      <td>2.666667</td>\n",
       "      <td>0.140625</td>\n",
       "      <td>7.111111</td>\n",
       "      <td>4.015</td>\n",
       "      <td>1.022537</td>\n",
       "      <td>...</td>\n",
       "      <td>2.608070e-07</td>\n",
       "      <td>1.691633e-08</td>\n",
       "      <td>1.003638e-09</td>\n",
       "      <td>1.547356e-08</td>\n",
       "      <td>0.000002</td>\n",
       "      <td>0.000001</td>\n",
       "      <td>1.690317e-10</td>\n",
       "      <td>1.969710e-10</td>\n",
       "      <td>0.000148</td>\n",
       "      <td>0.000109</td>\n",
       "    </tr>\n",
       "    <tr>\n",
       "      <th>2</th>\n",
       "      <td>0.500</td>\n",
       "      <td>2.000000</td>\n",
       "      <td>0.250000</td>\n",
       "      <td>4.000000</td>\n",
       "      <td>0.500</td>\n",
       "      <td>2.000000</td>\n",
       "      <td>0.250000</td>\n",
       "      <td>4.000000</td>\n",
       "      <td>4.015</td>\n",
       "      <td>1.022537</td>\n",
       "      <td>...</td>\n",
       "      <td>2.608070e-07</td>\n",
       "      <td>1.691633e-08</td>\n",
       "      <td>1.003638e-09</td>\n",
       "      <td>1.547356e-08</td>\n",
       "      <td>0.000002</td>\n",
       "      <td>0.000001</td>\n",
       "      <td>1.690317e-10</td>\n",
       "      <td>1.969710e-10</td>\n",
       "      <td>0.000148</td>\n",
       "      <td>0.000109</td>\n",
       "    </tr>\n",
       "    <tr>\n",
       "      <th>3</th>\n",
       "      <td>0.375</td>\n",
       "      <td>2.666667</td>\n",
       "      <td>0.140625</td>\n",
       "      <td>7.111111</td>\n",
       "      <td>0.625</td>\n",
       "      <td>1.600000</td>\n",
       "      <td>0.390625</td>\n",
       "      <td>2.560000</td>\n",
       "      <td>4.015</td>\n",
       "      <td>1.022537</td>\n",
       "      <td>...</td>\n",
       "      <td>2.608070e-07</td>\n",
       "      <td>1.691633e-08</td>\n",
       "      <td>1.003638e-09</td>\n",
       "      <td>1.547356e-08</td>\n",
       "      <td>0.000002</td>\n",
       "      <td>0.000001</td>\n",
       "      <td>1.690317e-10</td>\n",
       "      <td>1.969710e-10</td>\n",
       "      <td>0.000148</td>\n",
       "      <td>0.000109</td>\n",
       "    </tr>\n",
       "    <tr>\n",
       "      <th>4</th>\n",
       "      <td>0.250</td>\n",
       "      <td>4.000000</td>\n",
       "      <td>0.062500</td>\n",
       "      <td>16.000000</td>\n",
       "      <td>0.750</td>\n",
       "      <td>1.333333</td>\n",
       "      <td>0.562500</td>\n",
       "      <td>1.777778</td>\n",
       "      <td>4.015</td>\n",
       "      <td>1.022537</td>\n",
       "      <td>...</td>\n",
       "      <td>2.608070e-07</td>\n",
       "      <td>1.691633e-08</td>\n",
       "      <td>1.003638e-09</td>\n",
       "      <td>1.547356e-08</td>\n",
       "      <td>0.000002</td>\n",
       "      <td>0.000001</td>\n",
       "      <td>1.690317e-10</td>\n",
       "      <td>1.969710e-10</td>\n",
       "      <td>0.000148</td>\n",
       "      <td>0.000109</td>\n",
       "    </tr>\n",
       "  </tbody>\n",
       "</table>\n",
       "<p>5 rows × 2320 columns</p>\n",
       "</div>"
      ],
      "text/plain": [
       "     (m)     (1/m)     (m^2)  ((1/m)^2)  ((1-m))  (1/(1-m))  ((1-m)^2)  \\\n",
       "0  0.750  1.333333  0.562500   1.777778    0.250   4.000000   0.062500   \n",
       "1  0.625  1.600000  0.390625   2.560000    0.375   2.666667   0.140625   \n",
       "2  0.500  2.000000  0.250000   4.000000    0.500   2.000000   0.250000   \n",
       "3  0.375  2.666667  0.140625   7.111111    0.625   1.600000   0.390625   \n",
       "4  0.250  4.000000  0.062500  16.000000    0.750   1.333333   0.562500   \n",
       "\n",
       "   ((1/(1-m))^2)  ([AD:Young])  ([AD:Volume])  ...  \\\n",
       "0      16.000000         4.015       1.022537  ...   \n",
       "1       7.111111         4.015       1.022537  ...   \n",
       "2       4.000000         4.015       1.022537  ...   \n",
       "3       2.560000         4.015       1.022537  ...   \n",
       "4       1.777778         4.015       1.022537  ...   \n",
       "\n",
       "   ((1/[AM:Volume]])^2)*((1/[AM:Young])^2)*([AD:Young]^2)  \\\n",
       "0                                       2.608070e-07        \n",
       "1                                       2.608070e-07        \n",
       "2                                       2.608070e-07        \n",
       "3                                       2.608070e-07        \n",
       "4                                       2.608070e-07        \n",
       "\n",
       "   ((1/[AM:Volume]])^2)*((1/[AM:Young])^2)*([AD:Volume]^2)  \\\n",
       "0                                       1.691633e-08         \n",
       "1                                       1.691633e-08         \n",
       "2                                       1.691633e-08         \n",
       "3                                       1.691633e-08         \n",
       "4                                       1.691633e-08         \n",
       "\n",
       "   ((1/[AM:Volume]])^2)*((1/[AM:Young])^2)*((1/[AD:Young])^2)  \\\n",
       "0                                       1.003638e-09            \n",
       "1                                       1.003638e-09            \n",
       "2                                       1.003638e-09            \n",
       "3                                       1.003638e-09            \n",
       "4                                       1.003638e-09            \n",
       "\n",
       "   ((1/[AM:Volume]])^2)*((1/[AM:Young])^2)*((1/[AD:Volume])^2)  \\\n",
       "0                                       1.547356e-08             \n",
       "1                                       1.547356e-08             \n",
       "2                                       1.547356e-08             \n",
       "3                                       1.547356e-08             \n",
       "4                                       1.547356e-08             \n",
       "\n",
       "   ((1/[AM:Volume]])^2)*((1/[AM:Young])^2)*([AM:Young])  \\\n",
       "0                                           0.000002      \n",
       "1                                           0.000002      \n",
       "2                                           0.000002      \n",
       "3                                           0.000002      \n",
       "4                                           0.000002      \n",
       "\n",
       "   ((1/[AM:Volume]])^2)*((1/[AM:Young])^2)*([AM:Volume])  \\\n",
       "0                                           0.000001       \n",
       "1                                           0.000001       \n",
       "2                                           0.000001       \n",
       "3                                           0.000001       \n",
       "4                                           0.000001       \n",
       "\n",
       "   ((1/[AM:Volume]])^2)*((1/[AM:Young])^2)*(1/[AM:Young])  \\\n",
       "0                                       1.690317e-10        \n",
       "1                                       1.690317e-10        \n",
       "2                                       1.690317e-10        \n",
       "3                                       1.690317e-10        \n",
       "4                                       1.690317e-10        \n",
       "\n",
       "   ((1/[AM:Volume]])^2)*((1/[AM:Young])^2)*(1/[AM:Volume])  \\\n",
       "0                                       1.969710e-10         \n",
       "1                                       1.969710e-10         \n",
       "2                                       1.969710e-10         \n",
       "3                                       1.969710e-10         \n",
       "4                                       1.969710e-10         \n",
       "\n",
       "   ((1/[AM:Volume]])^2)*((1/[AM:Young])^2)*([AM:Young]^2)  \\\n",
       "0                                           0.000148        \n",
       "1                                           0.000148        \n",
       "2                                           0.000148        \n",
       "3                                           0.000148        \n",
       "4                                           0.000148        \n",
       "\n",
       "   ((1/[AM:Volume]])^2)*((1/[AM:Young])^2)*([AM:Volume]^2)  \n",
       "0                                           0.000109        \n",
       "1                                           0.000109        \n",
       "2                                           0.000109        \n",
       "3                                           0.000109        \n",
       "4                                           0.000109        \n",
       "\n",
       "[5 rows x 2320 columns]"
      ]
     },
     "execution_count": 6,
     "metadata": {},
     "output_type": "execute_result"
    }
   ],
   "source": [
    "dfX = pd.DataFrame(data=X, columns=elemental_features)\n",
    "\n",
    "new_features=[]\n",
    "new_columns = []\n",
    "\n",
    "for i in range(n):\n",
    "    for j in range(i):\n",
    "        new_features.append(elemental_features[i]+\"*\"+elemental_features[j])\n",
    "        new_columns.append(dfX[elemental_features[i]].values * dfX[elemental_features[j]].values)\n",
    "\n",
    "\n",
    "for i in range(n):\n",
    "    for j in range(i):\n",
    "        for k in range(j):\n",
    "            new_features.append(elemental_features[i]+\"*\"+elemental_features[j]+\"*\"+elemental_features[k])\n",
    "            new_columns.append(dfX[elemental_features[i]] * dfX[elemental_features[j]] * dfX[elemental_features[k]])\n",
    "            \n",
    "\n",
    "#new_columns = np.reshape(np.asarray(new_columns))\n",
    "            \n",
    "new_columns = np.asarray(new_columns)\n",
    "dfX = pd.concat(\n",
    "    [\n",
    "        dfX,\n",
    "        pd.DataFrame(\n",
    "            new_columns.T, \n",
    "            index=dfX.index, \n",
    "            columns=new_features\n",
    "        )\n",
    "    ], axis=1\n",
    ")\n",
    "\n",
    "dfX.head()\n",
    "\n",
    "dfX.std() == 0\n",
    "dfX=dfX.loc[:, dfX.std() > 0]\n",
    "dfX.head()"
   ]
  },
  {
   "cell_type": "code",
   "execution_count": 7,
   "id": "72fede3e-ac44-4010-8338-3d9295638501",
   "metadata": {},
   "outputs": [
    {
     "name": "stdout",
     "output_type": "stream",
     "text": [
      "2320\n"
     ]
    },
    {
     "data": {
      "text/plain": [
       "array(['(m)', '(1/m)', '(m^2)', ...,\n",
       "       '((1/[AM:Volume]])^2)*((1/[AM:Young])^2)*(1/[AM:Volume])',\n",
       "       '((1/[AM:Volume]])^2)*((1/[AM:Young])^2)*([AM:Young]^2)',\n",
       "       '((1/[AM:Volume]])^2)*((1/[AM:Young])^2)*([AM:Volume]^2)'],\n",
       "      dtype=object)"
      ]
     },
     "execution_count": 7,
     "metadata": {},
     "output_type": "execute_result"
    }
   ],
   "source": [
    "print(len(dfX.columns.values))\n",
    "np.array(dfX.columns.values)"
   ]
  },
  {
   "cell_type": "markdown",
   "id": "ff68a3a7-f634-4d2b-9f67-feb2d3bffc87",
   "metadata": {},
   "source": [
    "fitting of Lasso with a given $\\lambda$"
   ]
  },
  {
   "cell_type": "code",
   "execution_count": 8,
   "id": "26f7fb37-b599-4d51-98d6-2970465789ca",
   "metadata": {},
   "outputs": [
    {
     "data": {
      "text/plain": [
       "(array([ 0., -0.,  0., ..., -0., -0., -0.]),\n",
       " array([  56,   64,  102,  108,  153,  204,  223,  286,  388,  533,  555,\n",
       "         588,  593,  597,  599,  606,  613,  621,  944, 2155, 2251]),\n",
       " array(['([AD:Volume])*(m)', '([AD:Volume])*([AD:Young])',\n",
       "        '([AD:Volume]^2)*((1-m))', '([AD:Volume]^2)*(1/[AD:Young])',\n",
       "        '([AM:Young])*([AD:Volume]^2)', '(1/[AM:Volume])*([AD:Volume]^2)',\n",
       "        '([AM:Young]^2)*([AD:Volume]^2)',\n",
       "        '((1/[AM:Volume]])^2)*([AD:Volume]^2)',\n",
       "        '([AD:Volume])*((1-m))*(m^2)', '([AD:Young]^2)*((1-m)^2)*(m^2)',\n",
       "        '([AD:Young]^2)*([AD:Volume])*((1/m)^2)',\n",
       "        '([AD:Volume]^2)*((1-m))*(m)', '([AD:Volume]^2)*(1/(1-m))*(1/m)',\n",
       "        '([AD:Volume]^2)*((1-m)^2)*(m)', '([AD:Volume]^2)*((1-m)^2)*(m^2)',\n",
       "        '([AD:Volume]^2)*((1/(1-m))^2)*((1/m)^2)',\n",
       "        '([AD:Volume]^2)*([AD:Young])*((1/m)^2)',\n",
       "        '([AD:Volume]^2)*([AD:Volume])*((1/m)^2)',\n",
       "        '([AM:Young])*([AD:Volume]^2)*(1/[AD:Young])',\n",
       "        '((1/[AM:Volume]])^2)*([AD:Volume]^2)*(1/[AD:Young])',\n",
       "        '((1/[AM:Volume]])^2)*(1/[AM:Volume])*([AD:Volume]^2)'],\n",
       "       dtype=object),\n",
       " 0.03879634392566475,\n",
       " 0.0033972292816537093,\n",
       " 0.057579478743040174)"
      ]
     },
     "execution_count": 8,
     "metadata": {},
     "output_type": "execute_result"
    }
   ],
   "source": [
    "def LassoFit(lmb, X, Y, max_iter=100000, standardization = True):\n",
    "    \n",
    "    scaler = StandardScaler()\n",
    "    scaler.fit(X)\n",
    "    X_standardized = scaler.transform(X)\n",
    "    lasso =  Lasso(alpha=lmb, max_iter=max_iter)\n",
    "    lasso.fit(X_standardized, Y.copy())\n",
    "    coef =  lasso.coef_\n",
    "    selected_indices = coef.nonzero()[0]\n",
    "    selected_features = np.array(dfX.columns.values)[selected_indices]\n",
    "    Y_predict = lasso.predict(X_standardized)\n",
    "    MAE, MSE, ME = Utils.compute_error(Y.copy(), Y_predict)\n",
    "        \n",
    "    return coef, selected_indices, selected_features, MAE, MSE, ME\n",
    "\n",
    "LassoFit(0.01, dfX, Y)"
   ]
  },
  {
   "cell_type": "markdown",
   "id": "7b8402f7-ed0c-4f98-b5e3-9a196246da2f",
   "metadata": {},
   "source": [
    "#### Analyze the behavior of Lasso with the decrease of $\\lambda$"
   ]
  },
  {
   "cell_type": "code",
   "execution_count": 9,
   "id": "1497ce6a-9b1d-4436-a34c-8ce22af7a53b",
   "metadata": {},
   "outputs": [
    {
     "name": "stdout",
     "output_type": "stream",
     "text": [
      "FOUND with threshold: 10\n",
      "Lambda: 0.061, nnz: 10, MAE: 0.06887241405275384, MSE: 0.010234855663507705, MAPE: 0.14336058598699092\n"
     ]
    },
    {
     "data": {
      "text/html": [
       "<div>\n",
       "<style scoped>\n",
       "    .dataframe tbody tr th:only-of-type {\n",
       "        vertical-align: middle;\n",
       "    }\n",
       "\n",
       "    .dataframe tbody tr th {\n",
       "        vertical-align: top;\n",
       "    }\n",
       "\n",
       "    .dataframe thead th {\n",
       "        text-align: right;\n",
       "    }\n",
       "</style>\n",
       "<table border=\"1\" class=\"dataframe\">\n",
       "  <thead>\n",
       "    <tr style=\"text-align: right;\">\n",
       "      <th></th>\n",
       "      <th>([AM:Young])*([AD:Volume]^2)</th>\n",
       "      <th>([AM:Young]^2)*([AD:Volume]^2)</th>\n",
       "      <th>([AD:Young]^2)*((1-m))*(m)</th>\n",
       "      <th>([AD:Young]^2)*((1-m)^2)*(m^2)</th>\n",
       "      <th>([AD:Volume]^2)*((1-m))*(m)</th>\n",
       "      <th>([AD:Volume]^2)*((1-m)^2)*(m)</th>\n",
       "      <th>([AD:Volume]^2)*((1-m)^2)*(m^2)</th>\n",
       "      <th>([AM:Young])*([AD:Volume]^2)*((1-m))</th>\n",
       "      <th>([AM:Young])*([AD:Volume]^2)*(1/[AD:Young])</th>\n",
       "      <th>((1/[AM:Volume]])^2)*([AM:Young])*([AD:Volume]^2)</th>\n",
       "    </tr>\n",
       "  </thead>\n",
       "  <tbody>\n",
       "    <tr>\n",
       "      <th>0</th>\n",
       "      <td>100.077865</td>\n",
       "      <td>9578.952833</td>\n",
       "      <td>3.022542</td>\n",
       "      <td>0.566727</td>\n",
       "      <td>0.196047</td>\n",
       "      <td>0.049012</td>\n",
       "      <td>0.036759</td>\n",
       "      <td>25.019466</td>\n",
       "      <td>24.925994</td>\n",
       "      <td>0.014834</td>\n",
       "    </tr>\n",
       "    <tr>\n",
       "      <th>1</th>\n",
       "      <td>100.077865</td>\n",
       "      <td>9578.952833</td>\n",
       "      <td>3.778178</td>\n",
       "      <td>0.885510</td>\n",
       "      <td>0.245058</td>\n",
       "      <td>0.091897</td>\n",
       "      <td>0.057436</td>\n",
       "      <td>37.529199</td>\n",
       "      <td>24.925994</td>\n",
       "      <td>0.014834</td>\n",
       "    </tr>\n",
       "    <tr>\n",
       "      <th>2</th>\n",
       "      <td>100.077865</td>\n",
       "      <td>9578.952833</td>\n",
       "      <td>4.030056</td>\n",
       "      <td>1.007514</td>\n",
       "      <td>0.261395</td>\n",
       "      <td>0.130698</td>\n",
       "      <td>0.065349</td>\n",
       "      <td>50.038932</td>\n",
       "      <td>24.925994</td>\n",
       "      <td>0.014834</td>\n",
       "    </tr>\n",
       "    <tr>\n",
       "      <th>3</th>\n",
       "      <td>100.077865</td>\n",
       "      <td>9578.952833</td>\n",
       "      <td>3.778178</td>\n",
       "      <td>0.885510</td>\n",
       "      <td>0.245058</td>\n",
       "      <td>0.153161</td>\n",
       "      <td>0.057436</td>\n",
       "      <td>62.548666</td>\n",
       "      <td>24.925994</td>\n",
       "      <td>0.014834</td>\n",
       "    </tr>\n",
       "    <tr>\n",
       "      <th>4</th>\n",
       "      <td>100.077865</td>\n",
       "      <td>9578.952833</td>\n",
       "      <td>3.022542</td>\n",
       "      <td>0.566727</td>\n",
       "      <td>0.196047</td>\n",
       "      <td>0.147035</td>\n",
       "      <td>0.036759</td>\n",
       "      <td>75.058399</td>\n",
       "      <td>24.925994</td>\n",
       "      <td>0.014834</td>\n",
       "    </tr>\n",
       "  </tbody>\n",
       "</table>\n",
       "</div>"
      ],
      "text/plain": [
       "   ([AM:Young])*([AD:Volume]^2)  ([AM:Young]^2)*([AD:Volume]^2)  \\\n",
       "0                    100.077865                     9578.952833   \n",
       "1                    100.077865                     9578.952833   \n",
       "2                    100.077865                     9578.952833   \n",
       "3                    100.077865                     9578.952833   \n",
       "4                    100.077865                     9578.952833   \n",
       "\n",
       "   ([AD:Young]^2)*((1-m))*(m)  ([AD:Young]^2)*((1-m)^2)*(m^2)  \\\n",
       "0                    3.022542                        0.566727   \n",
       "1                    3.778178                        0.885510   \n",
       "2                    4.030056                        1.007514   \n",
       "3                    3.778178                        0.885510   \n",
       "4                    3.022542                        0.566727   \n",
       "\n",
       "   ([AD:Volume]^2)*((1-m))*(m)  ([AD:Volume]^2)*((1-m)^2)*(m)  \\\n",
       "0                     0.196047                       0.049012   \n",
       "1                     0.245058                       0.091897   \n",
       "2                     0.261395                       0.130698   \n",
       "3                     0.245058                       0.153161   \n",
       "4                     0.196047                       0.147035   \n",
       "\n",
       "   ([AD:Volume]^2)*((1-m)^2)*(m^2)  ([AM:Young])*([AD:Volume]^2)*((1-m))  \\\n",
       "0                         0.036759                             25.019466   \n",
       "1                         0.057436                             37.529199   \n",
       "2                         0.065349                             50.038932   \n",
       "3                         0.057436                             62.548666   \n",
       "4                         0.036759                             75.058399   \n",
       "\n",
       "   ([AM:Young])*([AD:Volume]^2)*(1/[AD:Young])  \\\n",
       "0                                    24.925994   \n",
       "1                                    24.925994   \n",
       "2                                    24.925994   \n",
       "3                                    24.925994   \n",
       "4                                    24.925994   \n",
       "\n",
       "   ((1/[AM:Volume]])^2)*([AM:Young])*([AD:Volume]^2)  \n",
       "0                                           0.014834  \n",
       "1                                           0.014834  \n",
       "2                                           0.014834  \n",
       "3                                           0.014834  \n",
       "4                                           0.014834  "
      ]
     },
     "execution_count": 9,
     "metadata": {},
     "output_type": "execute_result"
    }
   ],
   "source": [
    "#### Define a function which fits Lasso to have no more nonzero coefficients than a given threshold \n",
    "def LassoSelect(X, Y, min, max, step, threshold, standardization = True):\n",
    "    \n",
    "    scaler = StandardScaler()\n",
    "    scaler.fit(X)\n",
    "    X_standardized = scaler.transform(X)\n",
    "        \n",
    "    found = False\n",
    "    for lmbda in np.arange (min, max, step):\n",
    "        coef, selected_indices, selected_features, MAE, MSE, ME = LassoFit(lmbda, X.copy(), Y.copy())\n",
    "        if len(selected_indices) <= threshold:\n",
    "            found = True\n",
    "            break\n",
    "    \n",
    "    if found:\n",
    "        print(\"FOUND with threshold: {}\".format(threshold))\n",
    "        print(\"Lambda: {}, nnz: {}, MAE: {}, MSE: {}, MAPE: {}\".format(lmbda, len(selected_indices), MAE, MSE, ME))\n",
    "            \n",
    "    else:\n",
    "        print(\"NOT FOUND with threshold: {}\".format(threshold))\n",
    "        print(\"Closest are: \")\n",
    "        print(\"Lambda: {}, nnz: {}, MAE: {}, MSE: {}, MAPE: {}\".format(lmbda, len(selected_indices), MAE, MSE, ME))\n",
    "     \n",
    "    X_reduced = X[selected_features]\n",
    "    \n",
    "    return X_reduced\n",
    "\n",
    "\n",
    "X_reduced = LassoSelect(dfX, Y, 0.001, 0.101, 0.005, 10)\n",
    "X_reduced.head()"
   ]
  },
  {
   "cell_type": "markdown",
   "id": "b3807a05-7adb-4c40-bebd-b13b51bfaa3c",
   "metadata": {},
   "source": [
    "#### Lasso with $\\ell_0$"
   ]
  },
  {
   "cell_type": "code",
   "execution_count": 10,
   "id": "78053db9-f658-4237-b0f0-ddb39126b2a1",
   "metadata": {},
   "outputs": [],
   "source": [
    "def LassoL0(X, Y, nnz):    \n",
    "    nr, nc = X.shape\n",
    "    X = np.column_stack((X, np.ones(nr)))\n",
    "    se_min = np.inner(Y, Y)\n",
    "    coef_min, permu_min = None, None\n",
    "    for permu in combinations(range(nc), nnz):\n",
    "        X_ls = X[:, permu + (-1,)]\n",
    "        coef, se, __1, __2 = np.linalg.lstsq(X_ls, Y, rcond=-1)\n",
    "        try:\n",
    "            if se[0] < se_min: \n",
    "                se_min = se[0]\n",
    "                coef_min, permu_min = coef, permu\n",
    "        except:\n",
    "            pass\n",
    "        \n",
    "    return coef_min, permu_min"
   ]
  },
  {
   "cell_type": "code",
   "execution_count": 11,
   "id": "ea618709-927d-430c-bdc0-4642a2fa1bad",
   "metadata": {},
   "outputs": [],
   "source": [
    "def LassoL0Fit(X_reduced, Y, nnz, log=True):\n",
    "    \n",
    "    scaler = StandardScaler()\n",
    "    scaler.fit(X_reduced)\n",
    "    X_std = scaler.transform(X_reduced)\n",
    "    \n",
    "    nr, nc = X_reduced.shape\n",
    "   \n",
    "    coefficients, selected_indices = LassoL0(X_std, Y, nnz)\n",
    "   \n",
    "    coefficients = np.array(coefficients)\n",
    "    selected_indices = np.array(selected_indices)\n",
    "    feature_reduced = np.array(X_reduced.columns.values)\n",
    "    feature_list_selected = feature_reduced[selected_indices]\n",
    "    \n",
    "    X_selected = X_reduced[feature_list_selected]\n",
    "\n",
    "    mean_selected = X_selected.mean()\n",
    "    std_selected = X_selected.std()\n",
    "\n",
    "    \n",
    "    if log:\n",
    "        print(\"Lasso: selected coefficients are: {}\".format(coefficients))\n",
    "        print(\"Lasso: selected features are: {}\".format(feature_list_selected))\n",
    "        \n",
    "    #-mean/std\n",
    "    mean_std = []\n",
    "    for i in range(len(selected_indices)):\n",
    "        mean_std.append(coefficients[i] * mean_selected[i]/std_selected[i])\n",
    " \n",
    "    sum_mean_std = sum(mean_std)\n",
    "\n",
    "    for i in range(len(selected_indices)):\n",
    "        coefficients[i] = coefficients[i] / std_selected[i]\n",
    "\n",
    "    \n",
    "    coefficients[len(selected_indices)] -= sum_mean_std\n",
    "    \n",
    "    function = str(coefficients[0])+\" * \"+feature_list_selected[0]\n",
    "    \n",
    "    for i in range(1, len(selected_indices)):\n",
    "        if coefficients[i] >= 0:\n",
    "            function += \" + \" + str(coefficients[i])+\" * \"+feature_list_selected[i]\n",
    "        else:\n",
    "            function += \" - \" + str(abs(coefficients[i]))+\" * \"+feature_list_selected[i]\n",
    "\n",
    "    \n",
    "    if coefficients[len(selected_indices)] >= 0:\n",
    "        function += \" + \" + str(coefficients[len(selected_indices)])\n",
    "    else:\n",
    "        function += \" - \" + str(abs(coefficients[len(selected_indices)]))\n",
    "    \n",
    "    if log:\n",
    "        print(\"Constructed function is: {}\".format(function))\n",
    "\n",
    "    X_selected = np.column_stack((X_selected, np.ones(X_selected.shape[0])))\n",
    "    Y_predict = X_selected[:,0] * coefficients[0]\n",
    "\n",
    "    for i in range(1,len(selected_indices)+1):\n",
    "        Y_predict = Y_predict + X_selected[:,i] * coefficients[i]\n",
    "    \n",
    "    if log:\n",
    "        Utils.print_error(Y.copy(),Y_predict,\"Lasso L0: {} coef\".format(nnz))\n",
    "    \n",
    "    return Y_predict, coefficients, selected_indices"
   ]
  },
  {
   "cell_type": "code",
   "execution_count": 12,
   "id": "a42a34af-a88f-4e75-bfd2-92bc704b1936",
   "metadata": {},
   "outputs": [
    {
     "name": "stdout",
     "output_type": "stream",
     "text": [
      "Lasso: selected coefficients are: [3.6874823 3.1736172]\n",
      "Lasso: selected features are: ['([AD:Volume]^2)*((1-m))*(m)']\n",
      "Constructed function is: 1.2264765333867818 * ([AD:Volume]^2)*((1-m))*(m) + 0.06308556014158206\n",
      "Lasso L0: 1 coef\n",
      "=========\n",
      "Mean absolute error: 0.16999152916334842\n",
      "Mean squared error: 0.06885010753784614\n",
      "Mean absolute percentage error: 0.2021633881048294\n"
     ]
    },
    {
     "name": "stderr",
     "output_type": "stream",
     "text": [
      "/var/folders/_0/q128s8pd1lb95k4pms0qlpw40000gn/T/ipykernel_20919/1248470983.py:29: FutureWarning: Series.__getitem__ treating keys as positions is deprecated. In a future version, integer keys will always be treated as labels (consistent with DataFrame behavior). To access a value by position, use `ser.iloc[pos]`\n",
      "  mean_std.append(coefficients[i] * mean_selected[i]/std_selected[i])\n",
      "/var/folders/_0/q128s8pd1lb95k4pms0qlpw40000gn/T/ipykernel_20919/1248470983.py:34: FutureWarning: Series.__getitem__ treating keys as positions is deprecated. In a future version, integer keys will always be treated as labels (consistent with DataFrame behavior). To access a value by position, use `ser.iloc[pos]`\n",
      "  coefficients[i] = coefficients[i] / std_selected[i]\n"
     ]
    }
   ],
   "source": [
    "LassoL0Fit(X_reduced, Y.copy(), 1);"
   ]
  },
  {
   "cell_type": "code",
   "execution_count": 13,
   "id": "3c31bab9-ce56-4984-9070-1eca695a3de8",
   "metadata": {},
   "outputs": [
    {
     "name": "stdout",
     "output_type": "stream",
     "text": [
      "Lasso: selected coefficients are: [1.96095066 1.77770019 3.1736172 ]\n",
      "Lasso: selected features are: ['([AM:Young])*([AD:Volume]^2)' '([AD:Volume]^2)*((1-m)^2)*(m^2)']\n",
      "Constructed function is: 0.0010260376673477058 * ([AM:Young])*([AD:Volume]^2) + 2.579989589338383 * ([AD:Volume]^2)*((1-m)^2)*(m^2) + 0.029643792688973658\n",
      "Lasso L0: 2 coef\n",
      "=========\n",
      "Mean absolute error: 0.0850890795231624\n",
      "Mean squared error: 0.025208161111726086\n",
      "Mean absolute percentage error: 0.1033217914826727\n"
     ]
    },
    {
     "name": "stderr",
     "output_type": "stream",
     "text": [
      "/var/folders/_0/q128s8pd1lb95k4pms0qlpw40000gn/T/ipykernel_20919/1248470983.py:29: FutureWarning: Series.__getitem__ treating keys as positions is deprecated. In a future version, integer keys will always be treated as labels (consistent with DataFrame behavior). To access a value by position, use `ser.iloc[pos]`\n",
      "  mean_std.append(coefficients[i] * mean_selected[i]/std_selected[i])\n",
      "/var/folders/_0/q128s8pd1lb95k4pms0qlpw40000gn/T/ipykernel_20919/1248470983.py:34: FutureWarning: Series.__getitem__ treating keys as positions is deprecated. In a future version, integer keys will always be treated as labels (consistent with DataFrame behavior). To access a value by position, use `ser.iloc[pos]`\n",
      "  coefficients[i] = coefficients[i] / std_selected[i]\n"
     ]
    }
   ],
   "source": [
    "LassoL0Fit(X_reduced, Y.copy(), 2);"
   ]
  },
  {
   "cell_type": "code",
   "execution_count": 14,
   "id": "c3b8246b-3367-4b59-93a8-d2f09e9ae4d5",
   "metadata": {},
   "outputs": [
    {
     "name": "stdout",
     "output_type": "stream",
     "text": [
      "Lasso: selected coefficients are: [1.67047461 1.77770019 0.32061262 3.1736172 ]\n",
      "Lasso: selected features are: ['([AM:Young])*([AD:Volume]^2)' '([AD:Volume]^2)*((1-m)^2)*(m^2)'\n",
      " '([AM:Young])*([AD:Volume]^2)*((1-m))']\n",
      "Constructed function is: 0.000874050483930846 * ([AM:Young])*([AD:Volume]^2) + 2.5799895893383025 * ([AD:Volume]^2)*((1-m)^2)*(m^2) + 0.0003039743668337763 * ([AM:Young])*([AD:Volume]^2)*((1-m)) + 0.0296437926889781\n",
      "Lasso L0: 3 coef\n",
      "=========\n",
      "Mean absolute error: 0.05475384148280947\n",
      "Mean squared error: 0.0067920586196732035\n",
      "Mean absolute percentage error: 0.10085054801459159\n"
     ]
    },
    {
     "name": "stderr",
     "output_type": "stream",
     "text": [
      "/var/folders/_0/q128s8pd1lb95k4pms0qlpw40000gn/T/ipykernel_20919/1248470983.py:29: FutureWarning: Series.__getitem__ treating keys as positions is deprecated. In a future version, integer keys will always be treated as labels (consistent with DataFrame behavior). To access a value by position, use `ser.iloc[pos]`\n",
      "  mean_std.append(coefficients[i] * mean_selected[i]/std_selected[i])\n",
      "/var/folders/_0/q128s8pd1lb95k4pms0qlpw40000gn/T/ipykernel_20919/1248470983.py:34: FutureWarning: Series.__getitem__ treating keys as positions is deprecated. In a future version, integer keys will always be treated as labels (consistent with DataFrame behavior). To access a value by position, use `ser.iloc[pos]`\n",
      "  coefficients[i] = coefficients[i] / std_selected[i]\n"
     ]
    }
   ],
   "source": [
    "LassoL0Fit(X_reduced, Y.copy(), 3);"
   ]
  },
  {
   "cell_type": "code",
   "execution_count": 15,
   "id": "c884e6fc-a711-488d-8ca7-d5218f8827d4",
   "metadata": {},
   "outputs": [
    {
     "name": "stdout",
     "output_type": "stream",
     "text": [
      "Lasso: selected coefficients are: [-2.3438992   1.77581914  0.31904368  4.01355655  3.1736172 ]\n",
      "Lasso: selected features are: ['([AM:Young]^2)*([AD:Volume]^2)' '([AD:Volume]^2)*((1-m)^2)*(m^2)'\n",
      " '([AM:Young])*([AD:Volume]^2)*((1-m))'\n",
      " '((1/[AM:Volume]])^2)*([AM:Young])*([AD:Volume]^2)']\n",
      "Constructed function is: -8.613993668738834e-06 * ([AM:Young]^2)*([AD:Volume]^2) + 2.5772596020997334 * ([AD:Volume]^2)*((1-m)^2)*(m^2) + 0.00030248684158813287 * ([AM:Young])*([AD:Volume]^2)*((1-m)) + 11.86813708430403 * ((1/[AM:Volume]])^2)*([AM:Young])*([AD:Volume]^2) + 0.0031437652015791073\n",
      "Lasso L0: 4 coef\n",
      "=========\n",
      "Mean absolute error: 0.04498602823024534\n",
      "Mean squared error: 0.004668711035258494\n",
      "Mean absolute percentage error: 0.04124155444208587\n"
     ]
    },
    {
     "name": "stderr",
     "output_type": "stream",
     "text": [
      "/var/folders/_0/q128s8pd1lb95k4pms0qlpw40000gn/T/ipykernel_20919/1248470983.py:29: FutureWarning: Series.__getitem__ treating keys as positions is deprecated. In a future version, integer keys will always be treated as labels (consistent with DataFrame behavior). To access a value by position, use `ser.iloc[pos]`\n",
      "  mean_std.append(coefficients[i] * mean_selected[i]/std_selected[i])\n",
      "/var/folders/_0/q128s8pd1lb95k4pms0qlpw40000gn/T/ipykernel_20919/1248470983.py:34: FutureWarning: Series.__getitem__ treating keys as positions is deprecated. In a future version, integer keys will always be treated as labels (consistent with DataFrame behavior). To access a value by position, use `ser.iloc[pos]`\n",
      "  coefficients[i] = coefficients[i] / std_selected[i]\n"
     ]
    }
   ],
   "source": [
    "LassoL0Fit(X_reduced, Y.copy(), 4);"
   ]
  },
  {
   "cell_type": "code",
   "execution_count": 16,
   "id": "4416a243-14e4-4a25-ad15-b7d7e58acc93",
   "metadata": {},
   "outputs": [
    {
     "name": "stdout",
     "output_type": "stream",
     "text": [
      "Lasso: selected coefficients are: [-5.36143064 -1.72159004  2.7025569   0.32180538  7.83059915  3.1736172 ]\n",
      "Lasso: selected features are: ['([AM:Young]^2)*([AD:Volume]^2)' '([AD:Volume]^2)*((1-m))*(m)'\n",
      " '([AD:Volume]^2)*((1-m)^2)*(m^2)' '([AM:Young])*([AD:Volume]^2)*((1-m))'\n",
      " '((1/[AM:Volume]])^2)*([AM:Young])*([AD:Volume]^2)']\n",
      "Constructed function is: -1.9703632951709814e-05 * ([AM:Young]^2)*([AD:Volume]^2) - 0.572610148147516 * ([AD:Volume]^2)*((1-m))*(m) + 3.9222410563153667 * ([AD:Volume]^2)*((1-m)^2)*(m^2) + 0.0003051052234372737 * ([AM:Young])*([AD:Volume]^2)*((1-m)) + 23.155179952420955 * ((1/[AM:Volume]])^2)*([AM:Young])*([AD:Volume]^2) - 0.015498086621307916\n",
      "Lasso L0: 5 coef\n",
      "=========\n",
      "Mean absolute error: 0.04089681872292345\n",
      "Mean squared error: 0.0037589932608058977\n",
      "Mean absolute percentage error: 0.04356308494500676\n"
     ]
    },
    {
     "name": "stderr",
     "output_type": "stream",
     "text": [
      "/var/folders/_0/q128s8pd1lb95k4pms0qlpw40000gn/T/ipykernel_20919/1248470983.py:29: FutureWarning: Series.__getitem__ treating keys as positions is deprecated. In a future version, integer keys will always be treated as labels (consistent with DataFrame behavior). To access a value by position, use `ser.iloc[pos]`\n",
      "  mean_std.append(coefficients[i] * mean_selected[i]/std_selected[i])\n",
      "/var/folders/_0/q128s8pd1lb95k4pms0qlpw40000gn/T/ipykernel_20919/1248470983.py:34: FutureWarning: Series.__getitem__ treating keys as positions is deprecated. In a future version, integer keys will always be treated as labels (consistent with DataFrame behavior). To access a value by position, use `ser.iloc[pos]`\n",
      "  coefficients[i] = coefficients[i] / std_selected[i]\n"
     ]
    }
   ],
   "source": [
    "LassoL0Fit(X_reduced, Y.copy(), 5);"
   ]
  }
 ],
 "metadata": {
  "kernelspec": {
   "display_name": "Python 3 (ipykernel)",
   "language": "python",
   "name": "python3"
  },
  "language_info": {
   "codemirror_mode": {
    "name": "ipython",
    "version": 3
   },
   "file_extension": ".py",
   "mimetype": "text/x-python",
   "name": "python",
   "nbconvert_exporter": "python",
   "pygments_lexer": "ipython3",
   "version": "3.9.6"
  }
 },
 "nbformat": 4,
 "nbformat_minor": 5
}
